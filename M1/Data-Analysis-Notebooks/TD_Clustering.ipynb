{
 "cells": [
  {
   "cell_type": "markdown",
   "metadata": {},
   "source": [
    "# Clustering practical course 1\n",
    "\n",
    "The aim of this practical session is to apply the different clustering algorithms seen in class: K-Means, Hierarchical clustering and Spectral clustering in order to cluster patients into two groups: chronic kidney disease patients and no chronic kidney disease patients. \n",
    "\n",
    "**Reminder: Clustering algorithms are unsupervised methods and hence we do not use the labels when applying them. However, we can use them afterwards as an evaluation step.**\n",
    "\n",
    "**Useful links: \n",
    "Before using any method, it is important to know how and when to use it. For this, you can refer to the extra notebooks: KMeansClusteringwithPython.ipynb, ClusteringPython.ipynb and SpectralClustering.ipynb.**\n",
    "\n",
    "**In addition, there is a Scikit Learn user guide that you can find here : https://scikit-learn.org/stable/user_guide.html and a Pandas user guide that you can find her: https://pandas.pydata.org/pandas-docs/stable/user_guide/index.html.** \n",
    "\n",
    "## Data Description\n",
    "\n",
    "We will use a data frame with 400 instances on the following 24 variables.\n",
    "* Attribute Information:\n",
    "We use 24 ( 11 numeric, 13 nominal) \n",
    "\n",
    "1.Age(numerical) \n",
    "age in years \n",
    "\n",
    "2.Blood Pressure(numerical) \n",
    "bp in mm/Hg \n",
    "\n",
    "3.Specific Gravity(nominal??) \n",
    "sg - (1.005,1.010,1.015,1.020,1.025) \n",
    "\n",
    "4.Albumin(nominal??) \n",
    "al - (0,1,2,3,4,5) \n",
    "\n",
    "5.Sugar(nominal??) \n",
    "su - (0,1,2,3,4,5) \n",
    "\n",
    "6.Red Blood Cells(nominal) \n",
    "rbc - (normal,abnormal) \n",
    "\n",
    "7.Pus Cell (nominal) \n",
    "pc - (normal,abnormal) \n",
    "\n",
    "8.Pus Cell clumps(nominal) \n",
    "pcc - (present,notpresent) \n",
    "\n",
    "9.Bacteria(nominal) \n",
    "ba - (present,notpresent) \n",
    "\n",
    "10.Blood Glucose Random(numerical)\t\n",
    "bgr in mgs/dl \n",
    "\n",
    "11.Blood Urea(numerical)\t\n",
    "bu in mgs/dl\n",
    "\n",
    "12.Serum Creatinine(numerical)\t\n",
    "sc in mgs/dl\n",
    "\n",
    "13.Sodium(numerical) \n",
    "sod in mEq/L \n",
    "\n",
    "14.Potassium(numerical)\t\n",
    "pot in mEq/L \n",
    "\n",
    "15.Hemoglobin(numerical) \n",
    "hemo in gms \n",
    "\n",
    "16.Packed Cell Volume(numerical) \n",
    "\n",
    "17.White Blood Cell Count(numerical) \n",
    "wc in cells/cumm \n",
    "\n",
    "18.Red Blood Cell Count(numerical)\t\n",
    "rc in millions/cmm \n",
    "\n",
    "19.Hypertension(nominal)\t\n",
    "htn - (yes,no) \n",
    "\n",
    "20.Diabetes Mellitus(nominal)\t\n",
    "dm - (yes,no) \n",
    "\n",
    "21.Coronary Artery Disease(nominal) \n",
    "cad - (yes,no) \n",
    "\n",
    "22.Appetite(nominal)\t\n",
    "appet - (good,poor) \n",
    "\n",
    "23.Pedal Edema(nominal) \n",
    "pe - (yes,no)\t\n",
    "\n",
    "24.Anemia(nominal) \n",
    "ane - (yes,no) \n",
    "\n"
   ]
  },
  {
   "cell_type": "markdown",
   "metadata": {},
   "source": [
    "## Mount Drive \n",
    "\n",
    "The following code is to be executed in case you are using Google Colab **ONLY**."
   ]
  },
  {
   "cell_type": "code",
   "execution_count": null,
   "metadata": {},
   "outputs": [],
   "source": [
    "import os\n",
    "from google.colab import drive\n",
    "\n",
    "drive.mount('/content/drive')\n",
    "\n",
    "# Change to the directory to where your files are\n",
    "os.chdir('drive/My Drive/')  "
   ]
  },
  {
   "cell_type": "markdown",
   "metadata": {},
   "source": [
    "## Import librairies\n",
    "\n",
    "**First, we import the libraries we usually use for data analysis: numpy, pandas, matplotlib and seaborn.**"
   ]
  },
  {
   "cell_type": "code",
   "execution_count": null,
   "metadata": {},
   "outputs": [],
   "source": [
    "import pandas as pd\n",
    "import numpy as np\n",
    "import matplotlib.pyplot as plt\n",
    "import seaborn as sns\n",
    "%matplotlib inline"
   ]
  },
  {
   "cell_type": "markdown",
   "metadata": {},
   "source": [
    "## Import the data\n",
    "\n",
    "**Read in the \"chronic_kidney_disease\" file using read_csv.**"
   ]
  },
  {
   "cell_type": "code",
   "execution_count": null,
   "metadata": {},
   "outputs": [],
   "source": []
  },
  {
   "cell_type": "markdown",
   "metadata": {},
   "source": [
    "**After importing the data, we need to check what it looks like and its properties. Use the panda's head, describe and info functions.**"
   ]
  },
  {
   "cell_type": "code",
   "execution_count": null,
   "metadata": {},
   "outputs": [],
   "source": []
  },
  {
   "cell_type": "markdown",
   "metadata": {},
   "source": [
    "## Data Preparation\n",
    "\n",
    "**There are multiple things we need to do before being able to apply any clustering algorithm:**\n",
    "\n",
    "**1- Separate the labels from the variables**\n",
    "\n",
    "**2- Separate the numerical from the categorical variables**\n",
    "\n",
    "**3- Replace the missing values from both numerical and categorical variables**"
   ]
  },
  {
   "cell_type": "code",
   "execution_count": null,
   "metadata": {},
   "outputs": [],
   "source": [
    "#1- Separate the labels from the variables\n",
    "data = df.drop(\"class\", axis =1)\n",
    "labels = df[\"class\"]"
   ]
  },
  {
   "cell_type": "code",
   "execution_count": null,
   "metadata": {},
   "outputs": [],
   "source": [
    "# 2-Separate the numerical from the categorical variables\n",
    "\n",
    "data_num = data[[\"age\", \"bp\",\"sg\", \"al\", \"su\", \"bgr\", \"bu\", \"sc\", \"sod\", \"pot\", \"hemo\",\"pcv\", \"wbcc\", \"rbcc\"]]\n",
    "\n",
    "# (Do the same for the categorical attributes)\n",
    "\n",
    "# Help: the nominal attributes are: \"rbc\",\"pc\",\"pcc\",\"ba\",\"htn\",\"dm\", \"cad\", \"appet\", \"pe\", \"ane\"\n"
   ]
  },
  {
   "cell_type": "code",
   "execution_count": null,
   "metadata": {},
   "outputs": [],
   "source": [
    "# 3- Replace the missing values from both numerical and categorical variables\n",
    "# In the case of numerical variables, we will replace the missing values by the median.\n",
    "# In the case of nominal variables, we will first transform and represent them into numerical values \n",
    "# using factorize (search the pandas user guide for more info ) and then we will replace the missing \n",
    "# values by the most frequent one. \n",
    "\n",
    "# Numerical: \n",
    "from sklearn.impute import SimpleImputer\n",
    "imputer = SimpleImputer(strategy=\"median\")\n",
    "imputer.fit(data_num)\n",
    "\n",
    "# (Do the same for the categorical attributes)\n",
    "# Use the scikit learn user guide to find the correct strategy to use.\n",
    "\n",
    "\n"
   ]
  },
  {
   "cell_type": "code",
   "execution_count": 3,
   "metadata": {},
   "outputs": [],
   "source": [
    "# Concatenate the two datasets again into one dataframe called: data_tr\n",
    "\n"
   ]
  },
  {
   "cell_type": "markdown",
   "metadata": {},
   "source": [
    "## Data Visualization\n",
    "It's time to create some data visualizations! "
   ]
  },
  {
   "cell_type": "code",
   "execution_count": null,
   "metadata": {},
   "outputs": [],
   "source": []
  },
  {
   "cell_type": "markdown",
   "metadata": {},
   "source": [
    "## Applying K-Means and Hierarchical clustering\n",
    "\n",
    "**Before applying Silhouette and finding the appropriate number of clusters, try a simple run of both K-Means and Hierarchical clustering in order to better understand how they works** "
   ]
  },
  {
   "cell_type": "code",
   "execution_count": null,
   "metadata": {},
   "outputs": [],
   "source": [
    "# K-Means\n",
    "\n",
    "\n",
    "# Hierarchical clustering"
   ]
  },
  {
   "cell_type": "markdown",
   "metadata": {},
   "source": [
    "## Number of clusters\n",
    "\n",
    "**In a clustering algorithm, it is always important to have the best number of clusters for the data we have. To save time trying different cluster numbers, we will use the silhouette method (on both K-Means and hierarchical) to directly define it.** "
   ]
  },
  {
   "cell_type": "code",
   "execution_count": null,
   "metadata": {},
   "outputs": [],
   "source": [
    "# We will start with K-Means. \n",
    "\n",
    "#First, we define the range in which we will search for our number of clusters. \n",
    "range_n_clusters = range(2,5)\n",
    "\n",
    "# Kmeans\n",
    "\n",
    "# Import KMeans from SciKit Learn\n",
    "from sklearn.cluster import KMeans\n",
    "import matplotlib.cm as cm\n",
    "\n",
    "for n_clusters in range_n_clusters:\n",
    "    # Create a subplot with 1 row and 2 columns\n",
    "    fig, (ax1, ax2) = plt.subplots(1, 2)\n",
    "    fig.set_size_inches(18, 7)\n",
    "\n",
    "    # The 1st subplot is the silhouette plot\n",
    "    # The silhouette coefficient can range from -1, 1 but in this example all\n",
    "    # lie within [-0.1, 1]\n",
    "    ax1.set_xlim([-0.1, 1])\n",
    "    # The (n_clusters+1)*10 is for inserting blank space between silhouette\n",
    "    # plots of individual clusters, to demarcate them clearly.\n",
    "    ax1.set_ylim([0, len(X) + (n_clusters + 1) * 10])\n",
    "\n",
    "    # Initialize the clusterer with n_clusters value and a random generator\n",
    "    # seed of 10 for reproducibility.\n",
    "  \n",
    "    # Apply K-Means here and save the predicted labels (the class in which each sample was classified)\n",
    "\n",
    "\n",
    "\n",
    "\n",
    "    # Compute silhouette_avg the variable containig the average silhouette \n",
    "    # using the silhouette_score function.\n",
    "     \n",
    "    \n",
    "    # Print the average obtained using the Silhouette score function\n",
    "\n",
    "    \n",
    "    \n",
    "\n",
    "    # Compute sample_silhouette_values, the variable containing the silhouette scores for each sample using \n",
    "    # silhouette_samples function\n",
    "\n",
    "    \n",
    "    \n",
    "    y_lower = 10\n",
    "    for i in range(n_clusters):\n",
    "        # Aggregate the silhouette scores for samples belonging to\n",
    "        # cluster i, and sort them\n",
    "        ith_cluster_silhouette_values = \\\n",
    "            sample_silhouette_values[cluster_labels == i]\n",
    "\n",
    "        ith_cluster_silhouette_values.sort()\n",
    "\n",
    "        size_cluster_i = ith_cluster_silhouette_values.shape[0]\n",
    "        y_upper = y_lower + size_cluster_i\n",
    "\n",
    "        color = cm.nipy_spectral(float(i) / n_clusters)\n",
    "        ax1.fill_betweenx(np.arange(y_lower, y_upper),\n",
    "                          0, ith_cluster_silhouette_values,\n",
    "                          facecolor=color, edgecolor=color, alpha=0.7)\n",
    "\n",
    "        # Label the silhouette plots with their cluster numbers at the middle\n",
    "        ax1.text(-0.05, y_lower + 0.5 * size_cluster_i, str(i))\n",
    "\n",
    "        # Compute the new y_lower for next plot\n",
    "        y_lower = y_upper + 10  # 10 for the 0 samples\n",
    "\n",
    "    ax1.set_title(\"The silhouette plot for the various clusters.\")\n",
    "    ax1.set_xlabel(\"The silhouette coefficient values\")\n",
    "    ax1.set_ylabel(\"Cluster label\")\n",
    "\n",
    "    # The vertical line for average silhouette score of all the values\n",
    "    ax1.axvline(x=silhouette_avg, color=\"red\", linestyle=\"--\")\n",
    " \n",
    "\n",
    "    ax1.set_yticks([])  # Clear the yaxis labels / ticks\n",
    "    ax1.set_xticks([-0.1, 0, 0.2, 0.4, 0.6, 0.8, 1])\n",
    "\n",
    "    # 2nd Plot showing the actual clusters formed\n",
    "    colors = cm.nipy_spectral(cluster_labels.astype(float) / n_clusters)\n",
    "    ax2.scatter(X[:, 0], X[:, 1], marker='.', s=30, lw=0, alpha=0.7,\n",
    "                c=colors, edgecolor='k')\n",
    "\n",
    "    # Labeling the clusters\n",
    "    centers = clusterer.cluster_centers_\n",
    "    # Draw white circles at cluster centers\n",
    "    ax2.scatter(centers[:, 0], centers[:, 1], marker='o',\n",
    "                c=\"white\", alpha=1, s=200, edgecolor='k')\n",
    "\n",
    "    for i, c in enumerate(centers):\n",
    "        ax2.scatter(c[0], c[1], marker='$%d$' % i, alpha=1,\n",
    "                    s=50, edgecolor='k')\n",
    "\n",
    "    ax2.set_title(\"The visualization of the clustered data.\")\n",
    "    ax2.set_xlabel(\"Feature space for the 1st feature\")\n",
    "    ax2.set_ylabel(\"Feature space for the 2nd feature\")\n",
    "\n",
    "    plt.suptitle((\"Silhouette analysis for KMeans clustering on sample data \"\n",
    "                  \"with n_clusters = %d\" % n_clusters),\n",
    "                 fontsize=14, fontweight='bold')\n",
    "\n",
    "plt.show()\n"
   ]
  },
  {
   "cell_type": "code",
   "execution_count": null,
   "metadata": {},
   "outputs": [],
   "source": [
    "# We will now do the same for the Hierarchical clustering algorithm. "
   ]
  },
  {
   "cell_type": "markdown",
   "metadata": {},
   "source": [
    "## K Means Cluster Creation"
   ]
  },
  {
   "cell_type": "markdown",
   "metadata": {},
   "source": [
    "**Create an instance of a K Means model with the selected number of clusters.**"
   ]
  },
  {
   "cell_type": "code",
   "execution_count": null,
   "metadata": {},
   "outputs": [],
   "source": []
  },
  {
   "cell_type": "markdown",
   "metadata": {},
   "source": [
    "**Fit the model to all the data except for the class label.**"
   ]
  },
  {
   "cell_type": "code",
   "execution_count": null,
   "metadata": {},
   "outputs": [],
   "source": []
  },
  {
   "cell_type": "markdown",
   "metadata": {},
   "source": [
    "**What are the cluster center vectors?**"
   ]
  },
  {
   "cell_type": "code",
   "execution_count": null,
   "metadata": {},
   "outputs": [],
   "source": []
  },
  {
   "cell_type": "markdown",
   "metadata": {},
   "source": [
    "# Hierarchical clustering\n",
    "**Create an instance of a hierarchical clustering model with the selected number of clusters.**"
   ]
  },
  {
   "cell_type": "code",
   "execution_count": null,
   "metadata": {},
   "outputs": [],
   "source": []
  },
  {
   "cell_type": "markdown",
   "metadata": {},
   "source": [
    "**Visualize the resulting assignment vector**"
   ]
  },
  {
   "cell_type": "code",
   "execution_count": null,
   "metadata": {},
   "outputs": [],
   "source": []
  },
  {
   "cell_type": "markdown",
   "metadata": {},
   "source": [
    "**What are the properties of the model? (Which distance was used, which linkage method, etc)**"
   ]
  },
  {
   "cell_type": "code",
   "execution_count": null,
   "metadata": {},
   "outputs": [],
   "source": []
  },
  {
   "cell_type": "markdown",
   "metadata": {},
   "source": [
    "## Evaluation\n",
    "\n",
    "There is no perfect way to evaluate clustering if you don't have the labels. In this practical course we take advantage of the availability of labels to evaluate our clusters.\n",
    "\n",
    "**Create a new column for df called 'Cluster_model', which is a class column for each model.**"
   ]
  },
  {
   "cell_type": "code",
   "execution_count": null,
   "metadata": {},
   "outputs": [],
   "source": []
  },
  {
   "cell_type": "markdown",
   "metadata": {},
   "source": [
    "**Create a confusion matrix and classification report to see how well the clustering algorithms worked without being given any labels.**"
   ]
  },
  {
   "cell_type": "code",
   "execution_count": null,
   "metadata": {},
   "outputs": [],
   "source": [
    "from sklearn.metrics import confusion_matrix,classification_report\n",
    "\n",
    "#K Means\n",
    "\n",
    "\n",
    "# Hierarchical clustering"
   ]
  },
  {
   "cell_type": "markdown",
   "metadata": {},
   "source": [
    "## Spectral Clustering\n",
    "\n",
    "**Next, we will compare Spectral Clustering and K-Means on the same data.** "
   ]
  },
  {
   "cell_type": "code",
   "execution_count": null,
   "metadata": {},
   "outputs": [],
   "source": []
  },
  {
   "cell_type": "markdown",
   "metadata": {},
   "source": [
    "**Create an instance of a Spectral Clustering model**"
   ]
  },
  {
   "cell_type": "code",
   "execution_count": null,
   "metadata": {},
   "outputs": [],
   "source": []
  },
  {
   "cell_type": "markdown",
   "metadata": {},
   "source": [
    "## Evaluation\n",
    "**Similarily to the previous algorithms, create a confusion matrix and compare to the previous methods.**"
   ]
  },
  {
   "cell_type": "code",
   "execution_count": null,
   "metadata": {},
   "outputs": [],
   "source": []
  }
 ],
 "metadata": {
  "kernelspec": {
   "display_name": "Python 3",
   "language": "python",
   "name": "python3"
  },
  "language_info": {
   "codemirror_mode": {
    "name": "ipython",
    "version": 3
   },
   "file_extension": ".py",
   "mimetype": "text/x-python",
   "name": "python",
   "nbconvert_exporter": "python",
   "pygments_lexer": "ipython3",
   "version": "3.8.2"
  }
 },
 "nbformat": 4,
 "nbformat_minor": 2
}
