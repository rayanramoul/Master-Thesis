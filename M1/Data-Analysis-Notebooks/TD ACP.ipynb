{
 "cells": [
  {
   "cell_type": "markdown",
   "metadata": {
    "colab_type": "text",
    "id": "u8vwRIunRWa_"
   },
   "source": [
    "# Principal Component Analysis Practical Course\n",
    "For this practical course we will use Principal Component Analysis (PCA) to visualize the patients described in the Chronic_Kidney_Disease dadaset.\n",
    "\n",
    "It is **important to note that we will NOT use the labels for the PCA.** "
   ]
  },
  {
   "cell_type": "markdown",
   "metadata": {
    "colab_type": "text",
    "id": "LOkk8MDZRWbA"
   },
   "source": [
    "## Import Libraries\n",
    "\n",
    "### Import the libraries you usually use for data analysis."
   ]
  },
  {
   "cell_type": "code",
   "execution_count": 1,
   "metadata": {
    "colab": {},
    "colab_type": "code",
    "id": "9jwrfA3MRWbB"
   },
   "outputs": [],
   "source": [
    "import os\n",
    "from sklearn.metrics import silhouette_samples, silhouette_score # basic ML models\n",
    "import pandas as pd # data frame\n",
    "import numpy as np # manipulate N-dimensional arrays\n",
    "import matplotlib.pyplot as plt # data plotting\n",
    "import seaborn as sns # data visualization \n",
    "import scipy # scientific computing library\n",
    "%matplotlib inline"
   ]
  },
  {
   "cell_type": "markdown",
   "metadata": {
    "colab_type": "text",
    "id": "NbbEEnkpRWbE"
   },
   "source": [
    "## Data Acquisition and Pre-analysis"
   ]
  },
  {
   "cell_type": "markdown",
   "metadata": {
    "colab_type": "text",
    "id": "TmHQPPWoRWbE"
   },
   "source": [
    "### Read in the \"chronic_kidney_disease\" file using read_csv."
   ]
  },
  {
   "cell_type": "code",
   "execution_count": 2,
   "metadata": {},
   "outputs": [],
   "source": [
    "df = pd.read_csv('chronic_kidney_disease.csv', header=0)"
   ]
  },
  {
   "cell_type": "markdown",
   "metadata": {},
   "source": [
    "### Characteristics of the data"
   ]
  },
  {
   "cell_type": "markdown",
   "metadata": {},
   "source": [
    "1.Age(numerical) \n",
    "age in years \n",
    "\n",
    "2.Blood Pressure(numerical) \n",
    "bp in mm/Hg \n",
    "\n",
    "3.Specific Gravity(nominal??) \n",
    "sg - (1.005,1.010,1.015,1.020,1.025) \n",
    "\n",
    "4.Albumin(nominal??) \n",
    "al - (0,1,2,3,4,5) \n",
    "\n",
    "5.Sugar(nominal??) \n",
    "su - (0,1,2,3,4,5) \n",
    "\n",
    "6.Red Blood Cells(nominal) \n",
    "rbc - (normal,abnormal) \n",
    "\n",
    "7.Pus Cell (nominal) \n",
    "pc - (normal,abnormal) \n",
    "\n",
    "8.Pus Cell clumps(nominal) \n",
    "pcc - (present,notpresent) \n",
    "\n",
    "9.Bacteria(nominal) \n",
    "ba - (present,notpresent) \n",
    "\n",
    "10.Blood Glucose Random(numerical)\t\n",
    "bgr in mgs/dl \n",
    "\n",
    "11.Blood Urea(numerical)\t\n",
    "bu in mgs/dl\n",
    "\n",
    "12.Serum Creatinine(numerical)\t\n",
    "sc in mgs/dl\n",
    "\n",
    "13.Sodium(numerical) \n",
    "sod in mEq/L \n",
    "\n",
    "14.Potassium(numerical)\t\n",
    "pot in mEq/L \n",
    "\n",
    "15.Hemoglobin(numerical) \n",
    "hemo in gms \n",
    "\n",
    "16.Packed Cell Volume(numerical) \n",
    "\n",
    "17.White Blood Cell Count(numerical) \n",
    "wc in cells/cumm \n",
    "\n",
    "18.Red Blood Cell Count(numerical)\t\n",
    "rc in millions/cmm \n",
    "\n",
    "19.Hypertension(nominal)\t\n",
    "htn - (yes,no) \n",
    "\n",
    "20.Diabetes Mellitus(nominal)\t\n",
    "dm - (yes,no) \n",
    "\n",
    "21.Coronary Artery Disease(nominal) \n",
    "cad - (yes,no) \n",
    "\n",
    "22.Appetite(nominal)\t\n",
    "appet - (good,poor) \n",
    "\n",
    "23.Pedal Edema(nominal) \n",
    "pe - (yes,no)\t\n",
    "\n",
    "24.Anemia(nominal) \n",
    "ane - (yes,no) "
   ]
  },
  {
   "cell_type": "markdown",
   "metadata": {
    "colab_type": "text",
    "id": "6e6t-a6jRWbH"
   },
   "source": [
    "### Check the head of the data"
   ]
  },
  {
   "cell_type": "code",
   "execution_count": 3,
   "metadata": {
    "colab": {},
    "colab_type": "code",
    "id": "KteUvFQdRWbI",
    "outputId": "a8245daf-447b-4220-d85d-9f84b805c057"
   },
   "outputs": [
    {
     "data": {
      "text/html": [
       "<div>\n",
       "<style scoped>\n",
       "    .dataframe tbody tr th:only-of-type {\n",
       "        vertical-align: middle;\n",
       "    }\n",
       "\n",
       "    .dataframe tbody tr th {\n",
       "        vertical-align: top;\n",
       "    }\n",
       "\n",
       "    .dataframe thead th {\n",
       "        text-align: right;\n",
       "    }\n",
       "</style>\n",
       "<table border=\"1\" class=\"dataframe\">\n",
       "  <thead>\n",
       "    <tr style=\"text-align: right;\">\n",
       "      <th></th>\n",
       "      <th>age</th>\n",
       "      <th>bp</th>\n",
       "      <th>sg</th>\n",
       "      <th>al</th>\n",
       "      <th>su</th>\n",
       "      <th>rbc</th>\n",
       "      <th>pc</th>\n",
       "      <th>pcc</th>\n",
       "      <th>ba</th>\n",
       "      <th>bgr</th>\n",
       "      <th>...</th>\n",
       "      <th>pcv</th>\n",
       "      <th>wbcc</th>\n",
       "      <th>rbcc</th>\n",
       "      <th>htn</th>\n",
       "      <th>dm</th>\n",
       "      <th>cad</th>\n",
       "      <th>appet</th>\n",
       "      <th>pe</th>\n",
       "      <th>ane</th>\n",
       "      <th>class</th>\n",
       "    </tr>\n",
       "  </thead>\n",
       "  <tbody>\n",
       "    <tr>\n",
       "      <th>0</th>\n",
       "      <td>48.0</td>\n",
       "      <td>80.0</td>\n",
       "      <td>1.020</td>\n",
       "      <td>1.0</td>\n",
       "      <td>0.0</td>\n",
       "      <td>NaN</td>\n",
       "      <td>normal</td>\n",
       "      <td>notpresent</td>\n",
       "      <td>notpresent</td>\n",
       "      <td>121.0</td>\n",
       "      <td>...</td>\n",
       "      <td>44</td>\n",
       "      <td>7800</td>\n",
       "      <td>5.2</td>\n",
       "      <td>yes</td>\n",
       "      <td>yes</td>\n",
       "      <td>no</td>\n",
       "      <td>good</td>\n",
       "      <td>no</td>\n",
       "      <td>no</td>\n",
       "      <td>ckd</td>\n",
       "    </tr>\n",
       "    <tr>\n",
       "      <th>1</th>\n",
       "      <td>7.0</td>\n",
       "      <td>50.0</td>\n",
       "      <td>1.020</td>\n",
       "      <td>4.0</td>\n",
       "      <td>0.0</td>\n",
       "      <td>NaN</td>\n",
       "      <td>normal</td>\n",
       "      <td>notpresent</td>\n",
       "      <td>notpresent</td>\n",
       "      <td>NaN</td>\n",
       "      <td>...</td>\n",
       "      <td>38</td>\n",
       "      <td>6000</td>\n",
       "      <td>NaN</td>\n",
       "      <td>no</td>\n",
       "      <td>no</td>\n",
       "      <td>no</td>\n",
       "      <td>good</td>\n",
       "      <td>no</td>\n",
       "      <td>no</td>\n",
       "      <td>ckd</td>\n",
       "    </tr>\n",
       "    <tr>\n",
       "      <th>2</th>\n",
       "      <td>62.0</td>\n",
       "      <td>80.0</td>\n",
       "      <td>1.010</td>\n",
       "      <td>2.0</td>\n",
       "      <td>3.0</td>\n",
       "      <td>normal</td>\n",
       "      <td>normal</td>\n",
       "      <td>notpresent</td>\n",
       "      <td>notpresent</td>\n",
       "      <td>423.0</td>\n",
       "      <td>...</td>\n",
       "      <td>31</td>\n",
       "      <td>7500</td>\n",
       "      <td>NaN</td>\n",
       "      <td>no</td>\n",
       "      <td>yes</td>\n",
       "      <td>no</td>\n",
       "      <td>poor</td>\n",
       "      <td>no</td>\n",
       "      <td>yes</td>\n",
       "      <td>ckd</td>\n",
       "    </tr>\n",
       "    <tr>\n",
       "      <th>3</th>\n",
       "      <td>48.0</td>\n",
       "      <td>70.0</td>\n",
       "      <td>1.005</td>\n",
       "      <td>4.0</td>\n",
       "      <td>0.0</td>\n",
       "      <td>normal</td>\n",
       "      <td>abnormal</td>\n",
       "      <td>present</td>\n",
       "      <td>notpresent</td>\n",
       "      <td>117.0</td>\n",
       "      <td>...</td>\n",
       "      <td>32</td>\n",
       "      <td>6700</td>\n",
       "      <td>3.9</td>\n",
       "      <td>yes</td>\n",
       "      <td>no</td>\n",
       "      <td>no</td>\n",
       "      <td>poor</td>\n",
       "      <td>yes</td>\n",
       "      <td>yes</td>\n",
       "      <td>ckd</td>\n",
       "    </tr>\n",
       "    <tr>\n",
       "      <th>4</th>\n",
       "      <td>51.0</td>\n",
       "      <td>80.0</td>\n",
       "      <td>1.010</td>\n",
       "      <td>2.0</td>\n",
       "      <td>0.0</td>\n",
       "      <td>normal</td>\n",
       "      <td>normal</td>\n",
       "      <td>notpresent</td>\n",
       "      <td>notpresent</td>\n",
       "      <td>106.0</td>\n",
       "      <td>...</td>\n",
       "      <td>35</td>\n",
       "      <td>7300</td>\n",
       "      <td>4.6</td>\n",
       "      <td>no</td>\n",
       "      <td>no</td>\n",
       "      <td>no</td>\n",
       "      <td>good</td>\n",
       "      <td>no</td>\n",
       "      <td>no</td>\n",
       "      <td>ckd</td>\n",
       "    </tr>\n",
       "  </tbody>\n",
       "</table>\n",
       "<p>5 rows × 25 columns</p>\n",
       "</div>"
      ],
      "text/plain": [
       "    age    bp     sg   al   su     rbc        pc         pcc          ba  \\\n",
       "0  48.0  80.0  1.020  1.0  0.0     NaN    normal  notpresent  notpresent   \n",
       "1   7.0  50.0  1.020  4.0  0.0     NaN    normal  notpresent  notpresent   \n",
       "2  62.0  80.0  1.010  2.0  3.0  normal    normal  notpresent  notpresent   \n",
       "3  48.0  70.0  1.005  4.0  0.0  normal  abnormal     present  notpresent   \n",
       "4  51.0  80.0  1.010  2.0  0.0  normal    normal  notpresent  notpresent   \n",
       "\n",
       "     bgr  ...  pcv  wbcc  rbcc  htn   dm cad appet   pe  ane class  \n",
       "0  121.0  ...   44  7800   5.2  yes  yes  no  good   no   no   ckd  \n",
       "1    NaN  ...   38  6000   NaN   no   no  no  good   no   no   ckd  \n",
       "2  423.0  ...   31  7500   NaN   no  yes  no  poor   no  yes   ckd  \n",
       "3  117.0  ...   32  6700   3.9  yes   no  no  poor  yes  yes   ckd  \n",
       "4  106.0  ...   35  7300   4.6   no   no  no  good   no   no   ckd  \n",
       "\n",
       "[5 rows x 25 columns]"
      ]
     },
     "execution_count": 3,
     "metadata": {},
     "output_type": "execute_result"
    }
   ],
   "source": [
    "df.head()"
   ]
  },
  {
   "cell_type": "markdown",
   "metadata": {
    "colab_type": "text",
    "id": "Ty1ulxA3RWbM"
   },
   "source": [
    "### Check the info() and describe() methods on the data."
   ]
  },
  {
   "cell_type": "code",
   "execution_count": 4,
   "metadata": {
    "colab": {},
    "colab_type": "code",
    "id": "UONs9szkRWbN",
    "outputId": "0048a3ac-e574-457f-fab6-b30219d335d5"
   },
   "outputs": [
    {
     "name": "stdout",
     "output_type": "stream",
     "text": [
      "<class 'pandas.core.frame.DataFrame'>\n",
      "RangeIndex: 400 entries, 0 to 399\n",
      "Data columns (total 25 columns):\n",
      " #   Column  Non-Null Count  Dtype  \n",
      "---  ------  --------------  -----  \n",
      " 0   age     391 non-null    float64\n",
      " 1   bp      388 non-null    float64\n",
      " 2   sg      353 non-null    float64\n",
      " 3   al      354 non-null    float64\n",
      " 4   su      351 non-null    float64\n",
      " 5   rbc     248 non-null    object \n",
      " 6   pc      335 non-null    object \n",
      " 7   pcc     396 non-null    object \n",
      " 8   ba      396 non-null    object \n",
      " 9   bgr     356 non-null    float64\n",
      " 10  bu      381 non-null    float64\n",
      " 11  sc      383 non-null    float64\n",
      " 12  sod     313 non-null    float64\n",
      " 13  pot     312 non-null    float64\n",
      " 14  hemo    348 non-null    float64\n",
      " 15  pcv     330 non-null    object \n",
      " 16  wbcc    295 non-null    object \n",
      " 17  rbcc    270 non-null    object \n",
      " 18  htn     398 non-null    object \n",
      " 19  dm      398 non-null    object \n",
      " 20  cad     398 non-null    object \n",
      " 21  appet   399 non-null    object \n",
      " 22  pe      399 non-null    object \n",
      " 23  ane     399 non-null    object \n",
      " 24  class   400 non-null    object \n",
      "dtypes: float64(11), object(14)\n",
      "memory usage: 78.2+ KB\n"
     ]
    }
   ],
   "source": [
    "df.info()"
   ]
  },
  {
   "cell_type": "code",
   "execution_count": 5,
   "metadata": {
    "colab": {},
    "colab_type": "code",
    "id": "ezsdOY4iRWbP",
    "outputId": "e16bdd34-cacf-45af-e28e-5890a599c218"
   },
   "outputs": [
    {
     "data": {
      "text/html": [
       "<div>\n",
       "<style scoped>\n",
       "    .dataframe tbody tr th:only-of-type {\n",
       "        vertical-align: middle;\n",
       "    }\n",
       "\n",
       "    .dataframe tbody tr th {\n",
       "        vertical-align: top;\n",
       "    }\n",
       "\n",
       "    .dataframe thead th {\n",
       "        text-align: right;\n",
       "    }\n",
       "</style>\n",
       "<table border=\"1\" class=\"dataframe\">\n",
       "  <thead>\n",
       "    <tr style=\"text-align: right;\">\n",
       "      <th></th>\n",
       "      <th>age</th>\n",
       "      <th>bp</th>\n",
       "      <th>sg</th>\n",
       "      <th>al</th>\n",
       "      <th>su</th>\n",
       "      <th>bgr</th>\n",
       "      <th>bu</th>\n",
       "      <th>sc</th>\n",
       "      <th>sod</th>\n",
       "      <th>pot</th>\n",
       "      <th>hemo</th>\n",
       "    </tr>\n",
       "  </thead>\n",
       "  <tbody>\n",
       "    <tr>\n",
       "      <th>count</th>\n",
       "      <td>391.000000</td>\n",
       "      <td>388.000000</td>\n",
       "      <td>353.000000</td>\n",
       "      <td>354.000000</td>\n",
       "      <td>351.000000</td>\n",
       "      <td>356.000000</td>\n",
       "      <td>381.000000</td>\n",
       "      <td>383.000000</td>\n",
       "      <td>313.000000</td>\n",
       "      <td>312.000000</td>\n",
       "      <td>348.000000</td>\n",
       "    </tr>\n",
       "    <tr>\n",
       "      <th>mean</th>\n",
       "      <td>51.483376</td>\n",
       "      <td>76.469072</td>\n",
       "      <td>1.017408</td>\n",
       "      <td>1.016949</td>\n",
       "      <td>0.450142</td>\n",
       "      <td>148.036517</td>\n",
       "      <td>57.425722</td>\n",
       "      <td>3.072454</td>\n",
       "      <td>137.528754</td>\n",
       "      <td>4.627244</td>\n",
       "      <td>12.526437</td>\n",
       "    </tr>\n",
       "    <tr>\n",
       "      <th>std</th>\n",
       "      <td>17.169714</td>\n",
       "      <td>13.683637</td>\n",
       "      <td>0.005717</td>\n",
       "      <td>1.352679</td>\n",
       "      <td>1.099191</td>\n",
       "      <td>79.281714</td>\n",
       "      <td>50.503006</td>\n",
       "      <td>5.741126</td>\n",
       "      <td>10.408752</td>\n",
       "      <td>3.193904</td>\n",
       "      <td>2.912587</td>\n",
       "    </tr>\n",
       "    <tr>\n",
       "      <th>min</th>\n",
       "      <td>2.000000</td>\n",
       "      <td>50.000000</td>\n",
       "      <td>1.005000</td>\n",
       "      <td>0.000000</td>\n",
       "      <td>0.000000</td>\n",
       "      <td>22.000000</td>\n",
       "      <td>1.500000</td>\n",
       "      <td>0.400000</td>\n",
       "      <td>4.500000</td>\n",
       "      <td>2.500000</td>\n",
       "      <td>3.100000</td>\n",
       "    </tr>\n",
       "    <tr>\n",
       "      <th>25%</th>\n",
       "      <td>42.000000</td>\n",
       "      <td>70.000000</td>\n",
       "      <td>1.010000</td>\n",
       "      <td>0.000000</td>\n",
       "      <td>0.000000</td>\n",
       "      <td>99.000000</td>\n",
       "      <td>27.000000</td>\n",
       "      <td>0.900000</td>\n",
       "      <td>135.000000</td>\n",
       "      <td>3.800000</td>\n",
       "      <td>10.300000</td>\n",
       "    </tr>\n",
       "    <tr>\n",
       "      <th>50%</th>\n",
       "      <td>55.000000</td>\n",
       "      <td>80.000000</td>\n",
       "      <td>1.020000</td>\n",
       "      <td>0.000000</td>\n",
       "      <td>0.000000</td>\n",
       "      <td>121.000000</td>\n",
       "      <td>42.000000</td>\n",
       "      <td>1.300000</td>\n",
       "      <td>138.000000</td>\n",
       "      <td>4.400000</td>\n",
       "      <td>12.650000</td>\n",
       "    </tr>\n",
       "    <tr>\n",
       "      <th>75%</th>\n",
       "      <td>64.500000</td>\n",
       "      <td>80.000000</td>\n",
       "      <td>1.020000</td>\n",
       "      <td>2.000000</td>\n",
       "      <td>0.000000</td>\n",
       "      <td>163.000000</td>\n",
       "      <td>66.000000</td>\n",
       "      <td>2.800000</td>\n",
       "      <td>142.000000</td>\n",
       "      <td>4.900000</td>\n",
       "      <td>15.000000</td>\n",
       "    </tr>\n",
       "    <tr>\n",
       "      <th>max</th>\n",
       "      <td>90.000000</td>\n",
       "      <td>180.000000</td>\n",
       "      <td>1.025000</td>\n",
       "      <td>5.000000</td>\n",
       "      <td>5.000000</td>\n",
       "      <td>490.000000</td>\n",
       "      <td>391.000000</td>\n",
       "      <td>76.000000</td>\n",
       "      <td>163.000000</td>\n",
       "      <td>47.000000</td>\n",
       "      <td>17.800000</td>\n",
       "    </tr>\n",
       "  </tbody>\n",
       "</table>\n",
       "</div>"
      ],
      "text/plain": [
       "              age          bp          sg          al          su         bgr  \\\n",
       "count  391.000000  388.000000  353.000000  354.000000  351.000000  356.000000   \n",
       "mean    51.483376   76.469072    1.017408    1.016949    0.450142  148.036517   \n",
       "std     17.169714   13.683637    0.005717    1.352679    1.099191   79.281714   \n",
       "min      2.000000   50.000000    1.005000    0.000000    0.000000   22.000000   \n",
       "25%     42.000000   70.000000    1.010000    0.000000    0.000000   99.000000   \n",
       "50%     55.000000   80.000000    1.020000    0.000000    0.000000  121.000000   \n",
       "75%     64.500000   80.000000    1.020000    2.000000    0.000000  163.000000   \n",
       "max     90.000000  180.000000    1.025000    5.000000    5.000000  490.000000   \n",
       "\n",
       "               bu          sc         sod         pot        hemo  \n",
       "count  381.000000  383.000000  313.000000  312.000000  348.000000  \n",
       "mean    57.425722    3.072454  137.528754    4.627244   12.526437  \n",
       "std     50.503006    5.741126   10.408752    3.193904    2.912587  \n",
       "min      1.500000    0.400000    4.500000    2.500000    3.100000  \n",
       "25%     27.000000    0.900000  135.000000    3.800000   10.300000  \n",
       "50%     42.000000    1.300000  138.000000    4.400000   12.650000  \n",
       "75%     66.000000    2.800000  142.000000    4.900000   15.000000  \n",
       "max    391.000000   76.000000  163.000000   47.000000   17.800000  "
      ]
     },
     "execution_count": 5,
     "metadata": {},
     "output_type": "execute_result"
    }
   ],
   "source": [
    "df.describe()"
   ]
  },
  {
   "cell_type": "markdown",
   "metadata": {},
   "source": [
    "## Data Preparation"
   ]
  },
  {
   "cell_type": "markdown",
   "metadata": {},
   "source": [
    "### Separate the labels from the variables (unsupervised problem)"
   ]
  },
  {
   "cell_type": "code",
   "execution_count": 6,
   "metadata": {},
   "outputs": [],
   "source": [
    "data = df.drop(\"class\", axis =1)\n",
    "labels = df[\"class\"]\n"
   ]
  },
  {
   "cell_type": "markdown",
   "metadata": {},
   "source": [
    "### Replace missing values with a median (or means , zeros, etc.)"
   ]
  },
  {
   "cell_type": "markdown",
   "metadata": {},
   "source": [
    "#### Handling numerical attributes"
   ]
  },
  {
   "cell_type": "code",
   "execution_count": 7,
   "metadata": {},
   "outputs": [],
   "source": [
    "# Replace missing values with a median (or means , zeros, etc.)\n",
    "from sklearn.impute import SimpleImputer\n",
    "imputer = SimpleImputer(strategy=\"median\")\n",
    "#Create a copy without text attribute\n",
    "#Nominal attributes:\"rbc\",\"pc\",\"pcc\",\"ba\",\"htn\",\"dm\", \"cad\", \"appet\", \"pe\", \"ane\"\n",
    "data_num = data[[\"age\", \"bp\",\"sg\", \"al\", \"su\", \"bgr\", \"bu\", \"sc\", \"sod\", \"pot\", \"hemo\",\"pcv\", \"wbcc\", \"rbcc\"]]"
   ]
  },
  {
   "cell_type": "code",
   "execution_count": 8,
   "metadata": {
    "scrolled": true
   },
   "outputs": [
    {
     "data": {
      "text/html": [
       "<div>\n",
       "<style scoped>\n",
       "    .dataframe tbody tr th:only-of-type {\n",
       "        vertical-align: middle;\n",
       "    }\n",
       "\n",
       "    .dataframe tbody tr th {\n",
       "        vertical-align: top;\n",
       "    }\n",
       "\n",
       "    .dataframe thead th {\n",
       "        text-align: right;\n",
       "    }\n",
       "</style>\n",
       "<table border=\"1\" class=\"dataframe\">\n",
       "  <thead>\n",
       "    <tr style=\"text-align: right;\">\n",
       "      <th></th>\n",
       "      <th>age</th>\n",
       "      <th>bp</th>\n",
       "      <th>sg</th>\n",
       "      <th>al</th>\n",
       "      <th>su</th>\n",
       "      <th>bgr</th>\n",
       "      <th>bu</th>\n",
       "      <th>sc</th>\n",
       "      <th>sod</th>\n",
       "      <th>pot</th>\n",
       "      <th>hemo</th>\n",
       "    </tr>\n",
       "  </thead>\n",
       "  <tbody>\n",
       "    <tr>\n",
       "      <th>count</th>\n",
       "      <td>391.000000</td>\n",
       "      <td>388.000000</td>\n",
       "      <td>353.000000</td>\n",
       "      <td>354.000000</td>\n",
       "      <td>351.000000</td>\n",
       "      <td>356.000000</td>\n",
       "      <td>381.000000</td>\n",
       "      <td>383.000000</td>\n",
       "      <td>313.000000</td>\n",
       "      <td>312.000000</td>\n",
       "      <td>348.000000</td>\n",
       "    </tr>\n",
       "    <tr>\n",
       "      <th>mean</th>\n",
       "      <td>51.483376</td>\n",
       "      <td>76.469072</td>\n",
       "      <td>1.017408</td>\n",
       "      <td>1.016949</td>\n",
       "      <td>0.450142</td>\n",
       "      <td>148.036517</td>\n",
       "      <td>57.425722</td>\n",
       "      <td>3.072454</td>\n",
       "      <td>137.528754</td>\n",
       "      <td>4.627244</td>\n",
       "      <td>12.526437</td>\n",
       "    </tr>\n",
       "    <tr>\n",
       "      <th>std</th>\n",
       "      <td>17.169714</td>\n",
       "      <td>13.683637</td>\n",
       "      <td>0.005717</td>\n",
       "      <td>1.352679</td>\n",
       "      <td>1.099191</td>\n",
       "      <td>79.281714</td>\n",
       "      <td>50.503006</td>\n",
       "      <td>5.741126</td>\n",
       "      <td>10.408752</td>\n",
       "      <td>3.193904</td>\n",
       "      <td>2.912587</td>\n",
       "    </tr>\n",
       "    <tr>\n",
       "      <th>min</th>\n",
       "      <td>2.000000</td>\n",
       "      <td>50.000000</td>\n",
       "      <td>1.005000</td>\n",
       "      <td>0.000000</td>\n",
       "      <td>0.000000</td>\n",
       "      <td>22.000000</td>\n",
       "      <td>1.500000</td>\n",
       "      <td>0.400000</td>\n",
       "      <td>4.500000</td>\n",
       "      <td>2.500000</td>\n",
       "      <td>3.100000</td>\n",
       "    </tr>\n",
       "    <tr>\n",
       "      <th>25%</th>\n",
       "      <td>42.000000</td>\n",
       "      <td>70.000000</td>\n",
       "      <td>1.010000</td>\n",
       "      <td>0.000000</td>\n",
       "      <td>0.000000</td>\n",
       "      <td>99.000000</td>\n",
       "      <td>27.000000</td>\n",
       "      <td>0.900000</td>\n",
       "      <td>135.000000</td>\n",
       "      <td>3.800000</td>\n",
       "      <td>10.300000</td>\n",
       "    </tr>\n",
       "    <tr>\n",
       "      <th>50%</th>\n",
       "      <td>55.000000</td>\n",
       "      <td>80.000000</td>\n",
       "      <td>1.020000</td>\n",
       "      <td>0.000000</td>\n",
       "      <td>0.000000</td>\n",
       "      <td>121.000000</td>\n",
       "      <td>42.000000</td>\n",
       "      <td>1.300000</td>\n",
       "      <td>138.000000</td>\n",
       "      <td>4.400000</td>\n",
       "      <td>12.650000</td>\n",
       "    </tr>\n",
       "    <tr>\n",
       "      <th>75%</th>\n",
       "      <td>64.500000</td>\n",
       "      <td>80.000000</td>\n",
       "      <td>1.020000</td>\n",
       "      <td>2.000000</td>\n",
       "      <td>0.000000</td>\n",
       "      <td>163.000000</td>\n",
       "      <td>66.000000</td>\n",
       "      <td>2.800000</td>\n",
       "      <td>142.000000</td>\n",
       "      <td>4.900000</td>\n",
       "      <td>15.000000</td>\n",
       "    </tr>\n",
       "    <tr>\n",
       "      <th>max</th>\n",
       "      <td>90.000000</td>\n",
       "      <td>180.000000</td>\n",
       "      <td>1.025000</td>\n",
       "      <td>5.000000</td>\n",
       "      <td>5.000000</td>\n",
       "      <td>490.000000</td>\n",
       "      <td>391.000000</td>\n",
       "      <td>76.000000</td>\n",
       "      <td>163.000000</td>\n",
       "      <td>47.000000</td>\n",
       "      <td>17.800000</td>\n",
       "    </tr>\n",
       "  </tbody>\n",
       "</table>\n",
       "</div>"
      ],
      "text/plain": [
       "              age          bp          sg          al          su         bgr  \\\n",
       "count  391.000000  388.000000  353.000000  354.000000  351.000000  356.000000   \n",
       "mean    51.483376   76.469072    1.017408    1.016949    0.450142  148.036517   \n",
       "std     17.169714   13.683637    0.005717    1.352679    1.099191   79.281714   \n",
       "min      2.000000   50.000000    1.005000    0.000000    0.000000   22.000000   \n",
       "25%     42.000000   70.000000    1.010000    0.000000    0.000000   99.000000   \n",
       "50%     55.000000   80.000000    1.020000    0.000000    0.000000  121.000000   \n",
       "75%     64.500000   80.000000    1.020000    2.000000    0.000000  163.000000   \n",
       "max     90.000000  180.000000    1.025000    5.000000    5.000000  490.000000   \n",
       "\n",
       "               bu          sc         sod         pot        hemo  \n",
       "count  381.000000  383.000000  313.000000  312.000000  348.000000  \n",
       "mean    57.425722    3.072454  137.528754    4.627244   12.526437  \n",
       "std     50.503006    5.741126   10.408752    3.193904    2.912587  \n",
       "min      1.500000    0.400000    4.500000    2.500000    3.100000  \n",
       "25%     27.000000    0.900000  135.000000    3.800000   10.300000  \n",
       "50%     42.000000    1.300000  138.000000    4.400000   12.650000  \n",
       "75%     66.000000    2.800000  142.000000    4.900000   15.000000  \n",
       "max    391.000000   76.000000  163.000000   47.000000   17.800000  "
      ]
     },
     "execution_count": 8,
     "metadata": {},
     "output_type": "execute_result"
    }
   ],
   "source": [
    "data_num.describe()"
   ]
  },
  {
   "cell_type": "code",
   "execution_count": 9,
   "metadata": {},
   "outputs": [
    {
     "data": {
      "text/plain": [
       "array([5.500e+01, 8.000e+01, 1.020e+00, 0.000e+00, 0.000e+00, 1.210e+02,\n",
       "       4.200e+01, 1.300e+00, 1.380e+02, 4.400e+00, 1.265e+01, 4.000e+01,\n",
       "       8.000e+03, 4.800e+00])"
      ]
     },
     "execution_count": 9,
     "metadata": {},
     "output_type": "execute_result"
    }
   ],
   "source": [
    "#fit the imputer instance to the data\n",
    "imputer.fit(data_num)\n",
    "#imputer.statistics_\n",
    "data_num.median().values"
   ]
  },
  {
   "cell_type": "code",
   "execution_count": 10,
   "metadata": {},
   "outputs": [],
   "source": [
    "#trasform the dataset by replacing the missing values by the medians\n",
    "X = imputer.transform(data_num)\n",
    "data_num_tr = pd.DataFrame(X, columns = data_num.columns)"
   ]
  },
  {
   "cell_type": "code",
   "execution_count": 11,
   "metadata": {},
   "outputs": [
    {
     "data": {
      "text/html": [
       "<div>\n",
       "<style scoped>\n",
       "    .dataframe tbody tr th:only-of-type {\n",
       "        vertical-align: middle;\n",
       "    }\n",
       "\n",
       "    .dataframe tbody tr th {\n",
       "        vertical-align: top;\n",
       "    }\n",
       "\n",
       "    .dataframe thead th {\n",
       "        text-align: right;\n",
       "    }\n",
       "</style>\n",
       "<table border=\"1\" class=\"dataframe\">\n",
       "  <thead>\n",
       "    <tr style=\"text-align: right;\">\n",
       "      <th></th>\n",
       "      <th>age</th>\n",
       "      <th>bp</th>\n",
       "      <th>sg</th>\n",
       "      <th>al</th>\n",
       "      <th>su</th>\n",
       "      <th>bgr</th>\n",
       "      <th>bu</th>\n",
       "      <th>sc</th>\n",
       "      <th>sod</th>\n",
       "      <th>pot</th>\n",
       "      <th>hemo</th>\n",
       "      <th>pcv</th>\n",
       "      <th>wbcc</th>\n",
       "      <th>rbcc</th>\n",
       "    </tr>\n",
       "  </thead>\n",
       "  <tbody>\n",
       "    <tr>\n",
       "      <th>count</th>\n",
       "      <td>400.000000</td>\n",
       "      <td>400.000000</td>\n",
       "      <td>400.000000</td>\n",
       "      <td>400.00000</td>\n",
       "      <td>400.000000</td>\n",
       "      <td>400.000000</td>\n",
       "      <td>400.000000</td>\n",
       "      <td>400.000000</td>\n",
       "      <td>400.000000</td>\n",
       "      <td>400.000000</td>\n",
       "      <td>400.00000</td>\n",
       "      <td>400.000000</td>\n",
       "      <td>400.000000</td>\n",
       "      <td>400.000000</td>\n",
       "    </tr>\n",
       "    <tr>\n",
       "      <th>mean</th>\n",
       "      <td>51.562500</td>\n",
       "      <td>76.575000</td>\n",
       "      <td>1.017712</td>\n",
       "      <td>0.90000</td>\n",
       "      <td>0.395000</td>\n",
       "      <td>145.062500</td>\n",
       "      <td>56.693000</td>\n",
       "      <td>2.997125</td>\n",
       "      <td>137.631250</td>\n",
       "      <td>4.577250</td>\n",
       "      <td>12.54250</td>\n",
       "      <td>39.082500</td>\n",
       "      <td>8298.500000</td>\n",
       "      <td>4.737750</td>\n",
       "    </tr>\n",
       "    <tr>\n",
       "      <th>std</th>\n",
       "      <td>16.982996</td>\n",
       "      <td>13.489785</td>\n",
       "      <td>0.005434</td>\n",
       "      <td>1.31313</td>\n",
       "      <td>1.040038</td>\n",
       "      <td>75.260774</td>\n",
       "      <td>49.395258</td>\n",
       "      <td>5.628886</td>\n",
       "      <td>9.206332</td>\n",
       "      <td>2.821357</td>\n",
       "      <td>2.71649</td>\n",
       "      <td>8.162245</td>\n",
       "      <td>2529.593814</td>\n",
       "      <td>0.841439</td>\n",
       "    </tr>\n",
       "    <tr>\n",
       "      <th>min</th>\n",
       "      <td>2.000000</td>\n",
       "      <td>50.000000</td>\n",
       "      <td>1.005000</td>\n",
       "      <td>0.00000</td>\n",
       "      <td>0.000000</td>\n",
       "      <td>22.000000</td>\n",
       "      <td>1.500000</td>\n",
       "      <td>0.400000</td>\n",
       "      <td>4.500000</td>\n",
       "      <td>2.500000</td>\n",
       "      <td>3.10000</td>\n",
       "      <td>9.000000</td>\n",
       "      <td>2200.000000</td>\n",
       "      <td>2.100000</td>\n",
       "    </tr>\n",
       "    <tr>\n",
       "      <th>25%</th>\n",
       "      <td>42.000000</td>\n",
       "      <td>70.000000</td>\n",
       "      <td>1.015000</td>\n",
       "      <td>0.00000</td>\n",
       "      <td>0.000000</td>\n",
       "      <td>101.000000</td>\n",
       "      <td>27.000000</td>\n",
       "      <td>0.900000</td>\n",
       "      <td>135.000000</td>\n",
       "      <td>4.000000</td>\n",
       "      <td>10.87500</td>\n",
       "      <td>34.000000</td>\n",
       "      <td>6975.000000</td>\n",
       "      <td>4.500000</td>\n",
       "    </tr>\n",
       "    <tr>\n",
       "      <th>50%</th>\n",
       "      <td>55.000000</td>\n",
       "      <td>80.000000</td>\n",
       "      <td>1.020000</td>\n",
       "      <td>0.00000</td>\n",
       "      <td>0.000000</td>\n",
       "      <td>121.000000</td>\n",
       "      <td>42.000000</td>\n",
       "      <td>1.300000</td>\n",
       "      <td>138.000000</td>\n",
       "      <td>4.400000</td>\n",
       "      <td>12.65000</td>\n",
       "      <td>40.000000</td>\n",
       "      <td>8000.000000</td>\n",
       "      <td>4.800000</td>\n",
       "    </tr>\n",
       "    <tr>\n",
       "      <th>75%</th>\n",
       "      <td>64.000000</td>\n",
       "      <td>80.000000</td>\n",
       "      <td>1.020000</td>\n",
       "      <td>2.00000</td>\n",
       "      <td>0.000000</td>\n",
       "      <td>150.000000</td>\n",
       "      <td>61.750000</td>\n",
       "      <td>2.725000</td>\n",
       "      <td>141.000000</td>\n",
       "      <td>4.800000</td>\n",
       "      <td>14.62500</td>\n",
       "      <td>44.000000</td>\n",
       "      <td>9400.000000</td>\n",
       "      <td>5.100000</td>\n",
       "    </tr>\n",
       "    <tr>\n",
       "      <th>max</th>\n",
       "      <td>90.000000</td>\n",
       "      <td>180.000000</td>\n",
       "      <td>1.025000</td>\n",
       "      <td>5.00000</td>\n",
       "      <td>5.000000</td>\n",
       "      <td>490.000000</td>\n",
       "      <td>391.000000</td>\n",
       "      <td>76.000000</td>\n",
       "      <td>163.000000</td>\n",
       "      <td>47.000000</td>\n",
       "      <td>17.80000</td>\n",
       "      <td>54.000000</td>\n",
       "      <td>26400.000000</td>\n",
       "      <td>8.000000</td>\n",
       "    </tr>\n",
       "  </tbody>\n",
       "</table>\n",
       "</div>"
      ],
      "text/plain": [
       "              age          bp          sg         al          su         bgr  \\\n",
       "count  400.000000  400.000000  400.000000  400.00000  400.000000  400.000000   \n",
       "mean    51.562500   76.575000    1.017712    0.90000    0.395000  145.062500   \n",
       "std     16.982996   13.489785    0.005434    1.31313    1.040038   75.260774   \n",
       "min      2.000000   50.000000    1.005000    0.00000    0.000000   22.000000   \n",
       "25%     42.000000   70.000000    1.015000    0.00000    0.000000  101.000000   \n",
       "50%     55.000000   80.000000    1.020000    0.00000    0.000000  121.000000   \n",
       "75%     64.000000   80.000000    1.020000    2.00000    0.000000  150.000000   \n",
       "max     90.000000  180.000000    1.025000    5.00000    5.000000  490.000000   \n",
       "\n",
       "               bu          sc         sod         pot       hemo         pcv  \\\n",
       "count  400.000000  400.000000  400.000000  400.000000  400.00000  400.000000   \n",
       "mean    56.693000    2.997125  137.631250    4.577250   12.54250   39.082500   \n",
       "std     49.395258    5.628886    9.206332    2.821357    2.71649    8.162245   \n",
       "min      1.500000    0.400000    4.500000    2.500000    3.10000    9.000000   \n",
       "25%     27.000000    0.900000  135.000000    4.000000   10.87500   34.000000   \n",
       "50%     42.000000    1.300000  138.000000    4.400000   12.65000   40.000000   \n",
       "75%     61.750000    2.725000  141.000000    4.800000   14.62500   44.000000   \n",
       "max    391.000000   76.000000  163.000000   47.000000   17.80000   54.000000   \n",
       "\n",
       "               wbcc        rbcc  \n",
       "count    400.000000  400.000000  \n",
       "mean    8298.500000    4.737750  \n",
       "std     2529.593814    0.841439  \n",
       "min     2200.000000    2.100000  \n",
       "25%     6975.000000    4.500000  \n",
       "50%     8000.000000    4.800000  \n",
       "75%     9400.000000    5.100000  \n",
       "max    26400.000000    8.000000  "
      ]
     },
     "execution_count": 11,
     "metadata": {},
     "output_type": "execute_result"
    }
   ],
   "source": [
    "data_num_tr.describe()"
   ]
  },
  {
   "cell_type": "markdown",
   "metadata": {},
   "source": [
    "#### Handling categorical attributes"
   ]
  },
  {
   "cell_type": "code",
   "execution_count": 12,
   "metadata": {},
   "outputs": [
    {
     "name": "stdout",
     "output_type": "stream",
     "text": [
      "Original values : \n",
      "        rbc        pc         pcc          ba  htn   dm cad appet   pe  ane\n",
      "0       NaN    normal  notpresent  notpresent  yes  yes  no  good   no   no\n",
      "1       NaN    normal  notpresent  notpresent   no   no  no  good   no   no\n",
      "2    normal    normal  notpresent  notpresent   no  yes  no  poor   no  yes\n",
      "3    normal  abnormal     present  notpresent  yes   no  no  poor  yes  yes\n",
      "4    normal    normal  notpresent  notpresent   no   no  no  good   no   no\n",
      "..      ...       ...         ...         ...  ...  ...  ..   ...  ...  ...\n",
      "395  normal    normal  notpresent  notpresent   no   no  no  good   no   no\n",
      "396  normal    normal  notpresent  notpresent   no   no  no  good   no   no\n",
      "397  normal    normal  notpresent  notpresent   no   no  no  good   no   no\n",
      "398  normal    normal  notpresent  notpresent   no   no  no  good   no   no\n",
      "399  normal    normal  notpresent  notpresent   no   no  no  good   no   no\n",
      "\n",
      "[400 rows x 10 columns]\n",
      "After handling\n",
      "     rbc  pc  pcc  ba  htn  dm  cad  appet  pe  ane\n",
      "0     -1   0    0   0    0   0    0      0   0    0\n",
      "1     -1   0    0   0    1   1    0      0   0    0\n",
      "2      0   0    0   0    1   0    0      1   0    1\n",
      "3      0   1    1   0    0   1    0      1   1    1\n",
      "4      0   0    0   0    1   1    0      0   0    0\n",
      "..   ...  ..  ...  ..  ...  ..  ...    ...  ..  ...\n",
      "395    0   0    0   0    1   1    0      0   0    0\n",
      "396    0   0    0   0    1   1    0      0   0    0\n",
      "397    0   0    0   0    1   1    0      0   0    0\n",
      "398    0   0    0   0    1   1    0      0   0    0\n",
      "399    0   0    0   0    1   1    0      0   0    0\n",
      "\n",
      "[400 rows x 10 columns]\n"
     ]
    }
   ],
   "source": [
    "data_cat = data[[\"rbc\",\"pc\",\"pcc\",\"ba\",\"htn\",\"dm\", \"cad\", \"appet\", \"pe\", \"ane\"]]\n",
    "print('Original values : ')\n",
    "print(data_cat)\n",
    "data_cat = data_cat.apply(lambda x: pd.factorize(x)[0])\n",
    "#Use the pandas functions : factorize(), Imputer with the \"most_frequent\" strategy to preprocess and\n",
    "#transform the categorical attributes\n",
    "from sklearn.impute import SimpleImputer\n",
    "imputer_freq = SimpleImputer(strategy=\"most_frequent\")\n",
    "imputer_freq.fit(data_cat)\n",
    "print(\"After handling\")\n",
    "print(data_cat)"
   ]
  },
  {
   "cell_type": "code",
   "execution_count": 13,
   "metadata": {},
   "outputs": [],
   "source": [
    "#replace missing categorical values by the most frequent ones\n",
    "\n",
    "#fit the imputer instance to the data\n",
    "\n",
    "# trasform the dataset by replacing the missing values by the most frequent values\n"
   ]
  },
  {
   "cell_type": "code",
   "execution_count": 14,
   "metadata": {},
   "outputs": [
    {
     "name": "stdout",
     "output_type": "stream",
     "text": [
      "      age    bp     sg   al   su    bgr    bu   sc    sod  pot  hemo pcv  \\\n",
      "0    48.0  80.0  1.020  1.0  0.0  121.0  36.0  1.2    NaN  NaN  15.4  44   \n",
      "1     7.0  50.0  1.020  4.0  0.0    NaN  18.0  0.8    NaN  NaN  11.3  38   \n",
      "2    62.0  80.0  1.010  2.0  3.0  423.0  53.0  1.8    NaN  NaN   9.6  31   \n",
      "3    48.0  70.0  1.005  4.0  0.0  117.0  56.0  3.8  111.0  2.5  11.2  32   \n",
      "4    51.0  80.0  1.010  2.0  0.0  106.0  26.0  1.4    NaN  NaN  11.6  35   \n",
      "..    ...   ...    ...  ...  ...    ...   ...  ...    ...  ...   ...  ..   \n",
      "395  55.0  80.0  1.020  0.0  0.0  140.0  49.0  0.5  150.0  4.9  15.7  47   \n",
      "396  42.0  70.0  1.025  0.0  0.0   75.0  31.0  1.2  141.0  3.5  16.5  54   \n",
      "397  12.0  80.0  1.020  0.0  0.0  100.0  26.0  0.6  137.0  4.4  15.8  49   \n",
      "398  17.0  60.0  1.025  0.0  0.0  114.0  50.0  1.0  135.0  4.9  14.2  51   \n",
      "399  58.0  80.0  1.025  0.0  0.0  131.0  18.0  1.1  141.0  3.5  15.8  53   \n",
      "\n",
      "     wbcc rbcc  \n",
      "0    7800  5.2  \n",
      "1    6000  NaN  \n",
      "2    7500  NaN  \n",
      "3    6700  3.9  \n",
      "4    7300  4.6  \n",
      "..    ...  ...  \n",
      "395  6700  4.9  \n",
      "396  7800  6.2  \n",
      "397  6600  5.4  \n",
      "398  7200  5.9  \n",
      "399  6800  6.1  \n",
      "\n",
      "[400 rows x 14 columns]\n",
      "Data num len : 400\n",
      "Data cat len : 400\n",
      "      age    bp     sg   al   su    bgr    bu   sc    sod  pot  ...  rbc pc  \\\n",
      "0    48.0  80.0  1.020  1.0  0.0  121.0  36.0  1.2    NaN  NaN  ...   -1  0   \n",
      "1     7.0  50.0  1.020  4.0  0.0    NaN  18.0  0.8    NaN  NaN  ...   -1  0   \n",
      "2    62.0  80.0  1.010  2.0  3.0  423.0  53.0  1.8    NaN  NaN  ...    0  0   \n",
      "3    48.0  70.0  1.005  4.0  0.0  117.0  56.0  3.8  111.0  2.5  ...    0  1   \n",
      "4    51.0  80.0  1.010  2.0  0.0  106.0  26.0  1.4    NaN  NaN  ...    0  0   \n",
      "..    ...   ...    ...  ...  ...    ...   ...  ...    ...  ...  ...  ... ..   \n",
      "395  55.0  80.0  1.020  0.0  0.0  140.0  49.0  0.5  150.0  4.9  ...    0  0   \n",
      "396  42.0  70.0  1.025  0.0  0.0   75.0  31.0  1.2  141.0  3.5  ...    0  0   \n",
      "397  12.0  80.0  1.020  0.0  0.0  100.0  26.0  0.6  137.0  4.4  ...    0  0   \n",
      "398  17.0  60.0  1.025  0.0  0.0  114.0  50.0  1.0  135.0  4.9  ...    0  0   \n",
      "399  58.0  80.0  1.025  0.0  0.0  131.0  18.0  1.1  141.0  3.5  ...    0  0   \n",
      "\n",
      "    pcc ba  htn  dm  cad  appet  pe  ane  \n",
      "0     0  0    0   0    0      0   0    0  \n",
      "1     0  0    1   1    0      0   0    0  \n",
      "2     0  0    1   0    0      1   0    1  \n",
      "3     1  0    0   1    0      1   1    1  \n",
      "4     0  0    1   1    0      0   0    0  \n",
      "..   .. ..  ...  ..  ...    ...  ..  ...  \n",
      "395   0  0    1   1    0      0   0    0  \n",
      "396   0  0    1   1    0      0   0    0  \n",
      "397   0  0    1   1    0      0   0    0  \n",
      "398   0  0    1   1    0      0   0    0  \n",
      "399   0  0    1   1    0      0   0    0  \n",
      "\n",
      "[400 rows x 24 columns]\n"
     ]
    }
   ],
   "source": [
    "# Merge the numerical and categorical datasets\n",
    "print(data_num)\n",
    "print(\"Data num len : \"+str(len(data_num)))\n",
    "print(\"Data cat len : \"+str(len(data_cat)))\n",
    "data_tr = pd.concat([data_num, data_cat], axis=1)\n",
    "print(data_tr)"
   ]
  },
  {
   "cell_type": "markdown",
   "metadata": {},
   "source": [
    "### Save the final table (to_csv())"
   ]
  },
  {
   "cell_type": "code",
   "execution_count": 15,
   "metadata": {},
   "outputs": [],
   "source": [
    "data_tr.to_csv('chronic_kidney_disease_final.csv')"
   ]
  },
  {
   "cell_type": "markdown",
   "metadata": {
    "colab_type": "text",
    "id": "JAM3SjZjRWbS"
   },
   "source": [
    "### Data Visualization\n",
    "\n",
    "It's time to create some data visualizations!\n"
   ]
  },
  {
   "cell_type": "code",
   "execution_count": 16,
   "metadata": {
    "colab": {},
    "colab_type": "code",
    "id": "wulbE9pgRWbS",
    "outputId": "7120a6ac-fd61-46aa-cc69-6ac23ea8cdbd"
   },
   "outputs": [
    {
     "name": "stdout",
     "output_type": "stream",
     "text": [
      "      age    bp     sg   al   su    bgr    bu   sc    sod  pot  ...  rbc pc  \\\n",
      "0    48.0  80.0  1.020  1.0  0.0  121.0  36.0  1.2    NaN  NaN  ...   -1  0   \n",
      "1     7.0  50.0  1.020  4.0  0.0    NaN  18.0  0.8    NaN  NaN  ...   -1  0   \n",
      "2    62.0  80.0  1.010  2.0  3.0  423.0  53.0  1.8    NaN  NaN  ...    0  0   \n",
      "3    48.0  70.0  1.005  4.0  0.0  117.0  56.0  3.8  111.0  2.5  ...    0  1   \n",
      "4    51.0  80.0  1.010  2.0  0.0  106.0  26.0  1.4    NaN  NaN  ...    0  0   \n",
      "..    ...   ...    ...  ...  ...    ...   ...  ...    ...  ...  ...  ... ..   \n",
      "395  55.0  80.0  1.020  0.0  0.0  140.0  49.0  0.5  150.0  4.9  ...    0  0   \n",
      "396  42.0  70.0  1.025  0.0  0.0   75.0  31.0  1.2  141.0  3.5  ...    0  0   \n",
      "397  12.0  80.0  1.020  0.0  0.0  100.0  26.0  0.6  137.0  4.4  ...    0  0   \n",
      "398  17.0  60.0  1.025  0.0  0.0  114.0  50.0  1.0  135.0  4.9  ...    0  0   \n",
      "399  58.0  80.0  1.025  0.0  0.0  131.0  18.0  1.1  141.0  3.5  ...    0  0   \n",
      "\n",
      "    pcc ba  htn  dm  cad  appet  pe  ane  \n",
      "0     0  0    0   0    0      0   0    0  \n",
      "1     0  0    1   1    0      0   0    0  \n",
      "2     0  0    1   0    0      1   0    1  \n",
      "3     1  0    0   1    0      1   1    1  \n",
      "4     0  0    1   1    0      0   0    0  \n",
      "..   .. ..  ...  ..  ...    ...  ..  ...  \n",
      "395   0  0    1   1    0      0   0    0  \n",
      "396   0  0    1   1    0      0   0    0  \n",
      "397   0  0    1   1    0      0   0    0  \n",
      "398   0  0    1   1    0      0   0    0  \n",
      "399   0  0    1   1    0      0   0    0  \n",
      "\n",
      "[400 rows x 24 columns]\n"
     ]
    },
    {
     "data": {
      "image/png": "[encoded data removed]",
      "text/plain": [
       "<Figure size 432x288 with 25 Axes>"
      ]
     },
     "metadata": {
      "needs_background": "light"
     },
     "output_type": "display_data"
    }
   ],
   "source": [
    "print(data_tr)\n",
    "#Plot a histogram for each attribute\n",
    "data_tr.hist(bins=50)\n",
    "data_tr = data_tr.dropna()\n",
    "plt.show()\n",
    "#\"age\", \"bp\",\"sg\", \"al\", \"su\", \"bgr\", \"bu\", \"sc\", \"sod\", \"pot\", \"hemo\",\"pcv\", \"wbcc\", \"rbcc\"\n",
    "# \"rbc\",\"pc\",\"pcc\",\"ba\",\"htn\",\"dm\", \"cad\", \"appet\", \"pe\", \"ane\""
   ]
  },
  {
   "cell_type": "markdown",
   "metadata": {},
   "source": [
    "### Data Normalization\n",
    "Scale the data so that each feature has a single unit variance and zero mean"
   ]
  },
  {
   "cell_type": "code",
   "execution_count": 17,
   "metadata": {},
   "outputs": [
    {
     "name": "stdout",
     "output_type": "stream",
     "text": [
      "[[-0.24720577 -0.42814088 -2.49305574 ...  2.50115788  2.50115788\n",
      "   2.86990422]\n",
      " [ 0.52187885  1.3101111  -0.71730025 ... -0.36740172  2.50115788\n",
      "  -0.31365073]\n",
      " [ 0.07324615  1.3101111   0.1705775  ...  2.50115788 -0.36740172\n",
      "   2.86990422]\n",
      " ...\n",
      " [-2.55445964  0.44098511  0.1705775  ... -0.36740172 -0.36740172\n",
      "  -0.31365073]\n",
      " [-2.23400771 -1.29726688  1.05845524 ... -0.36740172 -0.36740172\n",
      "  -0.31365073]\n",
      " [ 0.39369808  0.44098511  1.05845524 ... -0.36740172 -0.36740172\n",
      "  -0.31365073]]\n",
      "N  = 203\n",
      "P = 24\n"
     ]
    }
   ],
   "source": [
    "# Import the library\n",
    "from sklearn.preprocessing import StandardScaler\n",
    "scaler = StandardScaler()\n",
    "scaler.fit(data_tr)\n",
    "# Use StandardScaler\n",
    "scaled_data = scaler.transform(data_tr)\n",
    "print(scaled_data)\n",
    "n = scaled_data.shape[0]\n",
    "#nombre de variables\n",
    "p = scaled_data.shape[1]\n",
    "print(\"N  = \"+str(n))\n",
    "print(\"P = \"+str(p))"
   ]
  },
  {
   "cell_type": "markdown",
   "metadata": {},
   "source": [
    "## PCA Application\n",
    "\n",
    "### PCA Visualization\n",
    "Visualize the data in a two-dimensional space with a single scatter-plot."
   ]
  },
  {
   "cell_type": "code",
   "execution_count": 18,
   "metadata": {
    "scrolled": true
   },
   "outputs": [],
   "source": [
    "# Import the library\n",
    "from sklearn.decomposition import PCA\n",
    "# Use PCA\n",
    "pca = PCA(n_components=24)\n",
    "pca.fit(scaled_data)\n",
    "x_pca = pca.transform(scaled_data)"
   ]
  },
  {
   "cell_type": "code",
   "execution_count": 19,
   "metadata": {},
   "outputs": [
    {
     "data": {
      "text/plain": [
       "(203, 24)"
      ]
     },
     "execution_count": 19,
     "metadata": {},
     "output_type": "execute_result"
    }
   ],
   "source": [
    "scaled_data.shape"
   ]
  },
  {
   "cell_type": "code",
   "execution_count": 20,
   "metadata": {},
   "outputs": [
    {
     "data": {
      "text/plain": [
       "(203, 24)"
      ]
     },
     "execution_count": 20,
     "metadata": {},
     "output_type": "execute_result"
    }
   ],
   "source": [
    "x_pca.shape"
   ]
  },
  {
   "cell_type": "code",
   "execution_count": 21,
   "metadata": {},
   "outputs": [
    {
     "name": "stdout",
     "output_type": "stream",
     "text": [
      "------------- Valeurs propres --------- \n",
      "\n",
      "[9.21205547 2.10998266 1.52453406 1.38358916 1.10213377 0.97852279\n",
      " 0.92822176 0.83268862 0.76084344 0.73659282 0.66363295 0.54964952\n",
      " 0.51233987 0.49498409 0.39506749 0.37515681 0.32227353 0.27031612\n",
      " 0.24924291 0.19297584 0.15199158 0.13170867 0.12931153 0.11099644] \n",
      "\n",
      "-------------- Valeurs propres corrigés----------- \n",
      "\n",
      "[9.16667589 2.09958866 1.51702404 1.37677345 1.09670454 0.97370248\n",
      " 0.92364924 0.8285867  0.75709544 0.73296428 0.66036382 0.54694189\n",
      " 0.50981603 0.49254574 0.39312134 0.37330875 0.32068598 0.26898451\n",
      " 0.24801511 0.19202522 0.15124285 0.13105986 0.12867453 0.11044966]\n"
     ]
    },
    {
     "data": {
      "image/png": "[encoded data removed]",
      "text/plain": [
       "<Figure size 432x288 with 1 Axes>"
      ]
     },
     "metadata": {
      "needs_background": "light"
     },
     "output_type": "display_data"
    }
   ],
   "source": [
    "# Valeurs propres\n",
    "print(\"------------- Valeurs propres --------- \\n\")\n",
    "print(pca.explained_variance_,\"\\n\")\n",
    "\n",
    "corrected_variance = ((n-1)/n)*pca.explained_variance_\n",
    "print(\"-------------- Valeurs propres corrigés----------- \\n\")\n",
    "print(corrected_variance)\n",
    "# Graphe de la variance de chaque attribut\n",
    "plt.plot(np.arange(1,p+1),corrected_variance)\n",
    "plt.title(\"Graphe de la variance\")\n",
    "plt.ylabel(\"Variance\")\n",
    "plt.xlabel(\"Attribut\")\n",
    "plt.show()"
   ]
  },
  {
   "cell_type": "markdown",
   "metadata": {},
   "source": [
    "#### Give the coordinates of the individuals according to the first 2 principal components (1er et 2nd axes factoriels)"
   ]
  },
  {
   "cell_type": "code",
   "execution_count": 22,
   "metadata": {},
   "outputs": [
    {
     "data": {
      "text/plain": [
       "Text(0, 0.5, 'Second Principal Component')"
      ]
     },
     "execution_count": 22,
     "metadata": {},
     "output_type": "execute_result"
    },
    {
     "data": {
      "image/png": "[encoded data removed]",
      "text/plain": [
       "<Figure size 576x432 with 1 Axes>"
      ]
     },
     "metadata": {
      "needs_background": "light"
     },
     "output_type": "display_data"
    }
   ],
   "source": [
    "plt.figure(figsize=(8,6))\n",
    "plt.scatter(x_pca[:,0],x_pca[:,1],cmap='plasma')\n",
    "plt.xlabel('First principal component')\n",
    "plt.ylabel('Second Principal Component')"
   ]
  },
  {
   "cell_type": "markdown",
   "metadata": {
    "colab_type": "text",
    "id": "P9rhEC4qRWb6"
   },
   "source": [
    "### Interprete the components  via global quality criteria"
   ]
  },
  {
   "cell_type": "markdown",
   "metadata": {},
   "source": [
    "#### Give the 2 components coordinates"
   ]
  },
  {
   "cell_type": "code",
   "execution_count": 23,
   "metadata": {},
   "outputs": [
    {
     "name": "stdout",
     "output_type": "stream",
     "text": [
      "---------------- Les differentes composantes principales ------------- \n",
      "\n",
      "         age        bp        sg        al        su       bgr        bu  \\\n",
      "0   0.107497  0.123499 -0.251776  0.278563  0.162591  0.178937  0.245079   \n",
      "1   0.306077  0.058641 -0.091740 -0.047353  0.450494  0.398137 -0.192774   \n",
      "2   0.100633  0.026575  0.024885 -0.113344 -0.168062 -0.231614  0.198984   \n",
      "3  -0.137057  0.304124  0.113377  0.041284  0.258417  0.160404  0.173348   \n",
      "4   0.214296  0.430037 -0.031718 -0.078068 -0.139319 -0.145693 -0.131523   \n",
      "5   0.039168 -0.440986  0.050389  0.022511 -0.050968 -0.067694 -0.180252   \n",
      "6  -0.291953  0.232179  0.003034  0.067209  0.116620  0.010051 -0.136550   \n",
      "7   0.462931  0.180300 -0.107228  0.039027 -0.181188 -0.287517  0.164336   \n",
      "8   0.030775  0.258852  0.041051  0.015879 -0.036018  0.029191 -0.093069   \n",
      "9   0.637037 -0.016014  0.208599 -0.010256 -0.106806  0.114563 -0.031989   \n",
      "10  0.103330 -0.481299 -0.233322  0.037256 -0.006359  0.035965  0.125204   \n",
      "11 -0.157804 -0.118886  0.303342 -0.073907 -0.076056  0.033771  0.048098   \n",
      "12  0.153442 -0.209020  0.110194  0.076098  0.276291  0.275034  0.291098   \n",
      "13 -0.014228 -0.069843  0.531541  0.151699  0.045935 -0.289546  0.129890   \n",
      "14 -0.153233  0.037012  0.080318 -0.183480 -0.004690  0.115918  0.297946   \n",
      "15 -0.096127  0.194488  0.034694  0.143105 -0.068156  0.073490  0.053096   \n",
      "16 -0.028984 -0.090135  0.032291  0.629663 -0.075865 -0.077855 -0.009004   \n",
      "17  0.101448  0.017917  0.564284 -0.134958  0.185846  0.007777  0.008608   \n",
      "18  0.026474  0.039554  0.113827  0.448094  0.209513 -0.087066 -0.284549   \n",
      "19  0.044271 -0.007177  0.198907 -0.158311 -0.001927  0.194114 -0.134211   \n",
      "20  0.003713  0.090073  0.170711  0.351064 -0.461810  0.430571  0.179996   \n",
      "21 -0.003773  0.032658  0.007928 -0.132752  0.095896 -0.030699  0.199345   \n",
      "22 -0.073262  0.011499 -0.011612 -0.111950 -0.289009  0.289807  0.287108   \n",
      "23 -0.029222 -0.046006  0.066031 -0.094181 -0.339604  0.324167 -0.512942   \n",
      "\n",
      "          sc       sod       pot  ...       rbc        pc       pcc        ba  \\\n",
      "0   0.246553 -0.217475  0.060706  ...  0.040664  0.202441  0.181992  0.142970   \n",
      "1  -0.194866  0.080637 -0.031481  ... -0.288463 -0.234734 -0.167620 -0.079687   \n",
      "2   0.187361  0.006906  0.160087  ... -0.359202 -0.302599 -0.326113 -0.514882   \n",
      "3   0.160343  0.028547  0.518039  ...  0.142088  0.020071 -0.101525 -0.044085   \n",
      "4  -0.077802  0.092079 -0.130991  ... -0.499966 -0.054399  0.380551  0.133521   \n",
      "5  -0.289074  0.162593  0.543601  ... -0.325394  0.273441  0.187861  0.161559   \n",
      "6  -0.135543 -0.056759  0.287685  ...  0.008500 -0.078453  0.039630  0.137833   \n",
      "7   0.168646  0.265761  0.161246  ...  0.181653 -0.054577 -0.131824  0.376967   \n",
      "8  -0.007231 -0.265664 -0.242147  ... -0.024520  0.045531  0.222332  0.103819   \n",
      "9  -0.101378 -0.101340  0.139592  ...  0.322374  0.248285  0.160534 -0.349597   \n",
      "10  0.112371 -0.450087 -0.123119  ... -0.118453 -0.046938  0.055184  0.018174   \n",
      "11  0.038009  0.474475 -0.331233  ...  0.138575  0.157521  0.032034 -0.021136   \n",
      "12  0.299584  0.380179 -0.113214  ... -0.213547 -0.053450  0.124842  0.158639   \n",
      "13  0.096915 -0.251936  0.079654  ... -0.112844 -0.165530  0.233300  0.061503   \n",
      "14  0.132542  0.037428  0.105694  ... -0.038513 -0.118175  0.522121 -0.239929   \n",
      "15  0.094720  0.009879 -0.075935  ... -0.327314  0.693276 -0.151451 -0.277706   \n",
      "16  0.007029  0.156958 -0.025665  ... -0.041326 -0.141397 -0.025257 -0.022592   \n",
      "17  0.049350 -0.286235 -0.082322  ... -0.127872  0.112289 -0.346494  0.310214   \n",
      "18  0.031885  0.007736 -0.061733  ...  0.098289 -0.116327  0.123860 -0.279788   \n",
      "19 -0.154817  0.048439 -0.012803  ...  0.188937 -0.148650  0.143797 -0.102409   \n",
      "20 -0.306009 -0.048502 -0.008003  ... -0.082828 -0.180189 -0.136559  0.084297   \n",
      "21 -0.179517 -0.023614  0.012307  ...  0.009333 -0.006778  0.051157 -0.003693   \n",
      "22 -0.140943 -0.075179  0.068812  ... -0.014342 -0.049199 -0.001641  0.072795   \n",
      "23  0.617015 -0.031306  0.156373  ... -0.041445 -0.079574  0.015739  0.076103   \n",
      "\n",
      "         htn        dm       cad     appet        pe       ane  \n",
      "0  -0.245588 -0.217733  0.145080  0.206965  0.216307  0.196670  \n",
      "1  -0.226216 -0.292688  0.141547 -0.113079 -0.050522 -0.266366  \n",
      "2  -0.173562 -0.113947 -0.239914  0.098149  0.045739  0.215934  \n",
      "3   0.003225  0.070647  0.173236 -0.322825 -0.288665  0.142716  \n",
      "4   0.078980  0.267523  0.222427 -0.104137 -0.223780  0.175307  \n",
      "5  -0.109200 -0.127677 -0.102815  0.046313  0.080418 -0.002950  \n",
      "6   0.008827 -0.003821 -0.497480 -0.030176 -0.239070  0.160226  \n",
      "7   0.036728 -0.148158 -0.205869 -0.280917  0.076348 -0.347702  \n",
      "8  -0.306193 -0.291710 -0.503116  0.032571 -0.021329  0.045696  \n",
      "9  -0.019549  0.091109 -0.032874  0.153620 -0.250840  0.162900  \n",
      "10  0.108012  0.034597 -0.125658 -0.495218 -0.374648 -0.002898  \n",
      "11 -0.340187 -0.270607  0.022484 -0.234889 -0.321703  0.137531  \n",
      "12  0.161186  0.257400 -0.301295  0.068346  0.134920  0.273888  \n",
      "13 -0.184671 -0.158611  0.279786 -0.234357  0.236906  0.043804  \n",
      "14  0.257533 -0.212765 -0.065120  0.190131 -0.150700 -0.514442  \n",
      "15  0.098234  0.004981 -0.084531 -0.250797  0.146428 -0.227052  \n",
      "16 -0.171428  0.107087  0.037811  0.265630 -0.339130 -0.235212  \n",
      "17  0.117186  0.119344 -0.086658  0.261662 -0.150469 -0.197952  \n",
      "18  0.007545  0.283754 -0.188281 -0.198778  0.198009 -0.165786  \n",
      "19  0.093622  0.037323 -0.137105 -0.257493  0.359550  0.034847  \n",
      "20  0.324919 -0.232568  0.025872 -0.065068  0.060055  0.133000  \n",
      "21 -0.161345  0.181504 -0.050520 -0.013403  0.065125 -0.093752  \n",
      "22 -0.538271  0.489230 -0.036161 -0.066933  0.076844 -0.226354  \n",
      "23 -0.088991  0.024331  0.052639  0.016211  0.010734 -0.066753  \n",
      "\n",
      "[24 rows x 24 columns]\n"
     ]
    },
    {
     "data": {
      "text/plain": [
       "<matplotlib.axes._subplots.AxesSubplot at 0x7fca63045d00>"
      ]
     },
     "execution_count": 23,
     "metadata": {},
     "output_type": "execute_result"
    },
    {
     "data": {
      "image/png": "[encoded data removed]",
      "text/plain": [
       "<Figure size 864x432 with 2 Axes>"
      ]
     },
     "metadata": {
      "needs_background": "light"
     },
     "output_type": "display_data"
    }
   ],
   "source": [
    "df_comp = pd.DataFrame(pca.components_,columns=data_tr.columns)\n",
    "print(\"---------------- Les differentes composantes principales ------------- \\n\")\n",
    "print(df_comp)\n",
    "plt.figure(figsize=(12,6))\n",
    "sns.heatmap(df_comp,cmap='plasma',)"
   ]
  },
  {
   "cell_type": "markdown",
   "metadata": {},
   "source": [
    "#### Plot the explained variance of each component"
   ]
  },
  {
   "cell_type": "code",
   "execution_count": 24,
   "metadata": {},
   "outputs": [
    {
     "name": "stdout",
     "output_type": "stream",
     "text": [
      "[9.21205547 2.10998266 1.52453406 1.38358916 1.10213377 0.97852279\n",
      " 0.92822176 0.83268862 0.76084344 0.73659282 0.66363295 0.54964952\n",
      " 0.51233987 0.49498409 0.39506749 0.37515681 0.32227353 0.27031612\n",
      " 0.24924291 0.19297584 0.15199158 0.13170867 0.12931153 0.11099644]\n",
      "[9.16667589 2.09958866 1.51702404 1.37677345 1.09670454 0.97370248\n",
      " 0.92364924 0.8285867  0.75709544 0.73296428 0.66036382 0.54694189\n",
      " 0.50981603 0.49254574 0.39312134 0.37330875 0.32068598 0.26898451\n",
      " 0.24801511 0.19202522 0.15124285 0.13105986 0.12867453 0.11044966]\n"
     ]
    }
   ],
   "source": [
    "\n",
    "# Explained variance\n",
    "print(pca.explained_variance_)\n",
    "\n",
    "# Corrected variance values\n",
    "corrected_variance = ((n-1)/n)*pca.explained_variance_\n",
    "print(corrected_variance)"
   ]
  },
  {
   "cell_type": "code",
   "execution_count": 25,
   "metadata": {
    "scrolled": true
   },
   "outputs": [
    {
     "data": {
      "image/png": "[encoded data removed]",
      "text/plain": [
       "<Figure size 432x288 with 1 Axes>"
      ]
     },
     "metadata": {
      "needs_background": "light"
     },
     "output_type": "display_data"
    }
   ],
   "source": [
    "#Plot\n",
    "# plot the explained variance of each component\n",
    "plt.plot(np.arange(1,p+1),corrected_variance)\n",
    "plt.title(\"Screen plot\")\n",
    "plt.ylabel(\"Variance values\")\n",
    "plt.xlabel(\"Factor number\")\n",
    "plt.show()"
   ]
  },
  {
   "cell_type": "markdown",
   "metadata": {},
   "source": [
    "#### Plot the explained cumulative variance of each component in percentage"
   ]
  },
  {
   "cell_type": "code",
   "execution_count": 26,
   "metadata": {
    "scrolled": true
   },
   "outputs": [
    {
     "data": {
      "text/plain": [
       "array([38.19448286,  8.74828608,  6.32093349,  5.73655603,  4.56960226,\n",
       "        4.05709368,  3.84853848,  3.45244459,  3.15456433,  3.05401785,\n",
       "        2.75151593,  2.27892453,  2.12423345,  2.05227392,  1.6380056 ,\n",
       "        1.55545313,  1.33619157,  1.1207688 ,  1.03339629,  0.80010508,\n",
       "        0.63017855,  0.54608274,  0.53614386,  0.46020691])"
      ]
     },
     "execution_count": 26,
     "metadata": {},
     "output_type": "execute_result"
    }
   ],
   "source": [
    "pca.explained_variance_ratio_*100"
   ]
  },
  {
   "cell_type": "code",
   "execution_count": 27,
   "metadata": {},
   "outputs": [
    {
     "data": {
      "text/plain": [
       "array([ 38.19448286,  46.94276894,  53.26370243,  59.00025846,\n",
       "        63.56986071,  67.62695439,  71.47549287,  74.92793747,\n",
       "        78.0825018 ,  81.13651965,  83.88803557,  86.1669601 ,\n",
       "        88.29119355,  90.34346747,  91.98147307,  93.5369262 ,\n",
       "        94.87311777,  95.99388657,  97.02728285,  97.82738794,\n",
       "        98.45756649,  99.00364923,  99.53979309, 100.        ])"
      ]
     },
     "execution_count": 27,
     "metadata": {},
     "output_type": "execute_result"
    }
   ],
   "source": [
    "cumulative_var = np.cumsum(pca.explained_variance_ratio_*100)\n",
    "cumulative_var"
   ]
  },
  {
   "cell_type": "code",
   "execution_count": 28,
   "metadata": {
    "scrolled": false
   },
   "outputs": [
    {
     "data": {
      "text/plain": [
       "[<matplotlib.lines.Line2D at 0x7fca63ba0c70>]"
      ]
     },
     "execution_count": 28,
     "metadata": {},
     "output_type": "execute_result"
    },
    {
     "data": {
      "image/png": "[encoded data removed]",
      "text/plain": [
       "<Figure size 432x288 with 1 Axes>"
      ]
     },
     "metadata": {
      "needs_background": "light"
     },
     "output_type": "display_data"
    }
   ],
   "source": [
    "# plot the explained variance of each component\n",
    "plt.ylabel('% Variance Explained')\n",
    "plt.xlabel('Factor number')\n",
    "plt.axvline(x=2.0,color='red')\n",
    "plt.ylim(30,100.5)\n",
    "plt.style.context('seaborn-whitegrid')\n",
    "plt.plot(np.arange(1,p+1),cumulative_var)"
   ]
  },
  {
   "cell_type": "markdown",
   "metadata": {
    "colab_type": "text",
    "id": "qNPawU-kRWcB"
   },
   "source": [
    "### Variable representation"
   ]
  },
  {
   "cell_type": "markdown",
   "metadata": {
    "colab": {},
    "colab_type": "code",
    "id": "KpTYOpo3RWcB",
    "outputId": "176b0969-109d-40a5-c448-09eecb4d02ee"
   },
   "source": [
    "#### Compute the correlation between the principal components and the variables"
   ]
  },
  {
   "cell_type": "code",
   "execution_count": 29,
   "metadata": {},
   "outputs": [
    {
     "name": "stdout",
     "output_type": "stream",
     "text": [
      "[[ 1.07497264e-01  1.23498788e-01 -2.51776339e-01  2.78563000e-01\n",
      "   1.62590910e-01  1.78936650e-01  2.45078605e-01  2.46552578e-01\n",
      "  -2.17475294e-01  6.07059192e-02 -2.89055870e-01 -2.88617637e-01\n",
      "   1.02239032e-01 -2.67099131e-01  4.06638693e-02  2.02441093e-01\n",
      "   1.81991821e-01  1.42969902e-01 -2.45587517e-01 -2.17733451e-01\n",
      "   1.45079578e-01  2.06965287e-01  2.16307355e-01  1.96669639e-01]\n",
      " [ 3.06076512e-01  5.86411971e-02 -9.17404940e-02 -4.73529193e-02\n",
      "   4.50493529e-01  3.98136887e-01 -1.92774068e-01 -1.94866359e-01\n",
      "   8.06365743e-02 -3.14808694e-02  7.02528370e-02  4.43802568e-02\n",
      "   1.50202214e-01  5.24003381e-02 -2.88463232e-01 -2.34734232e-01\n",
      "  -1.67619623e-01 -7.96871417e-02 -2.26215583e-01 -2.92687901e-01\n",
      "   1.41546865e-01 -1.13078893e-01 -5.05219795e-02 -2.66365648e-01]\n",
      " [ 1.00633095e-01  2.65748040e-02  2.48852246e-02 -1.13343634e-01\n",
      "  -1.68062421e-01 -2.31614006e-01  1.98984251e-01  1.87360804e-01\n",
      "   6.90628315e-03  1.60086604e-01 -1.11393183e-01 -1.24500961e-01\n",
      "  -4.71758667e-02 -1.10622337e-01 -3.59202429e-01 -3.02598523e-01\n",
      "  -3.26113000e-01 -5.14881924e-01 -1.73562486e-01 -1.13946784e-01\n",
      "  -2.39914255e-01  9.81491403e-02  4.57393105e-02  2.15933639e-01]\n",
      " [-1.37056514e-01  3.04123967e-01  1.13377221e-01  4.12843776e-02\n",
      "   2.58417142e-01  1.60404262e-01  1.73348478e-01  1.60343285e-01\n",
      "   2.85470942e-02  5.18039248e-01  4.23584493e-02  2.86318670e-02\n",
      "  -4.19396140e-01  4.94328954e-02  1.42088186e-01  2.00709255e-02\n",
      "  -1.01524674e-01 -4.40853634e-02  3.22540716e-03  7.06465731e-02\n",
      "   1.73236323e-01 -3.22825206e-01 -2.88665263e-01  1.42715727e-01]\n",
      " [ 2.14295754e-01  4.30037327e-01 -3.17183194e-02 -7.80680383e-02\n",
      "  -1.39319021e-01 -1.45693064e-01 -1.31523191e-01 -7.78024707e-02\n",
      "   9.20794907e-02 -1.30991242e-01 -1.04605536e-01 -1.31626533e-01\n",
      "  -3.28737573e-02 -9.25392017e-02 -4.99966220e-01 -5.43987794e-02\n",
      "   3.80551279e-01  1.33521445e-01  7.89797057e-02  2.67522630e-01\n",
      "   2.22426977e-01 -1.04137494e-01 -2.23780205e-01  1.75306948e-01]\n",
      " [ 3.91680338e-02 -4.40985533e-01  5.03894883e-02  2.25110590e-02\n",
      "  -5.09677157e-02 -6.76938276e-02 -1.80252230e-01 -2.89074341e-01\n",
      "   1.62592969e-01  5.43600572e-01 -1.69060073e-02 -3.08096227e-02\n",
      "  -2.13277241e-01 -1.39981069e-01 -3.25394472e-01  2.73440609e-01\n",
      "   1.87860676e-01  1.61558672e-01 -1.09200406e-01 -1.27676818e-01\n",
      "  -1.02814935e-01  4.63131744e-02  8.04176496e-02 -2.95037128e-03]\n",
      " [-2.91952759e-01  2.32179136e-01  3.03411343e-03  6.72088838e-02\n",
      "   1.16619560e-01  1.00510941e-02 -1.36549828e-01 -1.35542749e-01\n",
      "  -5.67594648e-02  2.87685003e-01 -5.38054204e-02 -6.98163037e-02\n",
      "   5.94218208e-01  2.55061573e-02  8.49982324e-03 -7.84525548e-02\n",
      "   3.96301206e-02  1.37833307e-01  8.82698064e-03 -3.82127267e-03\n",
      "  -4.97479822e-01 -3.01755206e-02 -2.39070146e-01  1.60226314e-01]\n",
      " [ 4.62931098e-01  1.80300113e-01 -1.07227904e-01  3.90272493e-02\n",
      "  -1.81187611e-01 -2.87516861e-01  1.64336077e-01  1.68645963e-01\n",
      "   2.65761480e-01  1.61245658e-01 -2.05329518e-02 -2.33034772e-02\n",
      "   6.17912651e-02 -3.21053871e-02  1.81653181e-01 -5.45766288e-02\n",
      "  -1.31823729e-01  3.76966737e-01  3.67276745e-02 -1.48157753e-01\n",
      "  -2.05869084e-01 -2.80917356e-01  7.63483873e-02 -3.47702254e-01]\n",
      " [ 3.07746329e-02  2.58852428e-01  4.10505756e-02  1.58794225e-02\n",
      "  -3.60183118e-02  2.91906902e-02 -9.30691730e-02 -7.23075382e-03\n",
      "  -2.65664490e-01 -2.42147370e-01  1.68945166e-01  1.61621522e-01\n",
      "  -4.55984851e-01  1.70252501e-01 -2.45204592e-02  4.55307382e-02\n",
      "   2.22331531e-01  1.03818723e-01 -3.06192751e-01 -2.91710098e-01\n",
      "  -5.03116023e-01  3.25708883e-02 -2.13291679e-02  4.56964263e-02]\n",
      " [ 6.37036745e-01 -1.60139506e-02  2.08599020e-01 -1.02564074e-02\n",
      "  -1.06805533e-01  1.14563417e-01 -3.19889873e-02 -1.01378388e-01\n",
      "  -1.01340194e-01  1.39592038e-01  7.16827905e-02  8.08441866e-02\n",
      "   1.78508489e-01  6.92893845e-02  3.22373989e-01  2.48285481e-01\n",
      "   1.60534072e-01 -3.49596789e-01 -1.95487237e-02  9.11088708e-02\n",
      "  -3.28737895e-02  1.53619956e-01 -2.50840216e-01  1.62899677e-01]\n",
      " [ 1.03330167e-01 -4.81298505e-01 -2.33322242e-01  3.72563450e-02\n",
      "  -6.35864827e-03  3.59652879e-02  1.25203807e-01  1.12371199e-01\n",
      "  -4.50087377e-01 -1.23118619e-01 -1.15994929e-01 -8.02424170e-02\n",
      "  -5.43282496e-03 -2.59997128e-02 -1.18453276e-01 -4.69378094e-02\n",
      "   5.51836151e-02  1.81743949e-02  1.08012035e-01  3.45970754e-02\n",
      "  -1.25657935e-01 -4.95218285e-01 -3.74648102e-01 -2.89768838e-03]\n",
      " [-1.57804206e-01 -1.18885719e-01  3.03341785e-01 -7.39065274e-02\n",
      "  -7.60557692e-02  3.37712801e-02  4.80982129e-02  3.80090114e-02\n",
      "   4.74475127e-01 -3.31233377e-01 -1.29197567e-01 -8.08943220e-02\n",
      "   7.14829182e-02 -2.77640743e-01  1.38575446e-01  1.57521182e-01\n",
      "   3.20336169e-02 -2.11357324e-02 -3.40187296e-01 -2.70606583e-01\n",
      "   2.24840825e-02 -2.34888784e-01 -3.21703077e-01  1.37531094e-01]\n",
      " [ 1.53441671e-01 -2.09020407e-01  1.10193543e-01  7.60977678e-02\n",
      "   2.76291178e-01  2.75033597e-01  2.91098251e-01  2.99583577e-01\n",
      "   3.80179249e-01 -1.13214075e-01  1.43428087e-01  1.31666801e-01\n",
      "   1.91624251e-02  1.50401361e-01 -2.13546645e-01 -5.34502974e-02\n",
      "   1.24841736e-01  1.58638725e-01  1.61186181e-01  2.57400455e-01\n",
      "  -3.01294931e-01  6.83456156e-02  1.34919672e-01  2.73888203e-01]\n",
      " [-1.42275910e-02 -6.98432736e-02  5.31540650e-01  1.51699103e-01\n",
      "   4.59351521e-02 -2.89546008e-01  1.29890387e-01  9.69150887e-02\n",
      "  -2.51936232e-01  7.96540648e-02  1.52803267e-01  1.32805625e-01\n",
      "   2.63142484e-01  2.19683654e-01 -1.12844262e-01 -1.65530063e-01\n",
      "   2.33300421e-01  6.15027477e-02 -1.84670701e-01 -1.58610755e-01\n",
      "   2.79785964e-01 -2.34356771e-01  2.36905836e-01  4.38036007e-02]\n",
      " [-1.53232774e-01  3.70117056e-02  8.03183202e-02 -1.83480036e-01\n",
      "  -4.68980425e-03  1.15918333e-01  2.97945574e-01  1.32541564e-01\n",
      "   3.74279695e-02  1.05693719e-01  1.57293317e-02 -5.61971355e-02\n",
      "   1.43819908e-02 -1.18672475e-01 -3.85125456e-02 -1.18174777e-01\n",
      "   5.22120673e-01 -2.39928867e-01  2.57533134e-01 -2.12765152e-01\n",
      "  -6.51196399e-02  1.90130861e-01 -1.50699840e-01 -5.14442451e-01]\n",
      " [-9.61273492e-02  1.94488270e-01  3.46936974e-02  1.43105103e-01\n",
      "  -6.81562964e-02  7.34899120e-02  5.30959625e-02  9.47195748e-02\n",
      "   9.87938258e-03 -7.59354840e-02 -2.54907886e-02  1.33166394e-05\n",
      "   1.38775518e-01  2.07616220e-01 -3.27313867e-01  6.93275996e-01\n",
      "  -1.51451122e-01 -2.77706389e-01  9.82340379e-02  4.98062471e-03\n",
      "  -8.45313534e-02 -2.50796572e-01  1.46427825e-01 -2.27052439e-01]\n",
      " [-2.89837909e-02 -9.01347281e-02  3.22913009e-02  6.29663235e-01\n",
      "  -7.58650275e-02 -7.78553426e-02 -9.00447661e-03  7.02894061e-03\n",
      "   1.56957514e-01 -2.56646205e-02 -2.14295296e-01 -1.59187161e-01\n",
      "  -9.88021656e-02  4.11367340e-01 -4.13258443e-02 -1.41397419e-01\n",
      "  -2.52569478e-02 -2.25921230e-02 -1.71427581e-01  1.07087417e-01\n",
      "   3.78112907e-02  2.65629639e-01 -3.39130203e-01 -2.35212239e-01]\n",
      " [ 1.01448173e-01  1.79169706e-02  5.64283747e-01 -1.34958042e-01\n",
      "   1.85845563e-01  7.77673151e-03  8.60762297e-03  4.93497979e-02\n",
      "  -2.86235055e-01 -8.23216741e-02 -1.38632901e-01 -2.05704733e-01\n",
      "  -8.25818078e-02 -2.18080521e-01 -1.27871859e-01  1.12289258e-01\n",
      "  -3.46494027e-01  3.10214385e-01  1.17185725e-01  1.19343810e-01\n",
      "  -8.66579861e-02  2.61662148e-01 -1.50469265e-01 -1.97951618e-01]\n",
      " [ 2.64743363e-02  3.95542698e-02  1.13826614e-01  4.48094247e-01\n",
      "   2.09512646e-01 -8.70658863e-02 -2.84549284e-01  3.18847379e-02\n",
      "   7.73592823e-03 -6.17329608e-02  4.80706055e-02  6.26854347e-02\n",
      "  -8.76347996e-02 -5.41935769e-01  9.82887157e-02 -1.16326733e-01\n",
      "   1.23860446e-01 -2.79787917e-01  7.54467904e-03  2.83753827e-01\n",
      "  -1.88280815e-01 -1.98778387e-01  1.98008554e-01 -1.65786181e-01]\n",
      " [ 4.42707822e-02 -7.17726548e-03  1.98907290e-01 -1.58310836e-01\n",
      "  -1.92736523e-03  1.94114484e-01 -1.34210940e-01 -1.54816565e-01\n",
      "   4.84389190e-02 -1.28031494e-02 -3.83796679e-01 -5.28619781e-01\n",
      "  -1.28668719e-01  3.05262048e-01  1.88936972e-01 -1.48650147e-01\n",
      "   1.43796747e-01 -1.02408971e-01  9.36215258e-02  3.73230657e-02\n",
      "  -1.37105457e-01 -2.57492704e-01  3.59549506e-01  3.48467456e-02]\n",
      " [ 3.71315692e-03  9.00729440e-02  1.70711173e-01  3.51064493e-01\n",
      "  -4.61809890e-01  4.30571120e-01  1.79995662e-01 -3.06009277e-01\n",
      "  -4.85023902e-02 -8.00276382e-03 -3.07182307e-02  1.67196638e-01\n",
      "  -2.80033005e-02 -1.78165173e-01 -8.28281189e-02 -1.80189065e-01\n",
      "  -1.36559428e-01  8.42974416e-02  3.24919232e-01 -2.32568473e-01\n",
      "   2.58716633e-02 -6.50681533e-02  6.00552530e-02  1.33000276e-01]\n",
      " [-3.77348240e-03  3.26577328e-02  7.92820588e-03 -1.32752152e-01\n",
      "   9.58958926e-02 -3.06988246e-02  1.99344964e-01 -1.79516818e-01\n",
      "  -2.36135203e-02  1.23068584e-02 -6.82420100e-01  5.95844341e-01\n",
      "  -5.14386048e-03  1.28340903e-02  9.33267076e-03 -6.77786674e-03\n",
      "   5.11569897e-02 -3.69292839e-03 -1.61344718e-01  1.81504050e-01\n",
      "  -5.05199794e-02 -1.34025729e-02  6.51254815e-02 -9.37519161e-02]\n",
      " [-7.32620576e-02  1.14985641e-02 -1.16122115e-02 -1.11950283e-01\n",
      "  -2.89008946e-01  2.89807413e-01  2.87108187e-01 -1.40943123e-01\n",
      "  -7.51789842e-02  6.88123615e-02  2.61256006e-01 -1.48965149e-01\n",
      "   7.31855532e-02 -7.67781165e-02 -1.43424307e-02 -4.91990444e-02\n",
      "  -1.64076521e-03  7.27953280e-02 -5.38271441e-01  4.89229700e-01\n",
      "  -3.61613913e-02 -6.69325996e-02  7.68438607e-02 -2.26354316e-01]\n",
      " [-2.92221593e-02 -4.60059692e-02  6.60306433e-02 -9.41811697e-02\n",
      "  -3.39604360e-01  3.24166743e-01 -5.12942234e-01  6.17015476e-01\n",
      "  -3.13060242e-02  1.56373305e-01 -1.56431142e-01  1.86405642e-01\n",
      "   6.63261420e-02  1.76486613e-02 -4.14454081e-02 -7.95740738e-02\n",
      "   1.57393478e-02  7.61027393e-02 -8.89907154e-02  2.43308417e-02\n",
      "   5.26390251e-02  1.62109660e-02  1.07340890e-02 -6.67528270e-02]]\n"
     ]
    },
    {
     "data": {
      "text/plain": [
       "array([[ 1.07497264e-01,  1.23498788e-01, -2.51776339e-01,\n",
       "         2.78563000e-01,  1.62590910e-01,  1.78936650e-01,\n",
       "         2.45078605e-01,  2.46552578e-01, -2.17475294e-01,\n",
       "         6.07059192e-02, -2.89055870e-01, -2.88617637e-01,\n",
       "         1.02239032e-01, -2.67099131e-01,  4.06638693e-02,\n",
       "         2.02441093e-01,  1.81991821e-01,  1.42969902e-01,\n",
       "        -2.45587517e-01, -2.17733451e-01,  1.45079578e-01,\n",
       "         2.06965287e-01,  2.16307355e-01,  1.96669639e-01],\n",
       "       [ 3.06076512e-01,  5.86411971e-02, -9.17404940e-02,\n",
       "        -4.73529193e-02,  4.50493529e-01,  3.98136887e-01,\n",
       "        -1.92774068e-01, -1.94866359e-01,  8.06365743e-02,\n",
       "        -3.14808694e-02,  7.02528370e-02,  4.43802568e-02,\n",
       "         1.50202214e-01,  5.24003381e-02, -2.88463232e-01,\n",
       "        -2.34734232e-01, -1.67619623e-01, -7.96871417e-02,\n",
       "        -2.26215583e-01, -2.92687901e-01,  1.41546865e-01,\n",
       "        -1.13078893e-01, -5.05219795e-02, -2.66365648e-01],\n",
       "       [ 1.00633095e-01,  2.65748040e-02,  2.48852246e-02,\n",
       "        -1.13343634e-01, -1.68062421e-01, -2.31614006e-01,\n",
       "         1.98984251e-01,  1.87360804e-01,  6.90628315e-03,\n",
       "         1.60086604e-01, -1.11393183e-01, -1.24500961e-01,\n",
       "        -4.71758667e-02, -1.10622337e-01, -3.59202429e-01,\n",
       "        -3.02598523e-01, -3.26113000e-01, -5.14881924e-01,\n",
       "        -1.73562486e-01, -1.13946784e-01, -2.39914255e-01,\n",
       "         9.81491403e-02,  4.57393105e-02,  2.15933639e-01],\n",
       "       [-1.37056514e-01,  3.04123967e-01,  1.13377221e-01,\n",
       "         4.12843776e-02,  2.58417142e-01,  1.60404262e-01,\n",
       "         1.73348478e-01,  1.60343285e-01,  2.85470942e-02,\n",
       "         5.18039248e-01,  4.23584493e-02,  2.86318670e-02,\n",
       "        -4.19396140e-01,  4.94328954e-02,  1.42088186e-01,\n",
       "         2.00709255e-02, -1.01524674e-01, -4.40853634e-02,\n",
       "         3.22540716e-03,  7.06465731e-02,  1.73236323e-01,\n",
       "        -3.22825206e-01, -2.88665263e-01,  1.42715727e-01],\n",
       "       [ 2.14295754e-01,  4.30037327e-01, -3.17183194e-02,\n",
       "        -7.80680383e-02, -1.39319021e-01, -1.45693064e-01,\n",
       "        -1.31523191e-01, -7.78024707e-02,  9.20794907e-02,\n",
       "        -1.30991242e-01, -1.04605536e-01, -1.31626533e-01,\n",
       "        -3.28737573e-02, -9.25392017e-02, -4.99966220e-01,\n",
       "        -5.43987794e-02,  3.80551279e-01,  1.33521445e-01,\n",
       "         7.89797057e-02,  2.67522630e-01,  2.22426977e-01,\n",
       "        -1.04137494e-01, -2.23780205e-01,  1.75306948e-01],\n",
       "       [ 3.91680338e-02, -4.40985533e-01,  5.03894883e-02,\n",
       "         2.25110590e-02, -5.09677157e-02, -6.76938276e-02,\n",
       "        -1.80252230e-01, -2.89074341e-01,  1.62592969e-01,\n",
       "         5.43600572e-01, -1.69060073e-02, -3.08096227e-02,\n",
       "        -2.13277241e-01, -1.39981069e-01, -3.25394472e-01,\n",
       "         2.73440609e-01,  1.87860676e-01,  1.61558672e-01,\n",
       "        -1.09200406e-01, -1.27676818e-01, -1.02814935e-01,\n",
       "         4.63131744e-02,  8.04176496e-02, -2.95037128e-03],\n",
       "       [-2.91952759e-01,  2.32179136e-01,  3.03411343e-03,\n",
       "         6.72088838e-02,  1.16619560e-01,  1.00510941e-02,\n",
       "        -1.36549828e-01, -1.35542749e-01, -5.67594648e-02,\n",
       "         2.87685003e-01, -5.38054204e-02, -6.98163037e-02,\n",
       "         5.94218208e-01,  2.55061573e-02,  8.49982324e-03,\n",
       "        -7.84525548e-02,  3.96301206e-02,  1.37833307e-01,\n",
       "         8.82698064e-03, -3.82127267e-03, -4.97479822e-01,\n",
       "        -3.01755206e-02, -2.39070146e-01,  1.60226314e-01],\n",
       "       [ 4.62931098e-01,  1.80300113e-01, -1.07227904e-01,\n",
       "         3.90272493e-02, -1.81187611e-01, -2.87516861e-01,\n",
       "         1.64336077e-01,  1.68645963e-01,  2.65761480e-01,\n",
       "         1.61245658e-01, -2.05329518e-02, -2.33034772e-02,\n",
       "         6.17912651e-02, -3.21053871e-02,  1.81653181e-01,\n",
       "        -5.45766288e-02, -1.31823729e-01,  3.76966737e-01,\n",
       "         3.67276745e-02, -1.48157753e-01, -2.05869084e-01,\n",
       "        -2.80917356e-01,  7.63483873e-02, -3.47702254e-01],\n",
       "       [ 3.07746329e-02,  2.58852428e-01,  4.10505756e-02,\n",
       "         1.58794225e-02, -3.60183118e-02,  2.91906902e-02,\n",
       "        -9.30691730e-02, -7.23075382e-03, -2.65664490e-01,\n",
       "        -2.42147370e-01,  1.68945166e-01,  1.61621522e-01,\n",
       "        -4.55984851e-01,  1.70252501e-01, -2.45204592e-02,\n",
       "         4.55307382e-02,  2.22331531e-01,  1.03818723e-01,\n",
       "        -3.06192751e-01, -2.91710098e-01, -5.03116023e-01,\n",
       "         3.25708883e-02, -2.13291679e-02,  4.56964263e-02],\n",
       "       [ 6.37036745e-01, -1.60139506e-02,  2.08599020e-01,\n",
       "        -1.02564074e-02, -1.06805533e-01,  1.14563417e-01,\n",
       "        -3.19889873e-02, -1.01378388e-01, -1.01340194e-01,\n",
       "         1.39592038e-01,  7.16827905e-02,  8.08441866e-02,\n",
       "         1.78508489e-01,  6.92893845e-02,  3.22373989e-01,\n",
       "         2.48285481e-01,  1.60534072e-01, -3.49596789e-01,\n",
       "        -1.95487237e-02,  9.11088708e-02, -3.28737895e-02,\n",
       "         1.53619956e-01, -2.50840216e-01,  1.62899677e-01],\n",
       "       [ 1.03330167e-01, -4.81298505e-01, -2.33322242e-01,\n",
       "         3.72563450e-02, -6.35864827e-03,  3.59652879e-02,\n",
       "         1.25203807e-01,  1.12371199e-01, -4.50087377e-01,\n",
       "        -1.23118619e-01, -1.15994929e-01, -8.02424170e-02,\n",
       "        -5.43282496e-03, -2.59997128e-02, -1.18453276e-01,\n",
       "        -4.69378094e-02,  5.51836151e-02,  1.81743949e-02,\n",
       "         1.08012035e-01,  3.45970754e-02, -1.25657935e-01,\n",
       "        -4.95218285e-01, -3.74648102e-01, -2.89768838e-03],\n",
       "       [-1.57804206e-01, -1.18885719e-01,  3.03341785e-01,\n",
       "        -7.39065274e-02, -7.60557692e-02,  3.37712801e-02,\n",
       "         4.80982129e-02,  3.80090114e-02,  4.74475127e-01,\n",
       "        -3.31233377e-01, -1.29197567e-01, -8.08943220e-02,\n",
       "         7.14829182e-02, -2.77640743e-01,  1.38575446e-01,\n",
       "         1.57521182e-01,  3.20336169e-02, -2.11357324e-02,\n",
       "        -3.40187296e-01, -2.70606583e-01,  2.24840825e-02,\n",
       "        -2.34888784e-01, -3.21703077e-01,  1.37531094e-01],\n",
       "       [ 1.53441671e-01, -2.09020407e-01,  1.10193543e-01,\n",
       "         7.60977678e-02,  2.76291178e-01,  2.75033597e-01,\n",
       "         2.91098251e-01,  2.99583577e-01,  3.80179249e-01,\n",
       "        -1.13214075e-01,  1.43428087e-01,  1.31666801e-01,\n",
       "         1.91624251e-02,  1.50401361e-01, -2.13546645e-01,\n",
       "        -5.34502974e-02,  1.24841736e-01,  1.58638725e-01,\n",
       "         1.61186181e-01,  2.57400455e-01, -3.01294931e-01,\n",
       "         6.83456156e-02,  1.34919672e-01,  2.73888203e-01],\n",
       "       [-1.42275910e-02, -6.98432736e-02,  5.31540650e-01,\n",
       "         1.51699103e-01,  4.59351521e-02, -2.89546008e-01,\n",
       "         1.29890387e-01,  9.69150887e-02, -2.51936232e-01,\n",
       "         7.96540648e-02,  1.52803267e-01,  1.32805625e-01,\n",
       "         2.63142484e-01,  2.19683654e-01, -1.12844262e-01,\n",
       "        -1.65530063e-01,  2.33300421e-01,  6.15027477e-02,\n",
       "        -1.84670701e-01, -1.58610755e-01,  2.79785964e-01,\n",
       "        -2.34356771e-01,  2.36905836e-01,  4.38036007e-02],\n",
       "       [-1.53232774e-01,  3.70117056e-02,  8.03183202e-02,\n",
       "        -1.83480036e-01, -4.68980425e-03,  1.15918333e-01,\n",
       "         2.97945574e-01,  1.32541564e-01,  3.74279695e-02,\n",
       "         1.05693719e-01,  1.57293317e-02, -5.61971355e-02,\n",
       "         1.43819908e-02, -1.18672475e-01, -3.85125456e-02,\n",
       "        -1.18174777e-01,  5.22120673e-01, -2.39928867e-01,\n",
       "         2.57533134e-01, -2.12765152e-01, -6.51196399e-02,\n",
       "         1.90130861e-01, -1.50699840e-01, -5.14442451e-01],\n",
       "       [-9.61273492e-02,  1.94488270e-01,  3.46936974e-02,\n",
       "         1.43105103e-01, -6.81562964e-02,  7.34899120e-02,\n",
       "         5.30959625e-02,  9.47195748e-02,  9.87938258e-03,\n",
       "        -7.59354840e-02, -2.54907886e-02,  1.33166394e-05,\n",
       "         1.38775518e-01,  2.07616220e-01, -3.27313867e-01,\n",
       "         6.93275996e-01, -1.51451122e-01, -2.77706389e-01,\n",
       "         9.82340379e-02,  4.98062471e-03, -8.45313534e-02,\n",
       "        -2.50796572e-01,  1.46427825e-01, -2.27052439e-01],\n",
       "       [-2.89837909e-02, -9.01347281e-02,  3.22913009e-02,\n",
       "         6.29663235e-01, -7.58650275e-02, -7.78553426e-02,\n",
       "        -9.00447661e-03,  7.02894061e-03,  1.56957514e-01,\n",
       "        -2.56646205e-02, -2.14295296e-01, -1.59187161e-01,\n",
       "        -9.88021656e-02,  4.11367340e-01, -4.13258443e-02,\n",
       "        -1.41397419e-01, -2.52569478e-02, -2.25921230e-02,\n",
       "        -1.71427581e-01,  1.07087417e-01,  3.78112907e-02,\n",
       "         2.65629639e-01, -3.39130203e-01, -2.35212239e-01],\n",
       "       [ 1.01448173e-01,  1.79169706e-02,  5.64283747e-01,\n",
       "        -1.34958042e-01,  1.85845563e-01,  7.77673151e-03,\n",
       "         8.60762297e-03,  4.93497979e-02, -2.86235055e-01,\n",
       "        -8.23216741e-02, -1.38632901e-01, -2.05704733e-01,\n",
       "        -8.25818078e-02, -2.18080521e-01, -1.27871859e-01,\n",
       "         1.12289258e-01, -3.46494027e-01,  3.10214385e-01,\n",
       "         1.17185725e-01,  1.19343810e-01, -8.66579861e-02,\n",
       "         2.61662148e-01, -1.50469265e-01, -1.97951618e-01],\n",
       "       [ 2.64743363e-02,  3.95542698e-02,  1.13826614e-01,\n",
       "         4.48094247e-01,  2.09512646e-01, -8.70658863e-02,\n",
       "        -2.84549284e-01,  3.18847379e-02,  7.73592823e-03,\n",
       "        -6.17329608e-02,  4.80706055e-02,  6.26854347e-02,\n",
       "        -8.76347996e-02, -5.41935769e-01,  9.82887157e-02,\n",
       "        -1.16326733e-01,  1.23860446e-01, -2.79787917e-01,\n",
       "         7.54467904e-03,  2.83753827e-01, -1.88280815e-01,\n",
       "        -1.98778387e-01,  1.98008554e-01, -1.65786181e-01],\n",
       "       [ 4.42707822e-02, -7.17726548e-03,  1.98907290e-01,\n",
       "        -1.58310836e-01, -1.92736523e-03,  1.94114484e-01,\n",
       "        -1.34210940e-01, -1.54816565e-01,  4.84389190e-02,\n",
       "        -1.28031494e-02, -3.83796679e-01, -5.28619781e-01,\n",
       "        -1.28668719e-01,  3.05262048e-01,  1.88936972e-01,\n",
       "        -1.48650147e-01,  1.43796747e-01, -1.02408971e-01,\n",
       "         9.36215258e-02,  3.73230657e-02, -1.37105457e-01,\n",
       "        -2.57492704e-01,  3.59549506e-01,  3.48467456e-02],\n",
       "       [ 3.71315692e-03,  9.00729440e-02,  1.70711173e-01,\n",
       "         3.51064493e-01, -4.61809890e-01,  4.30571120e-01,\n",
       "         1.79995662e-01, -3.06009277e-01, -4.85023902e-02,\n",
       "        -8.00276382e-03, -3.07182307e-02,  1.67196638e-01,\n",
       "        -2.80033005e-02, -1.78165173e-01, -8.28281189e-02,\n",
       "        -1.80189065e-01, -1.36559428e-01,  8.42974416e-02,\n",
       "         3.24919232e-01, -2.32568473e-01,  2.58716633e-02,\n",
       "        -6.50681533e-02,  6.00552530e-02,  1.33000276e-01],\n",
       "       [-3.77348240e-03,  3.26577328e-02,  7.92820588e-03,\n",
       "        -1.32752152e-01,  9.58958926e-02, -3.06988246e-02,\n",
       "         1.99344964e-01, -1.79516818e-01, -2.36135203e-02,\n",
       "         1.23068584e-02, -6.82420100e-01,  5.95844341e-01,\n",
       "        -5.14386048e-03,  1.28340903e-02,  9.33267076e-03,\n",
       "        -6.77786674e-03,  5.11569897e-02, -3.69292839e-03,\n",
       "        -1.61344718e-01,  1.81504050e-01, -5.05199794e-02,\n",
       "        -1.34025729e-02,  6.51254815e-02, -9.37519161e-02],\n",
       "       [-7.32620576e-02,  1.14985641e-02, -1.16122115e-02,\n",
       "        -1.11950283e-01, -2.89008946e-01,  2.89807413e-01,\n",
       "         2.87108187e-01, -1.40943123e-01, -7.51789842e-02,\n",
       "         6.88123615e-02,  2.61256006e-01, -1.48965149e-01,\n",
       "         7.31855532e-02, -7.67781165e-02, -1.43424307e-02,\n",
       "        -4.91990444e-02, -1.64076521e-03,  7.27953280e-02,\n",
       "        -5.38271441e-01,  4.89229700e-01, -3.61613913e-02,\n",
       "        -6.69325996e-02,  7.68438607e-02, -2.26354316e-01],\n",
       "       [-2.92221593e-02, -4.60059692e-02,  6.60306433e-02,\n",
       "        -9.41811697e-02, -3.39604360e-01,  3.24166743e-01,\n",
       "        -5.12942234e-01,  6.17015476e-01, -3.13060242e-02,\n",
       "         1.56373305e-01, -1.56431142e-01,  1.86405642e-01,\n",
       "         6.63261420e-02,  1.76486613e-02, -4.14454081e-02,\n",
       "        -7.95740738e-02,  1.57393478e-02,  7.61027393e-02,\n",
       "        -8.89907154e-02,  2.43308417e-02,  5.26390251e-02,\n",
       "         1.62109660e-02,  1.07340890e-02, -6.67528270e-02]])"
      ]
     },
     "execution_count": 29,
     "metadata": {},
     "output_type": "execute_result"
    }
   ],
   "source": [
    "# Compute the correlation of the variables with the principal axes\n",
    "# the components_ field of the PCA object\n",
    "print(pca.components_)\n",
    "pca.components_\n",
    "# Print the correlation matrix \"variables x factors\"\n"
   ]
  },
  {
   "cell_type": "markdown",
   "metadata": {
    "colab": {},
    "colab_type": "code",
    "id": "KpTYOpo3RWcB",
    "outputId": "176b0969-109d-40a5-c448-09eecb4d02ee"
   },
   "source": [
    "#### Compute the correlation circle between the principal components and the variables"
   ]
  },
  {
   "cell_type": "code",
   "execution_count": 30,
   "metadata": {},
   "outputs": [
    {
     "name": "stdout",
     "output_type": "stream",
     "text": [
      "[[ 3.25464293e-01  4.43503562e-01  1.23947297e-01 -1.60816617e-01\n",
      "   2.24418361e-01  3.86495916e-02 -2.80586080e-01  4.21391077e-01\n",
      "   2.67773870e-02  5.45388392e-01  8.39689590e-02 -1.16704921e-01\n",
      "   1.09559505e-01 -9.98515145e-03 -9.60760139e-02 -5.87328468e-02\n",
      "  -1.64132722e-02  5.26147932e-02  1.31845148e-02  1.93997589e-02\n",
      "   1.44404502e-03 -1.36608328e-03 -2.62800023e-02 -9.71168287e-03]\n",
      " [ 3.73911337e-01  8.49708449e-02  3.27315296e-02  3.56846866e-01\n",
      "   4.50350837e-01 -4.35148490e-01  2.23139640e-01  1.64121311e-01\n",
      "   2.25230685e-01 -1.37100769e-02 -3.91116510e-01 -8.79225509e-02\n",
      "  -1.49243502e-01 -4.90171290e-02  2.32061135e-02  1.18830383e-01\n",
      "  -5.10425235e-02  9.29240688e-03  1.96984675e-02 -3.14512671e-03\n",
      "   3.50293265e-02  1.18228146e-02  4.12467656e-03 -1.52896088e-02]\n",
      " [-7.62291107e-01 -1.32931585e-01  3.06505164e-02  1.33032284e-01\n",
      "  -3.32165857e-02  4.97225149e-02  2.91598544e-03 -9.76060633e-02\n",
      "   3.57186114e-02  1.78588574e-01 -1.89604123e-01  2.24337993e-01\n",
      "   7.86797354e-02  3.73043749e-01  5.03590964e-02  2.11975013e-02\n",
      "   1.82862867e-02  2.92658525e-01  5.66869232e-02  8.71625318e-02\n",
      "   6.63894968e-02  2.87018418e-03 -4.16544328e-03  2.19446024e-02]\n",
      " [ 8.43391789e-01 -6.86141784e-02 -1.39602554e-01  4.84414330e-02\n",
      "  -8.17557086e-02  2.22130945e-02  6.45922214e-02  3.55252320e-02\n",
      "   1.38168811e-02 -8.78085224e-03  3.02755390e-02 -5.46579563e-02\n",
      "   5.43348735e-02  1.06464862e-01 -1.15040863e-01  8.74357835e-02\n",
      "   3.56572890e-01 -6.99942569e-02  2.23155933e-01 -6.93728884e-02\n",
      "   1.36528820e-01 -4.80591867e-02 -4.01579454e-02 -3.13001392e-02]\n",
      " [ 4.92268674e-01  6.52763205e-01 -2.06998333e-01  3.03216311e-01\n",
      "  -1.45899981e-01 -5.02930887e-02  1.12079177e-01 -1.64929172e-01\n",
      "  -3.13399766e-02 -9.14397766e-02 -5.16721389e-03 -5.62474392e-02\n",
      "   1.97275776e-01  3.22380261e-02 -2.94047863e-03 -4.16428139e-02\n",
      "  -4.29617144e-02  9.63864166e-02  1.04339635e-01 -8.44584596e-04\n",
      "  -1.79597654e-01  3.47164136e-02 -1.03671068e-01 -1.12864002e-01]\n",
      " [ 5.41757884e-01  5.76898653e-01 -2.85273250e-01  1.88211928e-01\n",
      "  -1.52575112e-01 -6.67978077e-02  9.65977198e-03 -2.61717220e-01\n",
      "   2.53991790e-02  9.80815597e-02  2.92263901e-02  2.49757256e-02\n",
      "   1.96377846e-01 -2.03208030e-01  7.26800870e-02  4.49015996e-02\n",
      "  -4.40888128e-02  4.03330201e-03 -4.33597825e-02  8.50622915e-02\n",
      "   1.67448911e-01 -1.11136469e-02  1.03957488e-01  1.07733470e-01]\n",
      " [ 7.42012698e-01 -2.79328803e-01  2.45083986e-01  2.03400152e-01\n",
      "  -1.37735903e-01 -1.77866347e-01 -1.31233495e-01  1.49589770e-01\n",
      "  -8.09806335e-02 -2.73868383e-02  1.01744085e-01  3.55712832e-02\n",
      "   2.07848234e-01  9.11591555e-02  1.86810056e-01  3.24411009e-02\n",
      "  -5.09915788e-03  4.46423320e-03 -1.41708717e-01 -5.88121498e-02\n",
      "   7.00002304e-02  7.21672432e-02  1.02989243e-01 -1.70471055e-01]\n",
      " [ 7.46475375e-01 -2.82360524e-01  2.30767674e-01  1.88140380e-01\n",
      "  -8.14775966e-02 -2.85248049e-01 -1.30265625e-01  1.53512919e-01\n",
      "  -6.29156794e-03 -8.67934172e-02  9.13159517e-02  2.81097618e-02\n",
      "   2.13906876e-01  6.80165628e-02  8.31027513e-02  5.78727107e-02\n",
      "   3.98042879e-03  2.55946395e-02  1.58789551e-02 -6.78416752e-02\n",
      "  -1.19006867e-01 -6.49890202e-02 -5.05580341e-02  2.05058722e-01]\n",
      " [-6.58439481e-01  1.16842053e-01  8.50629835e-03  3.34960155e-02\n",
      "   9.64290147e-02  1.60440830e-01 -5.45496325e-02  2.41914006e-01\n",
      "  -2.31157944e-01 -8.67607182e-02 -3.65753482e-01  3.50900545e-01\n",
      "   2.71453316e-01 -1.76812886e-01  2.34671084e-02  6.03620373e-03\n",
      "   8.88836939e-02 -1.48452138e-01  3.85257854e-03  2.12262648e-02\n",
      "  -1.88625572e-02 -8.54861157e-03 -2.69676275e-02 -1.04042339e-02]\n",
      " [ 1.83796390e-01 -4.56156458e-02  1.97174716e-01  6.07846479e-01\n",
      "  -1.37178826e-01  5.36405280e-01  2.76484482e-01  1.46776662e-01\n",
      "  -2.10695409e-01  1.19509397e-01 -1.00049604e-01 -2.44965364e-01\n",
      "  -8.08364371e-02  5.59024996e-02  6.62693163e-02 -4.63958195e-02\n",
      "  -1.45336545e-02 -4.26950799e-02 -3.07437030e-02 -5.61042745e-03\n",
      "  -3.11227117e-03  4.45535230e-03  2.46838416e-02  5.19690533e-02]\n",
      " [-8.75160546e-01  1.01796062e-01 -1.37200231e-01  4.97017057e-02\n",
      "  -1.09546748e-01 -1.66822333e-02 -5.17105988e-02 -1.86904763e-02\n",
      "   1.47001269e-01  6.13700263e-02 -9.42606957e-02 -9.55487318e-02\n",
      "   1.02409665e-01  1.07239782e-01  9.86219495e-03 -1.55746163e-02\n",
      "  -1.21353588e-01 -7.19001751e-02  2.39396977e-02 -1.68182323e-01\n",
      "  -1.19463058e-02 -2.47051023e-01  9.37157471e-02 -5.19882746e-02]\n",
      " [-8.73833731e-01  6.43068030e-02 -1.53344759e-01  3.35954845e-02\n",
      "  -1.37844126e-01 -3.04018154e-02 -6.70981259e-02 -2.12123951e-02\n",
      "   1.40628877e-01  6.92134029e-02 -6.52072129e-02 -5.98258161e-02\n",
      "   9.40119422e-02  9.32051163e-02 -3.52352609e-02  8.13633320e-06\n",
      "  -9.01463241e-02 -1.06686120e-01  3.12180457e-02 -2.31644795e-01\n",
      "   6.50226958e-02  2.15708702e-01 -5.34356334e-02  6.19499904e-02]\n",
      " [ 3.09544197e-01  2.17642369e-01 -5.81053496e-02 -4.92102611e-01\n",
      "  -3.44266025e-02 -2.10454227e-01  5.71083342e-01  5.62465729e-02\n",
      "  -3.96758034e-01  1.52827067e-01 -4.41486420e-03  5.28655635e-02\n",
      "   1.36822403e-02  1.84677613e-01  9.01742043e-03  8.47904505e-02\n",
      "  -5.59508190e-02 -4.28299949e-02 -4.36431076e-02 -5.63835104e-02\n",
      "  -1.08904707e-02 -1.86219016e-03  2.62525593e-02  2.20428084e-02]\n",
      " [-8.08683186e-01  7.59278667e-02 -1.36250800e-01  5.80025770e-02\n",
      "  -9.69104409e-02 -1.38128229e-01  2.45131189e-02 -2.92244866e-02\n",
      "   1.48138798e-01  5.93209516e-02 -2.11280875e-02 -2.05330654e-01\n",
      "   1.07388681e-01  1.54177510e-01 -7.44069171e-02  1.26851429e-01\n",
      "   2.32953796e-01 -1.13104664e-01 -2.69890057e-01  1.33767912e-01\n",
      "  -6.92883537e-02  4.64622180e-03 -2.75412560e-02  5.86535035e-03]\n",
      " [ 1.23116040e-01 -4.17981994e-01 -4.42420758e-01  1.66720580e-01\n",
      "  -5.23582935e-01 -3.21087434e-01  8.16889723e-03  1.65352965e-01\n",
      "  -2.13355535e-02  2.75995117e-01 -9.62584162e-02  1.02484191e-01\n",
      "  -1.52475300e-01 -7.91959118e-02 -2.41471310e-02 -1.99985492e-01\n",
      "  -2.34024712e-02 -6.63190991e-02  4.89488767e-02  8.27934704e-02\n",
      "  -3.22118173e-02  3.37863123e-03 -5.14480653e-03 -1.37739534e-02]\n",
      " [ 6.12921156e-01 -3.40128903e-01 -3.72703125e-01  2.35504191e-02\n",
      "  -5.69683939e-02  2.69821251e-01 -7.53981393e-02 -4.96793249e-02\n",
      "   3.96168560e-02  2.12565476e-01 -3.81429654e-02  1.16495608e-01\n",
      "  -3.81642620e-02 -1.16171652e-01 -7.40948639e-02  4.23584684e-01\n",
      "  -8.00721454e-02  5.82373829e-02 -5.79320106e-02 -6.51395086e-02\n",
      "  -7.00754447e-02 -2.45373622e-03 -1.76483031e-02 -2.64456217e-02]\n",
      " [ 5.51007878e-01 -2.42880119e-01 -4.01665327e-01 -1.19124981e-01\n",
      "   3.98527236e-01  1.85374084e-01  3.80871899e-02 -1.19994841e-01\n",
      "   1.93453403e-01  1.37438570e-01  4.48437357e-02  2.36906278e-02\n",
      "   8.91387503e-02  1.63733975e-01  3.27366474e-01 -9.25351171e-02\n",
      "  -1.43027929e-02 -1.79704681e-01  6.16838834e-02  6.30127155e-02\n",
      "  -5.31078986e-02  1.85199508e-02 -5.88562689e-04  5.23080972e-03]\n",
      " [ 4.32863092e-01 -1.15466329e-01 -6.34167347e-01 -5.17279974e-02\n",
      "   1.39828547e-01  1.59420224e-01  1.32467004e-01  3.43140524e-01\n",
      "   9.03339495e-02 -2.99301465e-01  1.47690172e-02 -1.56310407e-02\n",
      "   1.13270275e-01  4.31636143e-02 -1.50433935e-01 -1.69675820e-01\n",
      "  -1.27937255e-02  1.60888710e-01 -1.39337503e-01 -4.48763098e-02\n",
      "   3.27832363e-02 -1.33692096e-03  2.61125807e-02  2.52919595e-02]\n",
      " [-7.43553506e-01 -3.27785417e-01 -2.13772627e-01  3.78456341e-03\n",
      "   8.27104401e-02 -1.07754991e-01  8.48331732e-03  3.34320041e-02\n",
      "  -2.66422083e-01 -1.67363140e-02  8.77735745e-02 -2.51587282e-01\n",
      "   1.15089194e-01 -1.29604858e-01  1.61471703e-01  6.00200125e-02\n",
      "  -9.70779689e-02  6.07768725e-02  3.75733432e-03  4.10255914e-02\n",
      "   1.26360940e-01 -5.84103218e-02 -1.93084595e-01 -2.95751453e-02]\n",
      " [-6.59221090e-01 -4.24103523e-01 -1.40345439e-01  8.28938557e-02\n",
      "   2.80159495e-01 -1.25986842e-01 -3.67249798e-03 -1.34863170e-01\n",
      "  -2.53820549e-01  7.80013412e-02  2.81145427e-02 -2.00128505e-01\n",
      "   1.83787535e-01 -1.11315570e-01 -1.33402451e-01  3.04311177e-03\n",
      "   6.06426857e-02  6.18961355e-02  1.41312571e-01  1.63552221e-02\n",
      "  -9.04457721e-02  6.57084418e-02  1.75492718e-01  8.08610400e-03]\n",
      " [ 4.39250458e-01  2.05100805e-01 -2.95496461e-01  2.03268554e-01\n",
      "   2.32933676e-01 -1.01454039e-01 -4.78111299e-01 -1.87395912e-01\n",
      "  -4.37767447e-01 -2.81443469e-02 -1.02113122e-01  1.66282200e-02\n",
      "  -2.15128806e-01  1.96358274e-01 -4.08296166e-02 -5.16478096e-02\n",
      "   2.14122096e-02 -4.49440525e-02 -9.37659458e-02 -6.00805470e-02\n",
      "   1.00614780e-02 -1.82893391e-02 -1.29715364e-02  1.74940364e-02]\n",
      " [ 6.26618840e-01 -1.63850834e-01  1.20887872e-01 -3.78790151e-01\n",
      "  -1.09056597e-01  4.57001566e-02 -2.90006885e-02 -2.55709906e-01\n",
      "   2.83403310e-02  1.31519164e-01 -4.02428109e-01 -1.73713221e-01\n",
      "   4.87997280e-02 -1.64475339e-01  1.19210889e-01 -1.53234192e-01\n",
      "   1.50423787e-01  1.35707716e-01 -9.89938539e-02 -1.12835060e-01\n",
      "  -2.53049749e-02 -4.85202496e-03 -2.40095478e-02  5.38754715e-03]\n",
      " [ 6.54903368e-01 -7.32061332e-02  5.63359788e-02 -3.38708244e-01\n",
      "  -2.34350826e-01  7.93532127e-02 -2.29762361e-01  6.94974464e-02\n",
      "  -1.85587717e-02 -2.14752670e-01 -3.04449435e-01 -2.37917182e-01\n",
      "   9.63345383e-02  1.66264313e-01 -9.44878795e-02  8.94659330e-02\n",
      "  -1.92046525e-01 -7.80389537e-02  9.86104682e-02  1.57557047e-01\n",
      "   2.33554603e-02  2.35768508e-02  2.75648392e-02  3.56736364e-03]\n",
      " [ 5.95447203e-01 -3.85962689e-01  2.65960129e-01  1.67456911e-01\n",
      "   1.83587855e-01 -2.91131910e-03  1.53988178e-01 -3.16502019e-01\n",
      "   3.97610233e-02  1.39463843e-01 -2.35474192e-03  1.01711835e-01\n",
      "   1.95560018e-01  3.07420692e-02 -3.22552276e-01 -1.38726764e-01\n",
      "  -1.33198674e-01 -1.02665067e-01 -8.25633672e-02  1.52700817e-02\n",
      "   5.17237462e-02 -3.39402471e-02 -8.11960808e-02 -2.21846127e-02]]\n"
     ]
    }
   ],
   "source": [
    "# Calcul de correlation des variables  \n",
    "sqrt_cor_var = np.sqrt(corrected_variance) # ecart type\n",
    "corvar = np.zeros((p,p))\n",
    "for k in range(p):\n",
    "  corvar[:,k] = pca.components_[k,:] * sqrt_cor_var[k]\n",
    "# Matrice de correlation \"variables x factors\"\n",
    "print(corvar)"
   ]
  },
  {
   "cell_type": "code",
   "execution_count": 31,
   "metadata": {},
   "outputs": [
    {
     "data": {
      "image/png": "[encoded data removed]",
      "text/plain": [
       "<Figure size 576x576 with 1 Axes>"
      ]
     },
     "metadata": {
      "needs_background": "light"
     },
     "output_type": "display_data"
    }
   ],
   "source": [
    "# Plot the correlation circle\n",
    "\n",
    "# Correlation circle\n",
    "fig, axes = plt.subplots(figsize=(8,8))\n",
    "axes.set_xlim(-1,1)\n",
    "axes.set_ylim(-1,1)\n",
    "# Print the labels (variable names)\n",
    "for j in range(p):\n",
    "     plt.annotate(data_tr.columns[j],(corvar[j,0],corvar[j,1]))\n",
    "\n",
    "# Add the axes\n",
    "plt.plot([-1,1],[0,0],color='silver',linestyle='-',linewidth=1)\n",
    "plt.plot([0,0],[-1,1],color='silver',linestyle='-',linewidth=1)\n",
    "\n",
    "# Add a circle\n",
    "cercle = plt.Circle((0,0),1,color='blue',fill=False)\n",
    "axes.add_artist(cercle)\n",
    "# Print the correlation circle\n",
    "plt.show()"
   ]
  },
  {
   "cell_type": "markdown",
   "metadata": {},
   "source": [
    "<u> Conclusion : </u> On remarque une forte correlation entre deux groupes de variables différentes : <br>\n",
    "Premier groupe : pcv, sod, sg, bcc, hemo. <br>\n",
    "Deuxième groupe : wbcc, cad, bp, pot, age. <br>\n",
    "Troisème groupe : su, bgr. <br>\n",
    "Quatrième groupe : ba, pe, al, appet, pcc, pcane. <br>\n",
    "Cinquième groupe : sg, htn, dm. <br>\n",
    "\n",
    "Et enfin une variable indépendante du reste : rbc"
   ]
  },
  {
   "cell_type": "markdown",
   "metadata": {},
   "source": [
    "## Further questions:\n",
    "- Relative contribution of axes to individuals : determine which individuals carry the most weight in the definition of each factor.\n",
    "- Relative contribution of individuals to axes"
   ]
  },
  {
   "cell_type": "markdown",
   "metadata": {},
   "source": [
    "### Relative contribution of axes to individuals"
   ]
  },
  {
   "cell_type": "code",
   "execution_count": 32,
   "metadata": {},
   "outputs": [
    {
     "name": "stdout",
     "output_type": "stream",
     "text": [
      "       id     CTR_1     CTR_2\n",
      "0     age  0.011556  0.093683\n",
      "1      bp  0.015252  0.003439\n",
      "2      sg  0.063391  0.008416\n",
      "3      al  0.077597  0.002242\n",
      "4      su  0.026436  0.202944\n",
      "5     bgr  0.032018  0.158513\n",
      "6      bu  0.060064  0.037162\n",
      "7      sc  0.060788  0.037973\n",
      "8     sod  0.047296  0.006502\n",
      "9     pot  0.003685  0.000991\n",
      "10   hemo  0.083553  0.004935\n",
      "11    pcv  0.083300  0.001970\n",
      "12   wbcc  0.010453  0.022561\n",
      "13   rbcc  0.071342  0.002746\n",
      "14    rbc  0.001654  0.083211\n",
      "15     pc  0.040982  0.055100\n",
      "16    pcc  0.033121  0.028096\n",
      "17     ba  0.020440  0.006350\n",
      "18    htn  0.060313  0.051173\n",
      "19     dm  0.047408  0.085666\n",
      "20    cad  0.021048  0.020036\n",
      "21  appet  0.042835  0.012787\n",
      "22     pe  0.046789  0.002552\n",
      "23    ane  0.038679  0.070951\n"
     ]
    }
   ],
   "source": [
    "# Corrélation des variables avec les axes\n",
    "eigval = (n-1)/n*pca.explained_variance_\n",
    "corvar = np.zeros((p,p))\n",
    "sqrt_eigval = np.sqrt(eigval)\n",
    "for k in range(p):\n",
    " corvar[:,k] = pca.components_[k,:] * sqrt_eigval[k]\n",
    "cos2var = corvar**2\n",
    "\n",
    "ctrvar = cos2var\n",
    "for k in range(p):\n",
    " ctrvar[:,k] = ctrvar[:,k]/eigval[k]\n",
    "# On n'affiche que pour les deux premiers axes\n",
    "print(pd.DataFrame({'id':data_tr.columns,'CTR_1':ctrvar[:,0],'CTR_2':ctrvar[:,1]}))"
   ]
  },
  {
   "cell_type": "markdown",
   "metadata": {},
   "source": [
    "### Relative contribution of individuals to axes"
   ]
  },
  {
   "cell_type": "code",
   "execution_count": 33,
   "metadata": {},
   "outputs": [
    {
     "name": "stdout",
     "output_type": "stream",
     "text": [
      "      id     CIA_1     CIA_2\n",
      "0      3  0.016088  0.020735\n",
      "1      5  0.000445  0.007204\n",
      "2      9  0.015971  0.023835\n",
      "3     11  0.013487  0.000171\n",
      "4     12  0.013020  0.007563\n",
      "..   ...       ...       ...\n",
      "198  395  0.001970  0.000011\n",
      "199  396  0.004483  0.000694\n",
      "200  397  0.002679  0.002388\n",
      "201  398  0.003048  0.003098\n",
      "202  399  0.003413  0.000023\n",
      "\n",
      "[203 rows x 3 columns]\n"
     ]
    }
   ],
   "source": [
    "cia = x_pca**2\n",
    "for j in range(p):\n",
    " cia[:,j] = cia[:,j]/(n*eigval[j])\n",
    "# On n'affiche pour les deux premiers individus\n",
    "print(pd.DataFrame({'id':data_tr.index,'CIA_1':cia[:,0],'CIA_2':cia[:,1]}))"
   ]
  }
 ],
 "metadata": {
  "celltoolbar": "Raw Cell Format",
  "colab": {
   "collapsed_sections": [],
   "name": "Copy of K Means Clustering Project - Solutions.ipynb",
   "provenance": [
    {
     "file_id": "1hd6m2nlCRdIuArnviwQApwLuQzwUVQqe",
     "timestamp": 1569178204442
    }
   ]
  },
  "kernelspec": {
   "display_name": "Python 3",
   "language": "python",
   "name": "python3"
  },
  "language_info": {
   "codemirror_mode": {
    "name": "ipython",
    "version": 3
   },
   "file_extension": ".py",
   "mimetype": "text/x-python",
   "name": "python",
   "nbconvert_exporter": "python",
   "pygments_lexer": "ipython3",
   "version": "3.8.2"
  }
 },
 "nbformat": 4,
 "nbformat_minor": 2
}
