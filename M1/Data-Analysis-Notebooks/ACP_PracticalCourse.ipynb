{
 "cells": [
  {
   "cell_type": "markdown",
   "metadata": {
    "colab_type": "text",
    "id": "u8vwRIunRWa_"
   },
   "source": [
    "# # Principal Component Analysis Practical Course\n",
    "For this practical course we will use Principal Component Analysis (PCA) to visualize the patients described in the Chronic_Kidney_Disease dataset.\n",
    "\n",
    "It is **important to note that we will NOT use the labels for the PCA.** \n",
    "\n",
    "___\n",
    "\n",
    "## The Data\n",
    "\n",
    "We will use a data frame with 400 instances on the following 24 variables.\n",
    "* Attribute Information:\n",
    "We use 24 ( 11 numeric, 13 nominal) \n",
    "\n",
    "1.Age(numerical) \n",
    "age in years \n",
    "\n",
    "2.Blood Pressure(numerical) \n",
    "bp in mm/Hg \n",
    "\n",
    "3.Specific Gravity(nominal??) \n",
    "sg - (1.005,1.010,1.015,1.020,1.025) \n",
    "\n",
    "4.Albumin(nominal??) \n",
    "al - (0,1,2,3,4,5) \n",
    "\n",
    "5.Sugar(nominal??) \n",
    "su - (0,1,2,3,4,5) \n",
    "\n",
    "6.Red Blood Cells(nominal) \n",
    "rbc - (normal,abnormal) \n",
    "\n",
    "7.Pus Cell (nominal) \n",
    "pc - (normal,abnormal) \n",
    "\n",
    "8.Pus Cell clumps(nominal) \n",
    "pcc - (present,notpresent) \n",
    "\n",
    "9.Bacteria(nominal) \n",
    "ba - (present,notpresent) \n",
    "\n",
    "10.Blood Glucose Random(numerical)\t\n",
    "bgr in mgs/dl \n",
    "\n",
    "11.Blood Urea(numerical)\t\n",
    "bu in mgs/dl\n",
    "\n",
    "12.Serum Creatinine(numerical)\t\n",
    "sc in mgs/dl\n",
    "\n",
    "13.Sodium(numerical) \n",
    "sod in mEq/L \n",
    "\n",
    "14.Potassium(numerical)\t\n",
    "pot in mEq/L \n",
    "\n",
    "15.Hemoglobin(numerical) \n",
    "hemo in gms \n",
    "\n",
    "16.Packed Cell Volume(numerical) \n",
    "\n",
    "17.White Blood Cell Count(numerical) \n",
    "wc in cells/cumm \n",
    "\n",
    "18.Red Blood Cell Count(numerical)\t\n",
    "rc in millions/cmm \n",
    "\n",
    "19.Hypertension(nominal)\t\n",
    "htn - (yes,no) \n",
    "\n",
    "20.Diabetes Mellitus(nominal)\t\n",
    "dm - (yes,no) \n",
    "\n",
    "21.Coronary Artery Disease(nominal) \n",
    "cad - (yes,no) \n",
    "\n",
    "22.Appetite(nominal)\t\n",
    "appet - (good,poor) \n",
    "\n",
    "23.Pedal Edema(nominal) \n",
    "pe - (yes,no)\t\n",
    "\n",
    "24.Anemia(nominal) \n",
    "ane - (yes,no) \n",
    "\n"
   ]
  },
  {
   "cell_type": "markdown",
   "metadata": {
    "colab_type": "text",
    "id": "OmlK7xfGe0yw"
   },
   "source": [
    "## Mount Drive\n",
    "\n",
    "**For google colab users only**"
   ]
  },
  {
   "cell_type": "code",
   "execution_count": 0,
   "metadata": {
    "colab": {
     "base_uri": "https://localhost:8080/",
     "height": 34
    },
    "colab_type": "code",
    "id": "9CFAM84Me9dB",
    "outputId": "b986e746-d570-4a4c-e1ec-c1c7b87b31d5"
   },
   "outputs": [
    {
     "name": "stdout",
     "output_type": "stream",
     "text": [
      "Drive already mounted at /content/drive; to attempt to forcibly remount, call drive.mount(\"/content/drive\", force_remount=True).\n"
     ]
    }
   ],
   "source": [
    "import os\n",
    "from google.colab import drive\n",
    "\n",
    "drive.mount('/content/drive')\n",
    "\n",
    "# Change to the directory to where your files are\n",
    "#os.chdir('drive/My Drive/')  "
   ]
  },
  {
   "cell_type": "markdown",
   "metadata": {
    "colab_type": "text",
    "id": "LOkk8MDZRWbA"
   },
   "source": [
    "## Importer les librairies\n",
    "\n"
   ]
  },
  {
   "cell_type": "code",
   "execution_count": 0,
   "metadata": {
    "colab": {},
    "colab_type": "code",
    "id": "zMzYC9t-egB5"
   },
   "outputs": [],
   "source": [
    "import seaborn as sns\n",
    "import matplotlib.pyplot as plt\n",
    "import pandas as pd\n",
    "import numpy as np\n",
    "%matplotlib inline"
   ]
  },
  {
   "cell_type": "markdown",
   "metadata": {
    "colab_type": "text",
    "id": "NbbEEnkpRWbE"
   },
   "source": [
    "## Lecture des données"
   ]
  },
  {
   "cell_type": "markdown",
   "metadata": {
    "colab_type": "text",
    "id": "TmHQPPWoRWbE"
   },
   "source": [
    "** Lire le fichier csv \"chronic_kidney_disease\"**"
   ]
  },
  {
   "cell_type": "code",
   "execution_count": 0,
   "metadata": {
    "colab": {},
    "colab_type": "code",
    "id": "EQjK_f6OegCP"
   },
   "outputs": [],
   "source": [
    "df = pd.read_csv('chronic_kidney_disease.csv', header=0)"
   ]
  },
  {
   "cell_type": "markdown",
   "metadata": {
    "colab_type": "text",
    "id": "6e6t-a6jRWbH"
   },
   "source": [
    "**L'en-tete du dataset**"
   ]
  },
  {
   "cell_type": "code",
   "execution_count": 0,
   "metadata": {
    "colab": {
     "base_uri": "https://localhost:8080/",
     "height": 204
    },
    "colab_type": "code",
    "id": "KteUvFQdRWbI",
    "outputId": "eb1bfb39-48f2-441f-bc07-dd2232eb2802"
   },
   "outputs": [
    {
     "data": {
      "text/html": [
       "<div>\n",
       "<style scoped>\n",
       "    .dataframe tbody tr th:only-of-type {\n",
       "        vertical-align: middle;\n",
       "    }\n",
       "\n",
       "    .dataframe tbody tr th {\n",
       "        vertical-align: top;\n",
       "    }\n",
       "\n",
       "    .dataframe thead th {\n",
       "        text-align: right;\n",
       "    }\n",
       "</style>\n",
       "<table border=\"1\" class=\"dataframe\">\n",
       "  <thead>\n",
       "    <tr style=\"text-align: right;\">\n",
       "      <th></th>\n",
       "      <th>age</th>\n",
       "      <th>bp</th>\n",
       "      <th>sg</th>\n",
       "      <th>al</th>\n",
       "      <th>su</th>\n",
       "      <th>rbc</th>\n",
       "      <th>pc</th>\n",
       "      <th>pcc</th>\n",
       "      <th>ba</th>\n",
       "      <th>bgr</th>\n",
       "      <th>bu</th>\n",
       "      <th>sc</th>\n",
       "      <th>sod</th>\n",
       "      <th>pot</th>\n",
       "      <th>hemo</th>\n",
       "      <th>pcv</th>\n",
       "      <th>wbcc</th>\n",
       "      <th>rbcc</th>\n",
       "      <th>htn</th>\n",
       "      <th>dm</th>\n",
       "      <th>cad</th>\n",
       "      <th>appet</th>\n",
       "      <th>pe</th>\n",
       "      <th>ane</th>\n",
       "      <th>class</th>\n",
       "    </tr>\n",
       "  </thead>\n",
       "  <tbody>\n",
       "    <tr>\n",
       "      <th>0</th>\n",
       "      <td>48.0</td>\n",
       "      <td>80.0</td>\n",
       "      <td>1.020</td>\n",
       "      <td>1.0</td>\n",
       "      <td>0.0</td>\n",
       "      <td>NaN</td>\n",
       "      <td>normal</td>\n",
       "      <td>notpresent</td>\n",
       "      <td>notpresent</td>\n",
       "      <td>121.0</td>\n",
       "      <td>36.0</td>\n",
       "      <td>1.2</td>\n",
       "      <td>NaN</td>\n",
       "      <td>NaN</td>\n",
       "      <td>15.4</td>\n",
       "      <td>44</td>\n",
       "      <td>7800</td>\n",
       "      <td>5.2</td>\n",
       "      <td>yes</td>\n",
       "      <td>yes</td>\n",
       "      <td>no</td>\n",
       "      <td>good</td>\n",
       "      <td>no</td>\n",
       "      <td>no</td>\n",
       "      <td>ckd</td>\n",
       "    </tr>\n",
       "    <tr>\n",
       "      <th>1</th>\n",
       "      <td>7.0</td>\n",
       "      <td>50.0</td>\n",
       "      <td>1.020</td>\n",
       "      <td>4.0</td>\n",
       "      <td>0.0</td>\n",
       "      <td>NaN</td>\n",
       "      <td>normal</td>\n",
       "      <td>notpresent</td>\n",
       "      <td>notpresent</td>\n",
       "      <td>NaN</td>\n",
       "      <td>18.0</td>\n",
       "      <td>0.8</td>\n",
       "      <td>NaN</td>\n",
       "      <td>NaN</td>\n",
       "      <td>11.3</td>\n",
       "      <td>38</td>\n",
       "      <td>6000</td>\n",
       "      <td>NaN</td>\n",
       "      <td>no</td>\n",
       "      <td>no</td>\n",
       "      <td>no</td>\n",
       "      <td>good</td>\n",
       "      <td>no</td>\n",
       "      <td>no</td>\n",
       "      <td>ckd</td>\n",
       "    </tr>\n",
       "    <tr>\n",
       "      <th>2</th>\n",
       "      <td>62.0</td>\n",
       "      <td>80.0</td>\n",
       "      <td>1.010</td>\n",
       "      <td>2.0</td>\n",
       "      <td>3.0</td>\n",
       "      <td>normal</td>\n",
       "      <td>normal</td>\n",
       "      <td>notpresent</td>\n",
       "      <td>notpresent</td>\n",
       "      <td>423.0</td>\n",
       "      <td>53.0</td>\n",
       "      <td>1.8</td>\n",
       "      <td>NaN</td>\n",
       "      <td>NaN</td>\n",
       "      <td>9.6</td>\n",
       "      <td>31</td>\n",
       "      <td>7500</td>\n",
       "      <td>NaN</td>\n",
       "      <td>no</td>\n",
       "      <td>yes</td>\n",
       "      <td>no</td>\n",
       "      <td>poor</td>\n",
       "      <td>no</td>\n",
       "      <td>yes</td>\n",
       "      <td>ckd</td>\n",
       "    </tr>\n",
       "    <tr>\n",
       "      <th>3</th>\n",
       "      <td>48.0</td>\n",
       "      <td>70.0</td>\n",
       "      <td>1.005</td>\n",
       "      <td>4.0</td>\n",
       "      <td>0.0</td>\n",
       "      <td>normal</td>\n",
       "      <td>abnormal</td>\n",
       "      <td>present</td>\n",
       "      <td>notpresent</td>\n",
       "      <td>117.0</td>\n",
       "      <td>56.0</td>\n",
       "      <td>3.8</td>\n",
       "      <td>111.0</td>\n",
       "      <td>2.5</td>\n",
       "      <td>11.2</td>\n",
       "      <td>32</td>\n",
       "      <td>6700</td>\n",
       "      <td>3.9</td>\n",
       "      <td>yes</td>\n",
       "      <td>no</td>\n",
       "      <td>no</td>\n",
       "      <td>poor</td>\n",
       "      <td>yes</td>\n",
       "      <td>yes</td>\n",
       "      <td>ckd</td>\n",
       "    </tr>\n",
       "    <tr>\n",
       "      <th>4</th>\n",
       "      <td>51.0</td>\n",
       "      <td>80.0</td>\n",
       "      <td>1.010</td>\n",
       "      <td>2.0</td>\n",
       "      <td>0.0</td>\n",
       "      <td>normal</td>\n",
       "      <td>normal</td>\n",
       "      <td>notpresent</td>\n",
       "      <td>notpresent</td>\n",
       "      <td>106.0</td>\n",
       "      <td>26.0</td>\n",
       "      <td>1.4</td>\n",
       "      <td>NaN</td>\n",
       "      <td>NaN</td>\n",
       "      <td>11.6</td>\n",
       "      <td>35</td>\n",
       "      <td>7300</td>\n",
       "      <td>4.6</td>\n",
       "      <td>no</td>\n",
       "      <td>no</td>\n",
       "      <td>no</td>\n",
       "      <td>good</td>\n",
       "      <td>no</td>\n",
       "      <td>no</td>\n",
       "      <td>ckd</td>\n",
       "    </tr>\n",
       "  </tbody>\n",
       "</table>\n",
       "</div>"
      ],
      "text/plain": [
       "    age    bp     sg   al   su     rbc  ...   dm cad appet   pe  ane  class\n",
       "0  48.0  80.0  1.020  1.0  0.0     NaN  ...  yes  no  good   no   no    ckd\n",
       "1   7.0  50.0  1.020  4.0  0.0     NaN  ...   no  no  good   no   no    ckd\n",
       "2  62.0  80.0  1.010  2.0  3.0  normal  ...  yes  no  poor   no  yes    ckd\n",
       "3  48.0  70.0  1.005  4.0  0.0  normal  ...   no  no  poor  yes  yes    ckd\n",
       "4  51.0  80.0  1.010  2.0  0.0  normal  ...   no  no  good   no   no    ckd\n",
       "\n",
       "[5 rows x 25 columns]"
      ]
     },
     "execution_count": 62,
     "metadata": {
      "tags": []
     },
     "output_type": "execute_result"
    }
   ],
   "source": [
    "df.head()"
   ]
  },
  {
   "cell_type": "markdown",
   "metadata": {
    "colab_type": "text",
    "id": "Ty1ulxA3RWbM"
   },
   "source": [
    "** verifier info() et describe() méthodes.**"
   ]
  },
  {
   "cell_type": "code",
   "execution_count": 0,
   "metadata": {
    "colab": {
     "base_uri": "https://localhost:8080/",
     "height": 527
    },
    "colab_type": "code",
    "id": "UONs9szkRWbN",
    "outputId": "fab4c24c-5e94-41d1-d4f8-6adf9691f681"
   },
   "outputs": [
    {
     "name": "stdout",
     "output_type": "stream",
     "text": [
      "<class 'pandas.core.frame.DataFrame'>\n",
      "RangeIndex: 400 entries, 0 to 399\n",
      "Data columns (total 25 columns):\n",
      "age      391 non-null float64\n",
      "bp       388 non-null float64\n",
      "sg       353 non-null float64\n",
      "al       354 non-null float64\n",
      "su       351 non-null float64\n",
      "rbc      248 non-null object\n",
      "pc       335 non-null object\n",
      "pcc      396 non-null object\n",
      "ba       396 non-null object\n",
      "bgr      356 non-null float64\n",
      "bu       381 non-null float64\n",
      "sc       383 non-null float64\n",
      "sod      313 non-null float64\n",
      "pot      312 non-null float64\n",
      "hemo     348 non-null float64\n",
      "pcv      330 non-null object\n",
      "wbcc     295 non-null object\n",
      "rbcc     270 non-null object\n",
      "htn      398 non-null object\n",
      "dm       398 non-null object\n",
      "cad      398 non-null object\n",
      "appet    399 non-null object\n",
      "pe       399 non-null object\n",
      "ane      399 non-null object\n",
      "class    400 non-null object\n",
      "dtypes: float64(11), object(14)\n",
      "memory usage: 78.2+ KB\n"
     ]
    }
   ],
   "source": [
    "df.info()"
   ]
  },
  {
   "cell_type": "code",
   "execution_count": 0,
   "metadata": {
    "colab": {
     "base_uri": "https://localhost:8080/",
     "height": 297
    },
    "colab_type": "code",
    "id": "ezsdOY4iRWbP",
    "outputId": "1c7c9722-ee66-40e6-9617-6a819b90bf24"
   },
   "outputs": [
    {
     "data": {
      "text/html": [
       "<div>\n",
       "<style scoped>\n",
       "    .dataframe tbody tr th:only-of-type {\n",
       "        vertical-align: middle;\n",
       "    }\n",
       "\n",
       "    .dataframe tbody tr th {\n",
       "        vertical-align: top;\n",
       "    }\n",
       "\n",
       "    .dataframe thead th {\n",
       "        text-align: right;\n",
       "    }\n",
       "</style>\n",
       "<table border=\"1\" class=\"dataframe\">\n",
       "  <thead>\n",
       "    <tr style=\"text-align: right;\">\n",
       "      <th></th>\n",
       "      <th>age</th>\n",
       "      <th>bp</th>\n",
       "      <th>sg</th>\n",
       "      <th>al</th>\n",
       "      <th>su</th>\n",
       "      <th>bgr</th>\n",
       "      <th>bu</th>\n",
       "      <th>sc</th>\n",
       "      <th>sod</th>\n",
       "      <th>pot</th>\n",
       "      <th>hemo</th>\n",
       "    </tr>\n",
       "  </thead>\n",
       "  <tbody>\n",
       "    <tr>\n",
       "      <th>count</th>\n",
       "      <td>391.000000</td>\n",
       "      <td>388.000000</td>\n",
       "      <td>353.000000</td>\n",
       "      <td>354.000000</td>\n",
       "      <td>351.000000</td>\n",
       "      <td>356.000000</td>\n",
       "      <td>381.000000</td>\n",
       "      <td>383.000000</td>\n",
       "      <td>313.000000</td>\n",
       "      <td>312.000000</td>\n",
       "      <td>348.000000</td>\n",
       "    </tr>\n",
       "    <tr>\n",
       "      <th>mean</th>\n",
       "      <td>51.483376</td>\n",
       "      <td>76.469072</td>\n",
       "      <td>1.017408</td>\n",
       "      <td>1.016949</td>\n",
       "      <td>0.450142</td>\n",
       "      <td>148.036517</td>\n",
       "      <td>57.425722</td>\n",
       "      <td>3.072454</td>\n",
       "      <td>137.528754</td>\n",
       "      <td>4.627244</td>\n",
       "      <td>12.526437</td>\n",
       "    </tr>\n",
       "    <tr>\n",
       "      <th>std</th>\n",
       "      <td>17.169714</td>\n",
       "      <td>13.683637</td>\n",
       "      <td>0.005717</td>\n",
       "      <td>1.352679</td>\n",
       "      <td>1.099191</td>\n",
       "      <td>79.281714</td>\n",
       "      <td>50.503006</td>\n",
       "      <td>5.741126</td>\n",
       "      <td>10.408752</td>\n",
       "      <td>3.193904</td>\n",
       "      <td>2.912587</td>\n",
       "    </tr>\n",
       "    <tr>\n",
       "      <th>min</th>\n",
       "      <td>2.000000</td>\n",
       "      <td>50.000000</td>\n",
       "      <td>1.005000</td>\n",
       "      <td>0.000000</td>\n",
       "      <td>0.000000</td>\n",
       "      <td>22.000000</td>\n",
       "      <td>1.500000</td>\n",
       "      <td>0.400000</td>\n",
       "      <td>4.500000</td>\n",
       "      <td>2.500000</td>\n",
       "      <td>3.100000</td>\n",
       "    </tr>\n",
       "    <tr>\n",
       "      <th>25%</th>\n",
       "      <td>42.000000</td>\n",
       "      <td>70.000000</td>\n",
       "      <td>1.010000</td>\n",
       "      <td>0.000000</td>\n",
       "      <td>0.000000</td>\n",
       "      <td>99.000000</td>\n",
       "      <td>27.000000</td>\n",
       "      <td>0.900000</td>\n",
       "      <td>135.000000</td>\n",
       "      <td>3.800000</td>\n",
       "      <td>10.300000</td>\n",
       "    </tr>\n",
       "    <tr>\n",
       "      <th>50%</th>\n",
       "      <td>55.000000</td>\n",
       "      <td>80.000000</td>\n",
       "      <td>1.020000</td>\n",
       "      <td>0.000000</td>\n",
       "      <td>0.000000</td>\n",
       "      <td>121.000000</td>\n",
       "      <td>42.000000</td>\n",
       "      <td>1.300000</td>\n",
       "      <td>138.000000</td>\n",
       "      <td>4.400000</td>\n",
       "      <td>12.650000</td>\n",
       "    </tr>\n",
       "    <tr>\n",
       "      <th>75%</th>\n",
       "      <td>64.500000</td>\n",
       "      <td>80.000000</td>\n",
       "      <td>1.020000</td>\n",
       "      <td>2.000000</td>\n",
       "      <td>0.000000</td>\n",
       "      <td>163.000000</td>\n",
       "      <td>66.000000</td>\n",
       "      <td>2.800000</td>\n",
       "      <td>142.000000</td>\n",
       "      <td>4.900000</td>\n",
       "      <td>15.000000</td>\n",
       "    </tr>\n",
       "    <tr>\n",
       "      <th>max</th>\n",
       "      <td>90.000000</td>\n",
       "      <td>180.000000</td>\n",
       "      <td>1.025000</td>\n",
       "      <td>5.000000</td>\n",
       "      <td>5.000000</td>\n",
       "      <td>490.000000</td>\n",
       "      <td>391.000000</td>\n",
       "      <td>76.000000</td>\n",
       "      <td>163.000000</td>\n",
       "      <td>47.000000</td>\n",
       "      <td>17.800000</td>\n",
       "    </tr>\n",
       "  </tbody>\n",
       "</table>\n",
       "</div>"
      ],
      "text/plain": [
       "              age          bp          sg  ...         sod         pot        hemo\n",
       "count  391.000000  388.000000  353.000000  ...  313.000000  312.000000  348.000000\n",
       "mean    51.483376   76.469072    1.017408  ...  137.528754    4.627244   12.526437\n",
       "std     17.169714   13.683637    0.005717  ...   10.408752    3.193904    2.912587\n",
       "min      2.000000   50.000000    1.005000  ...    4.500000    2.500000    3.100000\n",
       "25%     42.000000   70.000000    1.010000  ...  135.000000    3.800000   10.300000\n",
       "50%     55.000000   80.000000    1.020000  ...  138.000000    4.400000   12.650000\n",
       "75%     64.500000   80.000000    1.020000  ...  142.000000    4.900000   15.000000\n",
       "max     90.000000  180.000000    1.025000  ...  163.000000   47.000000   17.800000\n",
       "\n",
       "[8 rows x 11 columns]"
      ]
     },
     "execution_count": 64,
     "metadata": {
      "tags": []
     },
     "output_type": "execute_result"
    }
   ],
   "source": [
    "df.describe()"
   ]
  },
  {
   "cell_type": "markdown",
   "metadata": {
    "colab_type": "text",
    "id": "-p882rolegCv"
   },
   "source": [
    "# Data Preparation"
   ]
  },
  {
   "cell_type": "markdown",
   "metadata": {
    "colab_type": "text",
    "id": "6cMwbuSounLd"
   },
   "source": [
    "### Séparer les variables des labels"
   ]
  },
  {
   "cell_type": "code",
   "execution_count": 0,
   "metadata": {
    "colab": {},
    "colab_type": "code",
    "id": "9YEElFsvegCy"
   },
   "outputs": [],
   "source": [
    "\n",
    "data = df.drop(\"class\", axis =1)\n",
    "labels = df[\"class\"]"
   ]
  },
  {
   "cell_type": "markdown",
   "metadata": {
    "colab_type": "text",
    "id": "NtUlwiEwvAbd"
   },
   "source": [
    "### Séparer les données numeriques des données categoriques"
   ]
  },
  {
   "cell_type": "code",
   "execution_count": 0,
   "metadata": {
    "colab": {},
    "colab_type": "code",
    "id": "uNmJyjITk8NS"
   },
   "outputs": [],
   "source": [
    "# données numeriques\n",
    "data_num = data[[\"age\", \"bp\",\"sg\", \"al\", \"su\", \"bgr\", \"bu\", \"sc\", \"sod\", \"pot\", \"hemo\",\"pcv\", \"wbcc\", \"rbcc\"]]\n",
    "\n",
    "# données categoriques\n",
    "data_cat = data[[\"rbc\",\"pc\",\"pcc\",\"ba\",\"htn\",\"dm\", \"cad\", \"appet\", \"pe\", \"ane\"]]\n"
   ]
  },
  {
   "cell_type": "code",
   "execution_count": 0,
   "metadata": {
    "colab": {
     "base_uri": "https://localhost:8080/",
     "height": 297
    },
    "colab_type": "code",
    "id": "LYdI6SGYegC-",
    "outputId": "364d4dfc-8f24-4ee6-a7a8-9891e015c475",
    "scrolled": true
   },
   "outputs": [
    {
     "data": {
      "text/html": [
       "<div>\n",
       "<style scoped>\n",
       "    .dataframe tbody tr th:only-of-type {\n",
       "        vertical-align: middle;\n",
       "    }\n",
       "\n",
       "    .dataframe tbody tr th {\n",
       "        vertical-align: top;\n",
       "    }\n",
       "\n",
       "    .dataframe thead th {\n",
       "        text-align: right;\n",
       "    }\n",
       "</style>\n",
       "<table border=\"1\" class=\"dataframe\">\n",
       "  <thead>\n",
       "    <tr style=\"text-align: right;\">\n",
       "      <th></th>\n",
       "      <th>age</th>\n",
       "      <th>bp</th>\n",
       "      <th>sg</th>\n",
       "      <th>al</th>\n",
       "      <th>su</th>\n",
       "      <th>bgr</th>\n",
       "      <th>bu</th>\n",
       "      <th>sc</th>\n",
       "      <th>sod</th>\n",
       "      <th>pot</th>\n",
       "      <th>hemo</th>\n",
       "    </tr>\n",
       "  </thead>\n",
       "  <tbody>\n",
       "    <tr>\n",
       "      <th>count</th>\n",
       "      <td>391.000000</td>\n",
       "      <td>388.000000</td>\n",
       "      <td>353.000000</td>\n",
       "      <td>354.000000</td>\n",
       "      <td>351.000000</td>\n",
       "      <td>356.000000</td>\n",
       "      <td>381.000000</td>\n",
       "      <td>383.000000</td>\n",
       "      <td>313.000000</td>\n",
       "      <td>312.000000</td>\n",
       "      <td>348.000000</td>\n",
       "    </tr>\n",
       "    <tr>\n",
       "      <th>mean</th>\n",
       "      <td>51.483376</td>\n",
       "      <td>76.469072</td>\n",
       "      <td>1.017408</td>\n",
       "      <td>1.016949</td>\n",
       "      <td>0.450142</td>\n",
       "      <td>148.036517</td>\n",
       "      <td>57.425722</td>\n",
       "      <td>3.072454</td>\n",
       "      <td>137.528754</td>\n",
       "      <td>4.627244</td>\n",
       "      <td>12.526437</td>\n",
       "    </tr>\n",
       "    <tr>\n",
       "      <th>std</th>\n",
       "      <td>17.169714</td>\n",
       "      <td>13.683637</td>\n",
       "      <td>0.005717</td>\n",
       "      <td>1.352679</td>\n",
       "      <td>1.099191</td>\n",
       "      <td>79.281714</td>\n",
       "      <td>50.503006</td>\n",
       "      <td>5.741126</td>\n",
       "      <td>10.408752</td>\n",
       "      <td>3.193904</td>\n",
       "      <td>2.912587</td>\n",
       "    </tr>\n",
       "    <tr>\n",
       "      <th>min</th>\n",
       "      <td>2.000000</td>\n",
       "      <td>50.000000</td>\n",
       "      <td>1.005000</td>\n",
       "      <td>0.000000</td>\n",
       "      <td>0.000000</td>\n",
       "      <td>22.000000</td>\n",
       "      <td>1.500000</td>\n",
       "      <td>0.400000</td>\n",
       "      <td>4.500000</td>\n",
       "      <td>2.500000</td>\n",
       "      <td>3.100000</td>\n",
       "    </tr>\n",
       "    <tr>\n",
       "      <th>25%</th>\n",
       "      <td>42.000000</td>\n",
       "      <td>70.000000</td>\n",
       "      <td>1.010000</td>\n",
       "      <td>0.000000</td>\n",
       "      <td>0.000000</td>\n",
       "      <td>99.000000</td>\n",
       "      <td>27.000000</td>\n",
       "      <td>0.900000</td>\n",
       "      <td>135.000000</td>\n",
       "      <td>3.800000</td>\n",
       "      <td>10.300000</td>\n",
       "    </tr>\n",
       "    <tr>\n",
       "      <th>50%</th>\n",
       "      <td>55.000000</td>\n",
       "      <td>80.000000</td>\n",
       "      <td>1.020000</td>\n",
       "      <td>0.000000</td>\n",
       "      <td>0.000000</td>\n",
       "      <td>121.000000</td>\n",
       "      <td>42.000000</td>\n",
       "      <td>1.300000</td>\n",
       "      <td>138.000000</td>\n",
       "      <td>4.400000</td>\n",
       "      <td>12.650000</td>\n",
       "    </tr>\n",
       "    <tr>\n",
       "      <th>75%</th>\n",
       "      <td>64.500000</td>\n",
       "      <td>80.000000</td>\n",
       "      <td>1.020000</td>\n",
       "      <td>2.000000</td>\n",
       "      <td>0.000000</td>\n",
       "      <td>163.000000</td>\n",
       "      <td>66.000000</td>\n",
       "      <td>2.800000</td>\n",
       "      <td>142.000000</td>\n",
       "      <td>4.900000</td>\n",
       "      <td>15.000000</td>\n",
       "    </tr>\n",
       "    <tr>\n",
       "      <th>max</th>\n",
       "      <td>90.000000</td>\n",
       "      <td>180.000000</td>\n",
       "      <td>1.025000</td>\n",
       "      <td>5.000000</td>\n",
       "      <td>5.000000</td>\n",
       "      <td>490.000000</td>\n",
       "      <td>391.000000</td>\n",
       "      <td>76.000000</td>\n",
       "      <td>163.000000</td>\n",
       "      <td>47.000000</td>\n",
       "      <td>17.800000</td>\n",
       "    </tr>\n",
       "  </tbody>\n",
       "</table>\n",
       "</div>"
      ],
      "text/plain": [
       "              age          bp          sg  ...         sod         pot        hemo\n",
       "count  391.000000  388.000000  353.000000  ...  313.000000  312.000000  348.000000\n",
       "mean    51.483376   76.469072    1.017408  ...  137.528754    4.627244   12.526437\n",
       "std     17.169714   13.683637    0.005717  ...   10.408752    3.193904    2.912587\n",
       "min      2.000000   50.000000    1.005000  ...    4.500000    2.500000    3.100000\n",
       "25%     42.000000   70.000000    1.010000  ...  135.000000    3.800000   10.300000\n",
       "50%     55.000000   80.000000    1.020000  ...  138.000000    4.400000   12.650000\n",
       "75%     64.500000   80.000000    1.020000  ...  142.000000    4.900000   15.000000\n",
       "max     90.000000  180.000000    1.025000  ...  163.000000   47.000000   17.800000\n",
       "\n",
       "[8 rows x 11 columns]"
      ]
     },
     "execution_count": 67,
     "metadata": {
      "tags": []
     },
     "output_type": "execute_result"
    }
   ],
   "source": [
    "data_num.describe()"
   ]
  },
  {
   "cell_type": "code",
   "execution_count": 0,
   "metadata": {
    "colab": {
     "base_uri": "https://localhost:8080/",
     "height": 173
    },
    "colab_type": "code",
    "id": "ubYyW9m_n49W",
    "outputId": "df04770e-adec-4120-ff34-c7f4063029e0"
   },
   "outputs": [
    {
     "data": {
      "text/html": [
       "<div>\n",
       "<style scoped>\n",
       "    .dataframe tbody tr th:only-of-type {\n",
       "        vertical-align: middle;\n",
       "    }\n",
       "\n",
       "    .dataframe tbody tr th {\n",
       "        vertical-align: top;\n",
       "    }\n",
       "\n",
       "    .dataframe thead th {\n",
       "        text-align: right;\n",
       "    }\n",
       "</style>\n",
       "<table border=\"1\" class=\"dataframe\">\n",
       "  <thead>\n",
       "    <tr style=\"text-align: right;\">\n",
       "      <th></th>\n",
       "      <th>rbc</th>\n",
       "      <th>pc</th>\n",
       "      <th>pcc</th>\n",
       "      <th>ba</th>\n",
       "      <th>htn</th>\n",
       "      <th>dm</th>\n",
       "      <th>cad</th>\n",
       "      <th>appet</th>\n",
       "      <th>pe</th>\n",
       "      <th>ane</th>\n",
       "    </tr>\n",
       "  </thead>\n",
       "  <tbody>\n",
       "    <tr>\n",
       "      <th>count</th>\n",
       "      <td>248</td>\n",
       "      <td>335</td>\n",
       "      <td>396</td>\n",
       "      <td>396</td>\n",
       "      <td>398</td>\n",
       "      <td>398</td>\n",
       "      <td>398</td>\n",
       "      <td>399</td>\n",
       "      <td>399</td>\n",
       "      <td>399</td>\n",
       "    </tr>\n",
       "    <tr>\n",
       "      <th>unique</th>\n",
       "      <td>2</td>\n",
       "      <td>2</td>\n",
       "      <td>2</td>\n",
       "      <td>2</td>\n",
       "      <td>2</td>\n",
       "      <td>5</td>\n",
       "      <td>3</td>\n",
       "      <td>2</td>\n",
       "      <td>2</td>\n",
       "      <td>2</td>\n",
       "    </tr>\n",
       "    <tr>\n",
       "      <th>top</th>\n",
       "      <td>normal</td>\n",
       "      <td>normal</td>\n",
       "      <td>notpresent</td>\n",
       "      <td>notpresent</td>\n",
       "      <td>no</td>\n",
       "      <td>no</td>\n",
       "      <td>no</td>\n",
       "      <td>good</td>\n",
       "      <td>no</td>\n",
       "      <td>no</td>\n",
       "    </tr>\n",
       "    <tr>\n",
       "      <th>freq</th>\n",
       "      <td>201</td>\n",
       "      <td>259</td>\n",
       "      <td>354</td>\n",
       "      <td>374</td>\n",
       "      <td>251</td>\n",
       "      <td>258</td>\n",
       "      <td>362</td>\n",
       "      <td>317</td>\n",
       "      <td>323</td>\n",
       "      <td>339</td>\n",
       "    </tr>\n",
       "  </tbody>\n",
       "</table>\n",
       "</div>"
      ],
      "text/plain": [
       "           rbc      pc         pcc          ba  htn   dm  cad appet   pe  ane\n",
       "count      248     335         396         396  398  398  398   399  399  399\n",
       "unique       2       2           2           2    2    5    3     2    2    2\n",
       "top     normal  normal  notpresent  notpresent   no   no   no  good   no   no\n",
       "freq       201     259         354         374  251  258  362   317  323  339"
      ]
     },
     "execution_count": 68,
     "metadata": {
      "tags": []
     },
     "output_type": "execute_result"
    }
   ],
   "source": [
    "data_cat.describe()"
   ]
  },
  {
   "cell_type": "markdown",
   "metadata": {
    "colab_type": "text",
    "id": "0N-VBrl4vdL1"
   },
   "source": [
    "### Traitement des valeurs null dans le cas des données numeriques par la mediane"
   ]
  },
  {
   "cell_type": "code",
   "execution_count": 0,
   "metadata": {
    "colab": {},
    "colab_type": "code",
    "id": "rIeLzPEgmcan"
   },
   "outputs": [],
   "source": [
    "\n",
    "# Numerical: \n",
    "from sklearn.impute import SimpleImputer\n",
    "imputer = SimpleImputer(strategy=\"median\")\n",
    "X = imputer.fit_transform(data_num)\n",
    "data_num_tr = pd.DataFrame(X, columns = data_num.columns)\n",
    "\n"
   ]
  },
  {
   "cell_type": "markdown",
   "metadata": {
    "colab_type": "text",
    "id": "WWwJEOC8wGwA"
   },
   "source": [
    "### Traitement des valeurs null dans le cas des données categoriques :\n",
    "*   Factorisation : transformer les données categoriques en données numériques\n",
    "*   Remplacer les valeurs nulls par les plus fréquentes"
   ]
  },
  {
   "cell_type": "code",
   "execution_count": 0,
   "metadata": {
    "colab": {
     "base_uri": "https://localhost:8080/",
     "height": 552
    },
    "colab_type": "code",
    "id": "8EG46o6swLI4",
    "outputId": "1d248170-3343-4d52-a1c9-0815737ceff5"
   },
   "outputs": [
    {
     "name": "stdout",
     "output_type": "stream",
     "text": [
      "<class 'pandas.core.frame.DataFrame'>\n",
      "RangeIndex: 400 entries, 0 to 399\n",
      "Data columns (total 10 columns):\n",
      "0    400 non-null int64\n",
      "1    400 non-null int64\n",
      "2    400 non-null int64\n",
      "3    400 non-null int64\n",
      "4    400 non-null int64\n",
      "5    400 non-null int64\n",
      "6    400 non-null int64\n",
      "7    400 non-null int64\n",
      "8    400 non-null int64\n",
      "9    400 non-null int64\n",
      "dtypes: int64(10)\n",
      "memory usage: 31.4 KB\n"
     ]
    },
    {
     "data": {
      "text/html": [
       "<div>\n",
       "<style scoped>\n",
       "    .dataframe tbody tr th:only-of-type {\n",
       "        vertical-align: middle;\n",
       "    }\n",
       "\n",
       "    .dataframe tbody tr th {\n",
       "        vertical-align: top;\n",
       "    }\n",
       "\n",
       "    .dataframe thead th {\n",
       "        text-align: right;\n",
       "    }\n",
       "</style>\n",
       "<table border=\"1\" class=\"dataframe\">\n",
       "  <thead>\n",
       "    <tr style=\"text-align: right;\">\n",
       "      <th></th>\n",
       "      <th>rbc</th>\n",
       "      <th>pc</th>\n",
       "      <th>pcc</th>\n",
       "      <th>ba</th>\n",
       "      <th>htn</th>\n",
       "      <th>dm</th>\n",
       "      <th>cad</th>\n",
       "      <th>appet</th>\n",
       "      <th>pe</th>\n",
       "      <th>ane</th>\n",
       "    </tr>\n",
       "  </thead>\n",
       "  <tbody>\n",
       "    <tr>\n",
       "      <th>count</th>\n",
       "      <td>400.000000</td>\n",
       "      <td>400.000000</td>\n",
       "      <td>400.000000</td>\n",
       "      <td>400.000000</td>\n",
       "      <td>400.000000</td>\n",
       "      <td>400.000000</td>\n",
       "      <td>400.000000</td>\n",
       "      <td>400.000000</td>\n",
       "      <td>400.000000</td>\n",
       "      <td>400.000000</td>\n",
       "    </tr>\n",
       "    <tr>\n",
       "      <th>mean</th>\n",
       "      <td>0.117500</td>\n",
       "      <td>0.190000</td>\n",
       "      <td>0.105000</td>\n",
       "      <td>0.055000</td>\n",
       "      <td>0.632500</td>\n",
       "      <td>0.697500</td>\n",
       "      <td>0.095000</td>\n",
       "      <td>0.205000</td>\n",
       "      <td>0.190000</td>\n",
       "      <td>0.150000</td>\n",
       "    </tr>\n",
       "    <tr>\n",
       "      <th>std</th>\n",
       "      <td>0.322418</td>\n",
       "      <td>0.392792</td>\n",
       "      <td>0.306937</td>\n",
       "      <td>0.228266</td>\n",
       "      <td>0.482728</td>\n",
       "      <td>0.567273</td>\n",
       "      <td>0.310186</td>\n",
       "      <td>0.404207</td>\n",
       "      <td>0.392792</td>\n",
       "      <td>0.357519</td>\n",
       "    </tr>\n",
       "    <tr>\n",
       "      <th>min</th>\n",
       "      <td>0.000000</td>\n",
       "      <td>0.000000</td>\n",
       "      <td>0.000000</td>\n",
       "      <td>0.000000</td>\n",
       "      <td>0.000000</td>\n",
       "      <td>0.000000</td>\n",
       "      <td>0.000000</td>\n",
       "      <td>0.000000</td>\n",
       "      <td>0.000000</td>\n",
       "      <td>0.000000</td>\n",
       "    </tr>\n",
       "    <tr>\n",
       "      <th>25%</th>\n",
       "      <td>0.000000</td>\n",
       "      <td>0.000000</td>\n",
       "      <td>0.000000</td>\n",
       "      <td>0.000000</td>\n",
       "      <td>0.000000</td>\n",
       "      <td>0.000000</td>\n",
       "      <td>0.000000</td>\n",
       "      <td>0.000000</td>\n",
       "      <td>0.000000</td>\n",
       "      <td>0.000000</td>\n",
       "    </tr>\n",
       "    <tr>\n",
       "      <th>50%</th>\n",
       "      <td>0.000000</td>\n",
       "      <td>0.000000</td>\n",
       "      <td>0.000000</td>\n",
       "      <td>0.000000</td>\n",
       "      <td>1.000000</td>\n",
       "      <td>1.000000</td>\n",
       "      <td>0.000000</td>\n",
       "      <td>0.000000</td>\n",
       "      <td>0.000000</td>\n",
       "      <td>0.000000</td>\n",
       "    </tr>\n",
       "    <tr>\n",
       "      <th>75%</th>\n",
       "      <td>0.000000</td>\n",
       "      <td>0.000000</td>\n",
       "      <td>0.000000</td>\n",
       "      <td>0.000000</td>\n",
       "      <td>1.000000</td>\n",
       "      <td>1.000000</td>\n",
       "      <td>0.000000</td>\n",
       "      <td>0.000000</td>\n",
       "      <td>0.000000</td>\n",
       "      <td>0.000000</td>\n",
       "    </tr>\n",
       "    <tr>\n",
       "      <th>max</th>\n",
       "      <td>1.000000</td>\n",
       "      <td>1.000000</td>\n",
       "      <td>1.000000</td>\n",
       "      <td>1.000000</td>\n",
       "      <td>1.000000</td>\n",
       "      <td>4.000000</td>\n",
       "      <td>2.000000</td>\n",
       "      <td>1.000000</td>\n",
       "      <td>1.000000</td>\n",
       "      <td>1.000000</td>\n",
       "    </tr>\n",
       "  </tbody>\n",
       "</table>\n",
       "</div>"
      ],
      "text/plain": [
       "              rbc          pc         pcc  ...       appet          pe         ane\n",
       "count  400.000000  400.000000  400.000000  ...  400.000000  400.000000  400.000000\n",
       "mean     0.117500    0.190000    0.105000  ...    0.205000    0.190000    0.150000\n",
       "std      0.322418    0.392792    0.306937  ...    0.404207    0.392792    0.357519\n",
       "min      0.000000    0.000000    0.000000  ...    0.000000    0.000000    0.000000\n",
       "25%      0.000000    0.000000    0.000000  ...    0.000000    0.000000    0.000000\n",
       "50%      0.000000    0.000000    0.000000  ...    0.000000    0.000000    0.000000\n",
       "75%      0.000000    0.000000    0.000000  ...    0.000000    0.000000    0.000000\n",
       "max      1.000000    1.000000    1.000000  ...    1.000000    1.000000    1.000000\n",
       "\n",
       "[8 rows x 10 columns]"
      ]
     },
     "execution_count": 70,
     "metadata": {
      "tags": []
     },
     "output_type": "execute_result"
    }
   ],
   "source": [
    "\n",
    "# factorisation\n",
    "data_cat_encoded = []\n",
    "data_categories = []\n",
    "for x in data_cat:\n",
    "    data_cat_encod, data_categ = pd.factorize(data_cat[x])\n",
    "    data_cat_encoded.append(data_cat_encod)\n",
    "    data_categories.append(data_categ)\n",
    "\n",
    "# remplacer les valeurs nulls par les plus frequentes\n",
    "data_cat_encoded = pd.DataFrame(np.transpose(data_cat_encoded))\n",
    "data_cat_encoded.info()\n",
    "imputer = SimpleImputer(missing_values= -1, strategy=\"most_frequent\")\n",
    "\n",
    "# remplacer dans le dataset\n",
    "data_cat_enc = imputer.fit_transform(data_cat_encoded)\n",
    "data_cat_tr = pd.DataFrame(data_cat_enc, columns = data_cat.columns)\n",
    "data_cat_tr.describe()\n"
   ]
  },
  {
   "cell_type": "markdown",
   "metadata": {
    "colab_type": "text",
    "id": "nJUPo2ukzuPE"
   },
   "source": [
    "## Fusion des données numériques et categoriques "
   ]
  },
  {
   "cell_type": "code",
   "execution_count": 0,
   "metadata": {
    "colab": {
     "base_uri": "https://localhost:8080/",
     "height": 317
    },
    "colab_type": "code",
    "id": "TOQfkfo5egDk",
    "outputId": "65290911-eead-48cb-8d37-04850ebde314"
   },
   "outputs": [
    {
     "data": {
      "text/html": [
       "<div>\n",
       "<style scoped>\n",
       "    .dataframe tbody tr th:only-of-type {\n",
       "        vertical-align: middle;\n",
       "    }\n",
       "\n",
       "    .dataframe tbody tr th {\n",
       "        vertical-align: top;\n",
       "    }\n",
       "\n",
       "    .dataframe thead th {\n",
       "        text-align: right;\n",
       "    }\n",
       "</style>\n",
       "<table border=\"1\" class=\"dataframe\">\n",
       "  <thead>\n",
       "    <tr style=\"text-align: right;\">\n",
       "      <th></th>\n",
       "      <th>age</th>\n",
       "      <th>bp</th>\n",
       "      <th>sg</th>\n",
       "      <th>al</th>\n",
       "      <th>su</th>\n",
       "      <th>bgr</th>\n",
       "      <th>bu</th>\n",
       "      <th>sc</th>\n",
       "      <th>sod</th>\n",
       "      <th>pot</th>\n",
       "      <th>hemo</th>\n",
       "      <th>pcv</th>\n",
       "      <th>wbcc</th>\n",
       "      <th>rbcc</th>\n",
       "      <th>rbc</th>\n",
       "      <th>pc</th>\n",
       "      <th>pcc</th>\n",
       "      <th>ba</th>\n",
       "      <th>htn</th>\n",
       "      <th>dm</th>\n",
       "      <th>cad</th>\n",
       "      <th>appet</th>\n",
       "      <th>pe</th>\n",
       "      <th>ane</th>\n",
       "    </tr>\n",
       "  </thead>\n",
       "  <tbody>\n",
       "    <tr>\n",
       "      <th>count</th>\n",
       "      <td>400.000000</td>\n",
       "      <td>400.000000</td>\n",
       "      <td>400.000000</td>\n",
       "      <td>400.00000</td>\n",
       "      <td>400.000000</td>\n",
       "      <td>400.000000</td>\n",
       "      <td>400.000000</td>\n",
       "      <td>400.000000</td>\n",
       "      <td>400.000000</td>\n",
       "      <td>400.000000</td>\n",
       "      <td>400.00000</td>\n",
       "      <td>400.000000</td>\n",
       "      <td>400.000000</td>\n",
       "      <td>400.000000</td>\n",
       "      <td>400.000000</td>\n",
       "      <td>400.000000</td>\n",
       "      <td>400.000000</td>\n",
       "      <td>400.000000</td>\n",
       "      <td>400.000000</td>\n",
       "      <td>400.000000</td>\n",
       "      <td>400.000000</td>\n",
       "      <td>400.000000</td>\n",
       "      <td>400.000000</td>\n",
       "      <td>400.000000</td>\n",
       "    </tr>\n",
       "    <tr>\n",
       "      <th>mean</th>\n",
       "      <td>51.562500</td>\n",
       "      <td>76.575000</td>\n",
       "      <td>1.017712</td>\n",
       "      <td>0.90000</td>\n",
       "      <td>0.395000</td>\n",
       "      <td>145.062500</td>\n",
       "      <td>56.693000</td>\n",
       "      <td>2.997125</td>\n",
       "      <td>137.631250</td>\n",
       "      <td>4.577250</td>\n",
       "      <td>12.54250</td>\n",
       "      <td>39.082500</td>\n",
       "      <td>8298.500000</td>\n",
       "      <td>4.737750</td>\n",
       "      <td>0.117500</td>\n",
       "      <td>0.190000</td>\n",
       "      <td>0.105000</td>\n",
       "      <td>0.055000</td>\n",
       "      <td>0.632500</td>\n",
       "      <td>0.697500</td>\n",
       "      <td>0.095000</td>\n",
       "      <td>0.205000</td>\n",
       "      <td>0.190000</td>\n",
       "      <td>0.150000</td>\n",
       "    </tr>\n",
       "    <tr>\n",
       "      <th>std</th>\n",
       "      <td>16.982996</td>\n",
       "      <td>13.489785</td>\n",
       "      <td>0.005434</td>\n",
       "      <td>1.31313</td>\n",
       "      <td>1.040038</td>\n",
       "      <td>75.260774</td>\n",
       "      <td>49.395258</td>\n",
       "      <td>5.628886</td>\n",
       "      <td>9.206332</td>\n",
       "      <td>2.821357</td>\n",
       "      <td>2.71649</td>\n",
       "      <td>8.162245</td>\n",
       "      <td>2529.593814</td>\n",
       "      <td>0.841439</td>\n",
       "      <td>0.322418</td>\n",
       "      <td>0.392792</td>\n",
       "      <td>0.306937</td>\n",
       "      <td>0.228266</td>\n",
       "      <td>0.482728</td>\n",
       "      <td>0.567273</td>\n",
       "      <td>0.310186</td>\n",
       "      <td>0.404207</td>\n",
       "      <td>0.392792</td>\n",
       "      <td>0.357519</td>\n",
       "    </tr>\n",
       "    <tr>\n",
       "      <th>min</th>\n",
       "      <td>2.000000</td>\n",
       "      <td>50.000000</td>\n",
       "      <td>1.005000</td>\n",
       "      <td>0.00000</td>\n",
       "      <td>0.000000</td>\n",
       "      <td>22.000000</td>\n",
       "      <td>1.500000</td>\n",
       "      <td>0.400000</td>\n",
       "      <td>4.500000</td>\n",
       "      <td>2.500000</td>\n",
       "      <td>3.10000</td>\n",
       "      <td>9.000000</td>\n",
       "      <td>2200.000000</td>\n",
       "      <td>2.100000</td>\n",
       "      <td>0.000000</td>\n",
       "      <td>0.000000</td>\n",
       "      <td>0.000000</td>\n",
       "      <td>0.000000</td>\n",
       "      <td>0.000000</td>\n",
       "      <td>0.000000</td>\n",
       "      <td>0.000000</td>\n",
       "      <td>0.000000</td>\n",
       "      <td>0.000000</td>\n",
       "      <td>0.000000</td>\n",
       "    </tr>\n",
       "    <tr>\n",
       "      <th>25%</th>\n",
       "      <td>42.000000</td>\n",
       "      <td>70.000000</td>\n",
       "      <td>1.015000</td>\n",
       "      <td>0.00000</td>\n",
       "      <td>0.000000</td>\n",
       "      <td>101.000000</td>\n",
       "      <td>27.000000</td>\n",
       "      <td>0.900000</td>\n",
       "      <td>135.000000</td>\n",
       "      <td>4.000000</td>\n",
       "      <td>10.87500</td>\n",
       "      <td>34.000000</td>\n",
       "      <td>6975.000000</td>\n",
       "      <td>4.500000</td>\n",
       "      <td>0.000000</td>\n",
       "      <td>0.000000</td>\n",
       "      <td>0.000000</td>\n",
       "      <td>0.000000</td>\n",
       "      <td>0.000000</td>\n",
       "      <td>0.000000</td>\n",
       "      <td>0.000000</td>\n",
       "      <td>0.000000</td>\n",
       "      <td>0.000000</td>\n",
       "      <td>0.000000</td>\n",
       "    </tr>\n",
       "    <tr>\n",
       "      <th>50%</th>\n",
       "      <td>55.000000</td>\n",
       "      <td>80.000000</td>\n",
       "      <td>1.020000</td>\n",
       "      <td>0.00000</td>\n",
       "      <td>0.000000</td>\n",
       "      <td>121.000000</td>\n",
       "      <td>42.000000</td>\n",
       "      <td>1.300000</td>\n",
       "      <td>138.000000</td>\n",
       "      <td>4.400000</td>\n",
       "      <td>12.65000</td>\n",
       "      <td>40.000000</td>\n",
       "      <td>8000.000000</td>\n",
       "      <td>4.800000</td>\n",
       "      <td>0.000000</td>\n",
       "      <td>0.000000</td>\n",
       "      <td>0.000000</td>\n",
       "      <td>0.000000</td>\n",
       "      <td>1.000000</td>\n",
       "      <td>1.000000</td>\n",
       "      <td>0.000000</td>\n",
       "      <td>0.000000</td>\n",
       "      <td>0.000000</td>\n",
       "      <td>0.000000</td>\n",
       "    </tr>\n",
       "    <tr>\n",
       "      <th>75%</th>\n",
       "      <td>64.000000</td>\n",
       "      <td>80.000000</td>\n",
       "      <td>1.020000</td>\n",
       "      <td>2.00000</td>\n",
       "      <td>0.000000</td>\n",
       "      <td>150.000000</td>\n",
       "      <td>61.750000</td>\n",
       "      <td>2.725000</td>\n",
       "      <td>141.000000</td>\n",
       "      <td>4.800000</td>\n",
       "      <td>14.62500</td>\n",
       "      <td>44.000000</td>\n",
       "      <td>9400.000000</td>\n",
       "      <td>5.100000</td>\n",
       "      <td>0.000000</td>\n",
       "      <td>0.000000</td>\n",
       "      <td>0.000000</td>\n",
       "      <td>0.000000</td>\n",
       "      <td>1.000000</td>\n",
       "      <td>1.000000</td>\n",
       "      <td>0.000000</td>\n",
       "      <td>0.000000</td>\n",
       "      <td>0.000000</td>\n",
       "      <td>0.000000</td>\n",
       "    </tr>\n",
       "    <tr>\n",
       "      <th>max</th>\n",
       "      <td>90.000000</td>\n",
       "      <td>180.000000</td>\n",
       "      <td>1.025000</td>\n",
       "      <td>5.00000</td>\n",
       "      <td>5.000000</td>\n",
       "      <td>490.000000</td>\n",
       "      <td>391.000000</td>\n",
       "      <td>76.000000</td>\n",
       "      <td>163.000000</td>\n",
       "      <td>47.000000</td>\n",
       "      <td>17.80000</td>\n",
       "      <td>54.000000</td>\n",
       "      <td>26400.000000</td>\n",
       "      <td>8.000000</td>\n",
       "      <td>1.000000</td>\n",
       "      <td>1.000000</td>\n",
       "      <td>1.000000</td>\n",
       "      <td>1.000000</td>\n",
       "      <td>1.000000</td>\n",
       "      <td>4.000000</td>\n",
       "      <td>2.000000</td>\n",
       "      <td>1.000000</td>\n",
       "      <td>1.000000</td>\n",
       "      <td>1.000000</td>\n",
       "    </tr>\n",
       "  </tbody>\n",
       "</table>\n",
       "</div>"
      ],
      "text/plain": [
       "              age          bp          sg  ...       appet          pe         ane\n",
       "count  400.000000  400.000000  400.000000  ...  400.000000  400.000000  400.000000\n",
       "mean    51.562500   76.575000    1.017712  ...    0.205000    0.190000    0.150000\n",
       "std     16.982996   13.489785    0.005434  ...    0.404207    0.392792    0.357519\n",
       "min      2.000000   50.000000    1.005000  ...    0.000000    0.000000    0.000000\n",
       "25%     42.000000   70.000000    1.015000  ...    0.000000    0.000000    0.000000\n",
       "50%     55.000000   80.000000    1.020000  ...    0.000000    0.000000    0.000000\n",
       "75%     64.000000   80.000000    1.020000  ...    0.000000    0.000000    0.000000\n",
       "max     90.000000  180.000000    1.025000  ...    1.000000    1.000000    1.000000\n",
       "\n",
       "[8 rows x 24 columns]"
      ]
     },
     "execution_count": 71,
     "metadata": {
      "tags": []
     },
     "output_type": "execute_result"
    }
   ],
   "source": [
    "data_tr = pd.concat([data_num_tr, data_cat_tr], axis=1)\n",
    "data_tr.describe()"
   ]
  },
  {
   "cell_type": "markdown",
   "metadata": {
    "colab_type": "text",
    "id": "JAM3SjZjRWbS"
   },
   "source": [
    "### Data Visualization\n",
    "\n",
    "La visualisation des attributs\n"
   ]
  },
  {
   "cell_type": "code",
   "execution_count": 0,
   "metadata": {
    "colab": {
     "base_uri": "https://localhost:8080/",
     "height": 485
    },
    "colab_type": "code",
    "id": "wulbE9pgRWbS",
    "outputId": "1b0092d9-b955-449f-f4bd-9d68780bbd48"
   },
   "outputs": [
    {
     "name": "stderr",
     "output_type": "stream",
     "text": [
      "/usr/local/lib/python3.6/dist-packages/pandas/plotting/_matplotlib/tools.py:307: MatplotlibDeprecationWarning: \n",
      "The rowNum attribute was deprecated in Matplotlib 3.2 and will be removed two minor releases later. Use ax.get_subplotspec().rowspan.start instead.\n",
      "  layout[ax.rowNum, ax.colNum] = ax.get_visible()\n",
      "/usr/local/lib/python3.6/dist-packages/pandas/plotting/_matplotlib/tools.py:307: MatplotlibDeprecationWarning: \n",
      "The colNum attribute was deprecated in Matplotlib 3.2 and will be removed two minor releases later. Use ax.get_subplotspec().colspan.start instead.\n",
      "  layout[ax.rowNum, ax.colNum] = ax.get_visible()\n",
      "/usr/local/lib/python3.6/dist-packages/pandas/plotting/_matplotlib/tools.py:313: MatplotlibDeprecationWarning: \n",
      "The rowNum attribute was deprecated in Matplotlib 3.2 and will be removed two minor releases later. Use ax.get_subplotspec().rowspan.start instead.\n",
      "  if not layout[ax.rowNum + 1, ax.colNum]:\n",
      "/usr/local/lib/python3.6/dist-packages/pandas/plotting/_matplotlib/tools.py:313: MatplotlibDeprecationWarning: \n",
      "The colNum attribute was deprecated in Matplotlib 3.2 and will be removed two minor releases later. Use ax.get_subplotspec().colspan.start instead.\n",
      "  if not layout[ax.rowNum + 1, ax.colNum]:\n"
     ]
    },
    {
     "data": {
      "image/png": "[encoded data removed]",
      "text/plain": [
       "<Figure size 432x288 with 25 Axes>"
      ]
     },
     "metadata": {
      "tags": []
     },
     "output_type": "display_data"
    }
   ],
   "source": [
    "# Histogramme des attributs\n",
    "data_tr.hist(bins=50)\n",
    "plt.show()"
   ]
  },
  {
   "cell_type": "markdown",
   "metadata": {
    "colab_type": "text",
    "id": "cvq_mI8UegDv"
   },
   "source": [
    "## PCA Visualization\n",
    "\n",
    "Comme il est difficile de visualiser des données de grande dimension, nous pouvons utiliser PCA pour trouver les deux premiers composants principaux et visualiser les données dans ce nouvel espace bidimensionnel, avec un seul nuage de points.\n",
    "\n",
    "\n",
    "- Procedons d'abord à la mise à l'echelle (Scaling) des données"
   ]
  },
  {
   "cell_type": "code",
   "execution_count": 0,
   "metadata": {
    "colab": {},
    "colab_type": "code",
    "id": "rjRtHQPDMCZZ"
   },
   "outputs": [],
   "source": [
    "# les imports\n",
    "from sklearn.preprocessing import StandardScaler\n",
    "from sklearn.decomposition import PCA"
   ]
  },
  {
   "cell_type": "code",
   "execution_count": 0,
   "metadata": {
    "colab": {},
    "colab_type": "code",
    "id": "8EzHVJ6R1wGd"
   },
   "outputs": [],
   "source": [
    "# nombre d'attributs\n",
    "p = data_tr.shape[1]\n",
    "\n",
    "#nombre d'instances\n",
    "n = data_tr.shape[0]"
   ]
  },
  {
   "cell_type": "code",
   "execution_count": 0,
   "metadata": {
    "colab": {},
    "colab_type": "code",
    "id": "PTJ8zfTpegDw"
   },
   "outputs": [],
   "source": [
    "# StandardScaler method\n",
    "scaler = StandardScaler()\n",
    "scaler.fit(data_tr)\n",
    "scaled_data = scaler.transform(data_tr)"
   ]
  },
  {
   "cell_type": "markdown",
   "metadata": {
    "colab_type": "text",
    "id": "6LyNt_7cfnzT"
   },
   "source": [
    "- Nous allons maintenant instancier un objet PCA avec comme paramètre le nombre d'attributs (ici 24).\n"
   ]
  },
  {
   "cell_type": "code",
   "execution_count": 0,
   "metadata": {
    "colab": {
     "base_uri": "https://localhost:8080/",
     "height": 51
    },
    "colab_type": "code",
    "id": "yinJmteEegD1",
    "outputId": "aa3a8bfc-18ac-4fad-e07d-8069d3df8aca"
   },
   "outputs": [
    {
     "data": {
      "text/plain": [
       "PCA(copy=True, iterated_power='auto', n_components=24, random_state=None,\n",
       "    svd_solver='auto', tol=0.0, whiten=False)"
      ]
     },
     "execution_count": 130,
     "metadata": {
      "tags": []
     },
     "output_type": "execute_result"
    }
   ],
   "source": [
    "# Use PCA\n",
    "pca = PCA(n_components=24) \n",
    "\n",
    "pca.fit(scaled_data)"
   ]
  },
  {
   "cell_type": "markdown",
   "metadata": {
    "colab_type": "text",
    "id": "P9rhEC4qRWb6"
   },
   "source": [
    "## Interpretation de l'ACP\n",
    "\n"
   ]
  },
  {
   "cell_type": "markdown",
   "metadata": {
    "colab_type": "text",
    "id": "BfKOfVuD6Cq6"
   },
   "source": [
    "### Valeurs propres"
   ]
  },
  {
   "cell_type": "code",
   "execution_count": 0,
   "metadata": {
    "colab": {
     "base_uri": "https://localhost:8080/",
     "height": 238
    },
    "colab_type": "code",
    "id": "_d-KWKTPegEB",
    "outputId": "be1f400f-405c-495e-8eb9-6f61a2f02579"
   },
   "outputs": [
    {
     "name": "stdout",
     "output_type": "stream",
     "text": [
      "------------- Valeurs propres --------- \n",
      "\n",
      "[6.84295919 1.89606773 1.70388266 1.32163419 1.21089375 1.05020013\n",
      " 1.03600956 0.99450791 0.88879552 0.84201995 0.78794379 0.69687087\n",
      " 0.67516175 0.60364022 0.55686503 0.49605224 0.41983674 0.40666388\n",
      " 0.360372   0.32779293 0.28793117 0.27995751 0.22959089 0.14450077] \n",
      "\n",
      "-------------- Valeurs propres corrigés----------- \n",
      "\n",
      "[6.82585179 1.89132756 1.69962295 1.3183301  1.20786651 1.04757463\n",
      " 1.03341953 0.99202164 0.88657353 0.8399149  0.78597393 0.6951287\n",
      " 0.67347385 0.60213112 0.55547286 0.49481211 0.41878715 0.40564722\n",
      " 0.35947107 0.32697345 0.28721134 0.27925762 0.22901692 0.14413952]\n"
     ]
    }
   ],
   "source": [
    "# Valeurs propres\n",
    "print(\"------------- Valeurs propres --------- \\n\")\n",
    "print(pca.explained_variance_,\"\\n\")\n",
    "\n",
    "corrected_variance = ((n-1)/n)*pca.explained_variance_\n",
    "print(\"-------------- Valeurs propres corrigés----------- \\n\")\n",
    "print(corrected_variance)"
   ]
  },
  {
   "cell_type": "markdown",
   "metadata": {
    "colab_type": "text",
    "id": "WK0FE14i7_wF"
   },
   "source": [
    "- Graphe des variances "
   ]
  },
  {
   "cell_type": "code",
   "execution_count": 0,
   "metadata": {
    "colab": {
     "base_uri": "https://localhost:8080/",
     "height": 295
    },
    "colab_type": "code",
    "id": "PmWJ-PM6egEF",
    "outputId": "b16cf4df-c1a4-49e5-8f03-32b2c1bbd1c9"
   },
   "outputs": [
    {
     "data": {
      "image/png": "[encoded data removed]",
      "text/plain": [
       "<Figure size 432x288 with 1 Axes>"
      ]
     },
     "metadata": {
      "tags": []
     },
     "output_type": "display_data"
    }
   ],
   "source": [
    "# Graphe de la variance de chaque attribut\n",
    "plt.plot(np.arange(1,p+1),corrected_variance)\n",
    "plt.title(\"Graphe de la variance\")\n",
    "plt.ylabel(\"Variance\")\n",
    "plt.xlabel(\"Attribut\")\n",
    "plt.show()"
   ]
  },
  {
   "cell_type": "markdown",
   "metadata": {
    "colab_type": "text",
    "id": "-Qtllkdz7fTV"
   },
   "source": [
    "- Pourcentage de variance "
   ]
  },
  {
   "cell_type": "code",
   "execution_count": 0,
   "metadata": {
    "colab": {
     "base_uri": "https://localhost:8080/",
     "height": 102
    },
    "colab_type": "code",
    "id": "FhjqQxouq-CS",
    "outputId": "7ae5fefe-0d23-49d1-c1c8-811674d51510"
   },
   "outputs": [
    {
     "data": {
      "text/plain": [
       "array([28.44104911,  7.88053149,  7.0817623 ,  5.4930421 ,  5.03277714,\n",
       "        4.3648943 ,  4.30591472,  4.1334235 ,  3.69405638,  3.49964542,\n",
       "        3.27489137,  2.89636957,  2.80614104,  2.50887965,  2.31447026,\n",
       "        2.06171713,  1.74494646,  1.69019675,  1.49779613,  1.36238936,\n",
       "        1.19671391,  1.16357342,  0.95423716,  0.60058133])"
      ]
     },
     "execution_count": 133,
     "metadata": {
      "tags": []
     },
     "output_type": "execute_result"
    }
   ],
   "source": [
    "pca.explained_variance_ratio_*100"
   ]
  },
  {
   "cell_type": "markdown",
   "metadata": {
    "colab_type": "text",
    "id": "HbYGYlU37YmH"
   },
   "source": [
    "- Variance cumulée"
   ]
  },
  {
   "cell_type": "code",
   "execution_count": 0,
   "metadata": {
    "colab": {
     "base_uri": "https://localhost:8080/",
     "height": 119
    },
    "colab_type": "code",
    "id": "yovoRifMrNHs",
    "outputId": "b031ca34-94a5-45f4-c0e1-21ee3bc004a7"
   },
   "outputs": [
    {
     "data": {
      "text/plain": [
       "array([ 28.44104911,  36.32158061,  43.40334291,  48.89638501,\n",
       "        53.92916215,  58.29405645,  62.59997118,  66.73339468,\n",
       "        70.42745106,  73.92709648,  77.20198785,  80.09835741,\n",
       "        82.90449845,  85.4133781 ,  87.72784837,  89.78956549,\n",
       "        91.53451195,  93.2247087 ,  94.72250483,  96.08489419,\n",
       "        97.2816081 ,  98.44518152,  99.39941867, 100.        ])"
      ]
     },
     "execution_count": 134,
     "metadata": {
      "tags": []
     },
     "output_type": "execute_result"
    }
   ],
   "source": [
    "cumulative_var = np.cumsum(pca.explained_variance_ratio_*100)\n",
    "cumulative_var"
   ]
  },
  {
   "cell_type": "markdown",
   "metadata": {
    "colab_type": "text",
    "id": "VTV0V-8z72yQ"
   },
   "source": [
    "- Graphe des variances cumulées"
   ]
  },
  {
   "cell_type": "code",
   "execution_count": 0,
   "metadata": {
    "colab": {
     "base_uri": "https://localhost:8080/",
     "height": 299
    },
    "colab_type": "code",
    "id": "UZ2va75BrCo4",
    "outputId": "b4fbab34-0a62-423b-ac0e-04ad14841728"
   },
   "outputs": [
    {
     "data": {
      "text/plain": [
       "[<matplotlib.lines.Line2D at 0x7f78bfbc9d30>]"
      ]
     },
     "execution_count": 135,
     "metadata": {
      "tags": []
     },
     "output_type": "execute_result"
    },
    {
     "data": {
      "image/png": "[encoded data removed]",
      "text/plain": [
       "<Figure size 432x288 with 1 Axes>"
      ]
     },
     "metadata": {
      "tags": []
     },
     "output_type": "display_data"
    }
   ],
   "source": [
    " # plot the explained variance of each component\n",
    "plt.ylabel('% Variance cumulée')\n",
    "plt.xlabel('Attribut')\n",
    "plt.axvline(x=15,color='red')\n",
    "plt.ylim(30,100.5)\n",
    "plt.style.context('seaborn-whitegrid')\n",
    "plt.plot(np.arange(1,p+1),cumulative_var)"
   ]
  },
  {
   "cell_type": "code",
   "execution_count": 0,
   "metadata": {
    "colab": {
     "base_uri": "https://localhost:8080/",
     "height": 903
    },
    "colab_type": "code",
    "id": "jg06i7gTs8z_",
    "outputId": "bbcb644d-f579-4d4a-c644-2a4d5e8df629"
   },
   "outputs": [
    {
     "name": "stdout",
     "output_type": "stream",
     "text": [
      "---------------- Les differentes composantes principales ------------- \n",
      "\n",
      "         age        bp        sg  ...     appet        pe       ane\n",
      "0   0.126814  0.130849 -0.230326  ...  0.198411  0.199842  0.197302\n",
      "1  -0.092515  0.017411  0.171438  ...  0.014453  0.028215  0.253380\n",
      "2  -0.331895 -0.114398 -0.097639  ...  0.056881  0.120339  0.057148\n",
      "3  -0.096382  0.013386 -0.015465  ... -0.338482 -0.185585 -0.125829\n",
      "4   0.077233 -0.150265 -0.038934  ... -0.069304 -0.112071 -0.301265\n",
      "5   0.311241 -0.293899  0.000745  ... -0.107645 -0.140929  0.023779\n",
      "6   0.014629 -0.533839  0.134887  ...  0.281151  0.575996 -0.271628\n",
      "7  -0.386769 -0.186952 -0.199919  ... -0.100285 -0.072662  0.137278\n",
      "8   0.201712  0.530476 -0.004850  ...  0.162320  0.076830 -0.273442\n",
      "9  -0.254945 -0.149082 -0.303967  ... -0.300154  0.033753 -0.187787\n",
      "10  0.529224 -0.133413 -0.218969  ... -0.249897 -0.086167 -0.112987\n",
      "11 -0.232131  0.324578  0.155983  ...  0.172317  0.140632 -0.050291\n",
      "12  0.027368  0.145444 -0.572506  ...  0.179928  0.139444 -0.324939\n",
      "13  0.080457  0.117372  0.106705  ... -0.509269  0.440763  0.206628\n",
      "14  0.202257 -0.204974 -0.146898  ...  0.400614 -0.103214  0.316551\n",
      "15 -0.084306 -0.081203  0.382265  ...  0.118399 -0.323356 -0.195190\n",
      "16 -0.084875  0.027071 -0.149274  ...  0.183221 -0.219336  0.143222\n",
      "17  0.171280 -0.017364 -0.104929  ...  0.025364  0.070611  0.351361\n",
      "18 -0.179349  0.014406 -0.212022  ... -0.023714 -0.064375 -0.187834\n",
      "19  0.142678  0.028440  0.296968  ... -0.004769  0.148550 -0.256444\n",
      "20  0.128716  0.099259  0.005665  ... -0.037397 -0.179631  0.008055\n",
      "21  0.009487 -0.131627  0.084037  ...  0.143933 -0.249059 -0.152734\n",
      "22  0.028554  0.026436  0.045537  ... -0.072623  0.053658  0.103426\n",
      "23  0.043056  0.013073  0.030844  ... -0.010808  0.034874 -0.052942\n",
      "\n",
      "[24 rows x 24 columns]\n"
     ]
    },
    {
     "data": {
      "text/plain": [
       "<matplotlib.axes._subplots.AxesSubplot at 0x7f78bfd36390>"
      ]
     },
     "execution_count": 136,
     "metadata": {
      "tags": []
     },
     "output_type": "execute_result"
    },
    {
     "data": {
      "image/png": "[encoded data removed]",
      "text/plain": [
       "<Figure size 864x432 with 2 Axes>"
      ]
     },
     "metadata": {
      "tags": []
     },
     "output_type": "display_data"
    }
   ],
   "source": [
    "df_comp = pd.DataFrame(pca.components_,columns=data_tr.columns)\n",
    "print(\"---------------- Les differentes composantes principales ------------- \\n\")\n",
    "print(df_comp)\n",
    "plt.figure(figsize=(12,6))\n",
    "sns.heatmap(df_comp,cmap='plasma',)"
   ]
  },
  {
   "cell_type": "markdown",
   "metadata": {
    "colab_type": "text",
    "id": "2ipZ211eBsuf"
   },
   "source": [
    "Le heatmap montre la correlation qu'il y a entre les attributs et les composantes principales.\n"
   ]
  },
  {
   "cell_type": "markdown",
   "metadata": {
    "colab_type": "text",
    "id": "qNPawU-kRWcB"
   },
   "source": [
    "## Variable representation"
   ]
  },
  {
   "cell_type": "markdown",
   "metadata": {
    "colab_type": "text",
    "id": "8cgfLZmftfi5"
   },
   "source": [
    "**Calcul de la correlation**"
   ]
  },
  {
   "cell_type": "code",
   "execution_count": 0,
   "metadata": {
    "colab": {
     "base_uri": "https://localhost:8080/",
     "height": 1000
    },
    "colab_type": "code",
    "id": "VyVN383MegEQ",
    "outputId": "7d423df8-9785-4eff-9df9-cd9c8e22f55c"
   },
   "outputs": [
    {
     "name": "stdout",
     "output_type": "stream",
     "text": [
      "[[ 3.31317583e-01 -1.27231076e-01 -4.32689872e-01 -1.10664490e-01\n",
      "   8.48813869e-02  3.18558706e-01  1.48716250e-02 -3.85223268e-01\n",
      "   1.89927619e-01 -2.33648733e-01  4.69184469e-01 -1.93537815e-01\n",
      "   2.24593657e-02  6.24319457e-02  1.50742262e-01 -5.93030130e-02\n",
      "  -5.49258780e-02  1.09088934e-01 -1.07530306e-01  8.15852896e-02\n",
      "   6.89815123e-02  5.01324765e-03  1.36648459e-02  1.63466726e-02]\n",
      " [ 3.41860372e-01  2.39450580e-02 -1.49140638e-01  1.53694907e-02\n",
      "  -1.65145992e-01 -3.00809261e-01 -5.42685904e-01 -1.86204851e-01\n",
      "   4.99486184e-01 -1.36629214e-01 -1.18277798e-01  2.70615261e-01\n",
      "   1.19359057e-01  9.10769065e-02 -1.52766913e-01 -5.71203996e-02\n",
      "   1.75183697e-02 -1.10592535e-02  8.63695965e-03  1.62623890e-02\n",
      "   5.31952346e-02 -6.95581280e-02  1.26512112e-02  4.96339853e-03]\n",
      " [-6.01758100e-01  2.35771108e-01 -1.27292139e-01 -1.77566171e-02\n",
      "  -4.27891278e-02  7.62287077e-04  1.37122680e-01 -1.99119410e-01\n",
      "  -4.56654452e-03 -2.78576235e-01 -1.94127173e-01  1.30049620e-01\n",
      "  -4.69829479e-01  8.27998359e-02 -1.09483255e-01  2.68896292e-01\n",
      "  -9.66011105e-02 -6.68298458e-02 -1.27119859e-01  1.69811285e-01\n",
      "   3.03592076e-03  4.44091272e-02  2.17921252e-02  1.17100427e-02]\n",
      " [ 6.73911184e-01 -2.74948578e-01  3.55156877e-01  1.34851653e-01\n",
      "   1.98524887e-02 -4.78403504e-02  1.23621663e-01  5.73325550e-02\n",
      "  -1.11685832e-02  4.45673802e-02  5.27894592e-02  1.22914712e-02\n",
      "   5.66528799e-02  2.11890085e-01  2.72545430e-02  2.01074244e-01\n",
      "   2.94641971e-01 -1.09958323e-01 -1.57671046e-01  6.10526150e-02\n",
      "   2.67775625e-01  1.39833193e-03  1.05138901e-01 -9.58200313e-03]\n",
      " [ 3.84789389e-01 -5.30928548e-01 -4.40370677e-01  3.20856291e-01\n",
      "  -9.80380238e-02 -9.68675243e-02  1.73242995e-02  1.99663278e-01\n",
      "   8.15226422e-03  4.08380891e-02 -1.52584543e-01  5.27545923e-02\n",
      "  -3.37724518e-02  6.62374579e-02  9.86334014e-02 -1.32067743e-01\n",
      "  -7.07477610e-02 -7.76780888e-02 -2.78601292e-01 -4.24835355e-02\n",
      "  -8.13877642e-02  2.14324483e-01 -1.01316359e-01  1.52397593e-02]\n",
      " [ 4.47992222e-01 -5.02063839e-01 -4.39993626e-01  1.42546938e-01\n",
      "  -1.90701433e-02 -1.70969453e-01 -3.12607446e-02  1.91879681e-01\n",
      "  -1.83016975e-01 -9.96962355e-02 -6.02549886e-02  1.73717809e-02\n",
      "  -4.21377828e-02 -1.27298083e-03  2.25263037e-01  1.44634582e-01\n",
      "  -1.23415619e-01 -1.39992777e-02  2.32287526e-01  1.48652219e-01\n",
      "   1.16669451e-02 -2.19607370e-01  7.25369760e-02 -4.15634011e-03]\n",
      " [ 6.52047735e-01  4.11181146e-01  3.00166040e-03  2.70677467e-01\n",
      "  -1.34709778e-01  1.29760648e-01  1.22418688e-01 -2.78279194e-02\n",
      "   9.17714956e-02 -3.73069759e-02  3.37585613e-02 -2.84450849e-02\n",
      "  -1.95857726e-01 -1.92287199e-02  9.51591642e-02 -1.63379337e-01\n",
      "   2.19329752e-03 -3.21219981e-01  1.42815287e-01 -2.36176988e-02\n",
      "   1.36539197e-01 -6.65566463e-02 -2.19460941e-01 -1.12096615e-02]\n",
      " [ 4.67722163e-01  5.42522515e-01 -1.68636394e-01  3.58584383e-01\n",
      "   3.08330256e-01  5.93508292e-02  1.06988348e-01  2.09631546e-01\n",
      "   1.88845012e-01 -1.02889520e-01  2.30985337e-03  4.16845929e-02\n",
      "   1.03554455e-02 -3.21496877e-02  5.84703597e-02 -6.64829433e-02\n",
      "  -3.65026117e-02 -7.72647680e-02  3.63960881e-02 -5.27257420e-02\n",
      "  -7.00549327e-02  9.75796005e-02  3.04761818e-01 -1.46597825e-02]\n",
      " [-4.49693833e-01 -3.78795042e-01  1.06828818e-01 -1.36067419e-01\n",
      "  -6.05011184e-01  5.12614899e-02  1.97690064e-03 -2.75608462e-01\n",
      "   1.16082846e-02  1.40232709e-01  5.33663024e-02 -3.78857641e-02\n",
      "  -1.17906312e-01 -6.34221118e-02  6.34971461e-02 -1.17738936e-01\n",
      "  -2.74901085e-02 -2.29833811e-01  8.40472746e-02 -7.37111802e-02\n",
      "  -2.00263088e-02  7.25072295e-02  2.18201073e-01 -2.20075855e-02]\n",
      " [ 1.71302260e-01  1.56216641e-01 -1.13668371e-01  5.97031082e-01\n",
      "  -5.65899340e-01  2.32692736e-01  1.81640485e-01 -7.86114149e-02\n",
      "   7.89816374e-02  1.09127028e-01 -8.90308076e-04  1.29501799e-02\n",
      "   1.06134716e-01 -1.41843159e-01 -1.07043733e-01  1.57392059e-01\n",
      "   1.20419426e-01  2.13299946e-01 -1.66635881e-02  4.94982722e-02\n",
      "  -9.40576282e-02 -7.37657988e-02 -1.28007475e-02  1.47226634e-02]\n",
      " [-8.28977765e-01 -1.93878149e-01 -5.37424932e-02  1.72982482e-01\n",
      "   1.05978636e-01  2.07432803e-02  1.72293089e-01 -2.88698367e-02\n",
      "   1.16855959e-01 -1.62816824e-01  3.78091897e-03  9.20554557e-02\n",
      "   2.69602837e-02  1.98122654e-02  3.30277001e-02  1.46527379e-02\n",
      "  -5.17878676e-03  6.32044050e-03 -7.90880148e-02 -2.14098625e-01\n",
      "   2.29636889e-02 -1.49705061e-01 -2.00000633e-02 -2.71364905e-01]\n",
      " [-8.32568610e-01 -1.66826638e-01 -4.01283210e-02  1.65970157e-01\n",
      "   9.92178906e-02 -1.37296099e-02  1.66203245e-01 -3.80965372e-02\n",
      "   7.96888365e-02 -1.74362707e-01 -3.64471255e-02  5.70995710e-02\n",
      "  -3.80454579e-03  4.12918422e-02  6.82348915e-02 -4.78077928e-03\n",
      "   5.61005720e-02 -1.16221043e-02 -3.53475207e-03 -2.71812860e-01\n",
      "   4.71190979e-02 -1.30044158e-01  1.29461743e-02  2.57911451e-01]\n",
      " [ 2.14391228e-01 -3.12885395e-01  7.13549968e-02 -3.11754811e-01\n",
      "  -2.09220393e-02  3.67693336e-01  5.98765047e-02  4.86117630e-01\n",
      "   4.55106126e-01  1.50856187e-01  1.03821777e-01  1.50517948e-01\n",
      "  -3.11482304e-01 -3.75861725e-02 -6.07958235e-02  4.28286473e-02\n",
      "   1.31218694e-02  8.38862207e-02  4.71129829e-02 -2.25196036e-02\n",
      "  -1.15359065e-02 -2.76276118e-02 -1.03061825e-02  1.04057078e-02]\n",
      " [-7.46649118e-01 -1.53825201e-01 -1.63288984e-02  1.61585663e-01\n",
      "   4.69562174e-02 -9.89804275e-02  9.03957944e-02  9.32497672e-03\n",
      "   4.87572555e-02 -1.85216083e-01  2.93234880e-02  6.39308390e-02\n",
      "  -9.96101301e-02  1.85642245e-01  7.39529083e-02 -2.09234885e-01\n",
      "   3.25031597e-01  1.29691419e-01  2.47797536e-01  1.48712422e-01\n",
      "  -4.80597146e-02  1.63466589e-01 -3.66945659e-02 -2.43154238e-02]\n",
      " [ 3.86852563e-01 -8.47193089e-02  3.23592388e-01  1.84906070e-01\n",
      "   1.00470258e-01 -5.84680448e-01  3.46587217e-02 -8.19694021e-02\n",
      "   6.03678246e-02  4.00243183e-02  4.20182855e-01 -2.96080439e-02\n",
      "  -2.99710091e-01 -1.90528060e-01 -3.90111437e-03  1.23841343e-03\n",
      "   3.39636892e-02  2.39253407e-02 -7.57476182e-02 -1.92257532e-02\n",
      "  -1.53673508e-01 -6.30123198e-02 -1.07323155e-02  6.69680358e-03]\n",
      " [ 6.13661619e-01 -2.18337052e-01  4.19384480e-01  2.25256872e-01\n",
      "  -3.35495561e-02  4.41375172e-02  2.82076785e-02 -1.22805003e-01\n",
      "  -1.15810811e-01 -1.87835571e-01  7.70187599e-02  2.24649332e-01\n",
      "  -1.86140951e-02  4.28138086e-02 -5.67164383e-02  7.51185753e-02\n",
      "  -2.77864015e-01  1.85537288e-01  1.72651343e-01 -1.39431425e-01\n",
      "   1.26176707e-01  1.91668025e-01 -2.17691522e-02 -5.30106044e-03]\n",
      " [ 4.43933361e-01 -3.34370672e-01  3.07279610e-01  7.71529314e-02\n",
      "   1.47925946e-01  4.07055683e-01 -1.65903669e-01 -4.40389996e-02\n",
      "  -2.49417143e-01 -3.56932754e-01 -1.73804131e-03  1.86033488e-01\n",
      "   2.82516264e-02 -1.08921925e-01 -1.84572383e-01 -1.42684360e-01\n",
      "   9.84146044e-02 -1.44639420e-01 -6.36056414e-02  6.87750321e-02\n",
      "  -1.78924839e-01 -1.02466569e-01  1.87036581e-02  1.23248496e-02]\n",
      " [ 3.29467347e-01 -2.70880382e-01  4.01724226e-01  1.73964005e-01\n",
      "   1.85652443e-01  8.43758694e-02 -6.96954869e-02 -1.94434138e-01\n",
      "   2.98618485e-01 -2.33503499e-02 -4.06759200e-01 -5.06846326e-01\n",
      "  -9.63855995e-02  6.06899429e-02  5.55613201e-02  2.59248877e-02\n",
      "  -4.15577612e-02  5.17084755e-02  4.07475597e-02 -9.82312524e-04\n",
      "  -8.28913353e-02 -1.93755105e-02 -8.32650325e-04 -8.64458412e-03]\n",
      " [-7.09601615e-01 -3.25075030e-02  2.99296311e-01  2.17506243e-01\n",
      "   1.06076717e-05 -9.60616646e-03 -1.45723151e-02  1.28667792e-01\n",
      "   4.44389642e-02  1.42070035e-02 -8.11402715e-02  2.68499096e-02\n",
      "  -2.25933774e-02 -2.76610687e-01  7.26210032e-02 -3.00661694e-01\n",
      "  -1.49104084e-01  1.16486211e-01 -1.35075667e-01  2.17049526e-01\n",
      "   2.26912318e-01 -6.23904496e-02  5.15058472e-02  1.71287362e-02]\n",
      " [-5.39148829e-01  1.51667721e-01  4.43618326e-01  1.36198313e-01\n",
      "  -4.76054913e-03  1.49950300e-01 -1.98616879e-01 -2.01191694e-03\n",
      "   1.12686409e-01  1.26502885e-01  1.22535650e-01  2.21180421e-01\n",
      "   1.29778880e-01  1.95885675e-01  4.32459710e-01  1.44150946e-01\n",
      "  -1.03244369e-01 -7.83531415e-02 -4.74259088e-02  9.33442324e-02\n",
      "  -1.51851871e-01 -5.66813957e-03 -4.75203319e-02  1.56804188e-02]\n",
      " [ 3.76499784e-01 -6.11898148e-02 -1.98053482e-01  4.66192826e-02\n",
      "   3.73878313e-01  1.38672348e-01 -4.21844959e-04 -4.60194691e-01\n",
      "  -9.67048844e-02  4.80261071e-01 -1.81651964e-01  3.05007227e-01\n",
      "  -1.92137871e-01 -5.34842085e-02  9.96288488e-02 -7.71959886e-02\n",
      "   8.96290132e-02  9.31218764e-02  1.27778459e-02 -3.05269089e-02\n",
      "   2.24487065e-02 -4.08755054e-02  2.46584227e-02 -5.98423172e-03]\n",
      " [ 5.18375272e-01  1.98765314e-02  7.41557407e-02 -3.88639813e-01\n",
      "  -7.61676648e-02 -1.10175706e-01  2.85810138e-01 -9.98838137e-02\n",
      "   1.52837480e-01 -2.75081454e-01 -2.21546640e-01  1.43668490e-01\n",
      "   1.47658684e-01 -3.95178359e-01  2.98577646e-01  8.32853080e-02\n",
      "   1.18569361e-01  1.61543551e-02 -1.42178010e-02 -2.72695898e-03\n",
      "  -2.00415789e-02  7.60609759e-02 -3.47544599e-02 -4.10340032e-03]\n",
      " [ 5.22112920e-01  3.88031921e-02  1.56886066e-01 -2.13086130e-01\n",
      "  -1.23169590e-01 -1.44242688e-01  5.85541283e-01 -7.23715567e-02\n",
      "   7.23420717e-02  3.09335593e-02 -7.63917706e-02  1.17250994e-01\n",
      "   1.14435607e-01  3.42019288e-01 -7.69253558e-02 -2.27457699e-01\n",
      "  -1.41940846e-01  4.49722377e-02 -3.85966898e-02  8.49434840e-02\n",
      "  -9.62681951e-02 -1.31615037e-01  2.56782248e-02  1.32401558e-02]\n",
      " [ 5.15477115e-01  3.48462444e-01  7.45033470e-02 -1.44475612e-01\n",
      "  -3.31098908e-01  2.43378338e-02 -2.76129350e-01  1.36728980e-01\n",
      "  -2.57467779e-01 -1.72100969e-01 -1.00168931e-01 -4.19295943e-02\n",
      "  -2.66662991e-01  1.60337292e-01  2.35925831e-01 -1.37302336e-01\n",
      "   9.26841745e-02  2.23783385e-01 -1.12617705e-01 -1.46638740e-01\n",
      "   4.31668690e-03 -8.07118674e-02  4.94951185e-02 -2.00997904e-02]]\n"
     ]
    }
   ],
   "source": [
    "\n",
    "# Calcul de correlation des variables  \n",
    "sqrt_cor_var = np.sqrt(corrected_variance) # ecart type\n",
    "corvar = np.zeros((p,p))\n",
    "\n",
    "\n",
    "for k in range(p):\n",
    "  corvar[:,k] = pca.components_[k,:] * sqrt_cor_var[k]\n",
    "\n",
    "# Matrice de correlation \"variables x factors\"\n",
    "print(corvar)"
   ]
  },
  {
   "cell_type": "code",
   "execution_count": 0,
   "metadata": {
    "colab": {
     "base_uri": "https://localhost:8080/",
     "height": 487
    },
    "colab_type": "code",
    "id": "TZVt9bAoegEU",
    "outputId": "bd5441d5-f014-4c04-bf06-e97daf13e8f3"
   },
   "outputs": [
    {
     "data": {
      "image/png": "[encoded data removed]",
      "text/plain": [
       "<Figure size 576x576 with 1 Axes>"
      ]
     },
     "metadata": {
      "tags": []
     },
     "output_type": "display_data"
    }
   ],
   "source": [
    "# Plot the correlation circle\n",
    "\n",
    "# Correlation circle\n",
    "fig, axes = plt.subplots(figsize=(8,8))\n",
    "axes.set_xlim(-1,1)\n",
    "axes.set_ylim(-1,1)\n",
    "# Print the labels (variable names)\n",
    "for j in range(p):\n",
    "     plt.annotate(data_tr.columns[j],(corvar[j,0],corvar[j,1]))\n",
    "\n",
    "# Add the axes\n",
    "plt.plot([-1,1],[0,0],color='silver',linestyle='-',linewidth=1)\n",
    "plt.plot([0,0],[-1,1],color='silver',linestyle='-',linewidth=1)\n",
    "\n",
    "# Add a circle\n",
    "cercle = plt.Circle((0,0),1,color='blue',fill=False)\n",
    "axes.add_artist(cercle)\n",
    "# Print the correlation circle\n",
    "plt.show()"
   ]
  }
 ],
 "metadata": {
  "celltoolbar": "Raw Cell Format",
  "colab": {
   "collapsed_sections": [],
   "name": "ACP_PracticalCourse.ipynb",
   "provenance": []
  },
  "kernelspec": {
   "display_name": "Python 3",
   "language": "python",
   "name": "python3"
  },
  "language_info": {
   "codemirror_mode": {
    "name": "ipython",
    "version": 3
   },
   "file_extension": ".py",
   "mimetype": "text/x-python",
   "name": "python",
   "nbconvert_exporter": "python",
   "pygments_lexer": "ipython3",
   "version": "3.8.2"
  }
 },
 "nbformat": 4,
 "nbformat_minor": 1
}
