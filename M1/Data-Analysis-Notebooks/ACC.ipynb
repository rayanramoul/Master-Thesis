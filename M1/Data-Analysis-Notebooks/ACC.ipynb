{
 "cells": [
  {
   "cell_type": "markdown",
   "metadata": {},
   "source": [
    "### Question 1"
   ]
  },
  {
   "cell_type": "code",
   "execution_count": 1,
   "metadata": {},
   "outputs": [
    {
     "data": {
      "text/plain": [
       "[<matplotlib.lines.Line2D at 0x7f8dde0fabe0>,\n",
       " <matplotlib.lines.Line2D at 0x7f8dde0fac40>]"
      ]
     },
     "execution_count": 1,
     "metadata": {},
     "output_type": "execute_result"
    },
    {
     "data": {
      "image/png": "[encoded data removed]",
      "text/plain": [
       "<Figure size 432x288 with 1 Axes>"
      ]
     },
     "metadata": {
      "needs_background": "light"
     },
     "output_type": "display_data"
    }
   ],
   "source": [
    "X = [\n",
    "    [0.8970, 8.1472],\n",
    "    [2.0949, 9.0579],\n",
    "    [3.0307, 1.2699],\n",
    "    [4.0135, 9.1338],\n",
    "    [5.0515, 6.3236],\n",
    "    [6.0261, 0.9754]\n",
    "]\n",
    "Y = [\n",
    "    [1.0898, 16.8407],\n",
    "    [1.9864, 17.2543],\n",
    "    [2.9853, 18.8143],\n",
    "    [10.0080, 19.2435],\n",
    "    [8.9052, 20.9293],\n",
    "    [8.0411, 11.3517]\n",
    "]\n",
    "\n",
    "import matplotlib.pyplot as plt\n",
    "plt.plot(X, 'x', color=\"blue\")"
   ]
  },
  {
   "cell_type": "code",
   "execution_count": 2,
   "metadata": {},
   "outputs": [
    {
     "data": {
      "text/plain": [
       "[<matplotlib.lines.Line2D at 0x7f8ddda1a6d0>,\n",
       " <matplotlib.lines.Line2D at 0x7f8ddda1a730>]"
      ]
     },
     "execution_count": 2,
     "metadata": {},
     "output_type": "execute_result"
    },
    {
     "data": {
      "image/png": "[encoded data removed]",
      "text/plain": [
       "<Figure size 432x288 with 1 Axes>"
      ]
     },
     "metadata": {
      "needs_background": "light"
     },
     "output_type": "display_data"
    }
   ],
   "source": [
    "plt.plot(Y, 'x', color=\"red\")"
   ]
  },
  {
   "cell_type": "markdown",
   "metadata": {},
   "source": [
    "### Question 2 : centrer réduire"
   ]
  },
  {
   "cell_type": "code",
   "execution_count": 11,
   "metadata": {},
   "outputs": [
    {
     "name": "stdout",
     "output_type": "stream",
     "text": [
      "X1 [0.897  2.0949 3.0307 4.0135 5.0515 6.0261]\n",
      "X2 [8.1472 9.0579 1.2699 9.1338 6.3236 0.9754]\n",
      "Y1 [ 1.0898  1.9864  2.9853 10.008   8.9052  8.0411]\n",
      "Y2 [16.8407 17.2543 18.8143 19.2435 20.9293 11.3517]\n",
      "MEANS : {'X1': 3.5189500000000002, 'X2': 5.817966666666667, 'Y1': 5.502633333333333, 'Y2': 17.40563333333333}\n",
      "X1_centre [-2.62195 -1.42405 -0.48825  0.49455  1.53255  2.50715]\n",
      "X2_centre [ 2.32923333  3.23993333 -4.54806667  3.31583333  0.50563333 -4.84256667]\n",
      "Y1_centre [-4.41283333 -3.51623333 -2.51733333  4.50536667  3.40256667  2.53846667]\n",
      "Y2_centre [-0.56493333 -0.15133333  1.40866667  1.83786667  3.52366667 -6.05393333]\n",
      "N : 6\n",
      "Variance X1 = 3.0033364324999994\n",
      "Variance X2 = 11.884712335555557\n",
      "Variance Y1 = 12.748927288888888\n",
      "Variance Y2 = 9.128413782222227\n",
      "Ecart type de X1 = 1.7330136850296363\n",
      "Ecart type de X2 = 3.4474211137538098\n",
      "Ecart type de Y1 = 3.57056400151137\n",
      "Ecart type de Y2 = 3.0213264938139717\n",
      "Centres reduites de X1 = [-1.51294247 -0.82171884 -0.28173465  0.28536993  0.88432654  1.44669948]\n",
      "Centres reduites de X2 = [ 0.67564514  0.93981362 -1.31926635  0.96183008  0.14667002 -1.40469252]\n",
      "Centres reduites de Y1 = [-1.23589252 -0.98478373 -0.70502401  1.26180812  0.95294936  0.71094277]\n",
      "Centres reduites de Y2 = [-0.18698189 -0.05008837  0.46624113  0.60829793  1.16626478 -2.00373357]\n",
      "X centrée réduite : \n",
      "[[-1.512942467015292, 0.6756451435656172], [-0.8217188429043754, 0.9398136248592652], [-0.28173464769359324, -1.3192663491331909], [0.2853699334702842, 0.9618300822329207], [0.88432654239184, 0.14667002279357788], [1.446699481751135, -1.4046925243181905]]\n",
      "Y centrée réduite : \n",
      "[[-1.2358925176710014, -0.186981888415571], [-0.9847837293617928, -0.05008837464046938], [-0.7050240052461685, 0.4662411260586532], [1.2618081246435038, 0.6082979348407458], [0.9529493562435538, 1.166264776044965], [0.7109427713919061, -2.003733573888318]]\n"
     ]
    }
   ],
   "source": [
    "import numpy as np\n",
    "from math import sqrt\n",
    "\n",
    "X = np.array(X)\n",
    "Y = np.array(Y)\n",
    "matrix = {}\n",
    "means = {}\n",
    "centre = {}\n",
    "\n",
    "matrix[\"X1\"] = X[:, 0]\n",
    "matrix[\"X2\"] = X[:, 1]\n",
    "matrix[\"Y1\"] = Y[:, 0]\n",
    "matrix[\"Y2\"] = Y[:, 1]\n",
    "\n",
    "print(\"X1 \"+str(matrix[\"X1\"]))\n",
    "print(\"X2 \"+str(matrix[\"X2\"]))\n",
    "print(\"Y1 \"+str(matrix[\"Y1\"]))\n",
    "print(\"Y2 \"+str(matrix[\"Y2\"]))\n",
    "\n",
    "means[\"X1\"] = np.mean(matrix[\"X1\"]) \n",
    "means[\"X2\"] = np.mean(matrix[\"X2\"])\n",
    "means[\"Y1\"] = np.mean(matrix[\"Y1\"]) \n",
    "means[\"Y2\"] = np.mean(matrix[\"Y2\"])\n",
    "print(\"MEANS : \"+str(means))\n",
    "centre_X1 = lambda x:x-means[\"X1\"]\n",
    "centre_X2 = lambda x:x-means[\"X2\"]\n",
    "centre_Y1 = lambda x:x-means[\"Y1\"]\n",
    "centre_Y2 = lambda x:x-means[\"Y2\"]\n",
    "\n",
    "centre[\"X1\"] = centre_X1(matrix[\"X1\"])\n",
    "centre[\"X2\"] = centre_X2(matrix[\"X2\"])\n",
    "centre[\"Y1\"] = centre_Y1(matrix[\"Y1\"])\n",
    "centre[\"Y2\"] = centre_Y2(matrix[\"Y2\"])\n",
    "\n",
    "print(\"X1_centre \"+str(centre[\"X1\"]))\n",
    "print(\"X2_centre \"+str(centre[\"X2\"]))\n",
    "print(\"Y1_centre \"+str(centre[\"Y1\"]))\n",
    "print(\"Y2_centre \"+str(centre[\"Y2\"]))\n",
    "\n",
    "N = len(centre['X1'])\n",
    "print(\"N : \"+str(N))\n",
    "\n",
    "# Calcul variance\n",
    "variances = {}\n",
    "for i in matrix:\n",
    "    tmp = np.zeros(N)\n",
    "    variances[i] = 0\n",
    "    count = 0\n",
    "    for j in matrix[i].copy():\n",
    "        tmp[count] = (j-means[i])\n",
    "        r = tmp[count]*tmp[count]\n",
    "        variances[i] += r\n",
    "        count += 1\n",
    "    variances[i] = variances[i]/(N)\n",
    "    print(\"Variance \"+str(i)+\" = \"+str(variances[i]))\n",
    "\n",
    "ecarts_type = {}\n",
    "for i in matrix:\n",
    "    ecarts_type[i] = sqrt(variances[i])\n",
    "    print(\"Ecart type de \"+str(i)+\" = \"+str(ecarts_type[i]))\n",
    "    \n",
    "# Réduction des données \n",
    "f_X1 = lambda x:x/(ecarts_type['X1'])\n",
    "f_X2 = lambda x:x/(ecarts_type['X2'])\n",
    "f_Y1 = lambda x:x/(ecarts_type['Y1'])\n",
    "f_Y2 = lambda x:x/(ecarts_type['Y2'])\n",
    "centres_reduites = {}\n",
    "centres_reduites[\"X1\"] = f_X1(centre[\"X1\"])\n",
    "centres_reduites[\"X2\"] = f_X2(centre[\"X2\"])\n",
    "centres_reduites[\"Y1\"] = f_Y1(centre[\"Y1\"])\n",
    "centres_reduites[\"Y2\"] = f_Y2(centre[\"Y2\"])\n",
    "\n",
    "\n",
    "for i in centres_reduites:\n",
    "    print(\"Centres reduites de \"+str(i)+\" = \"+str(centres_reduites[i]))\n",
    "\n",
    "X_cr = []\n",
    "Y_cr =  []\n",
    "for i in range(N):\n",
    "    X_cr.append([centres_reduites[\"X1\"][i], centres_reduites[\"X2\"][i]])\n",
    "    Y_cr.append([centres_reduites[\"Y1\"][i], centres_reduites[\"Y2\"][i]])\n",
    "\n",
    "print(\"X centrée réduite : \\n\"+str(X_cr))\n",
    "print(\"Y centrée réduite : \\n\"+str(Y_cr))\n",
    "\n"
   ]
  },
  {
   "cell_type": "markdown",
   "metadata": {},
   "source": [
    "### Question 3 :  matrices de covariance V_XX et V_XY"
   ]
  },
  {
   "cell_type": "code",
   "execution_count": 4,
   "metadata": {},
   "outputs": [
    {
     "name": "stdout",
     "output_type": "stream",
     "text": [
      " Vxy \n",
      "[[ 0.85150006 -0.25019273]\n",
      " [-0.07927756  0.46371026]]\n",
      " Vxx \n",
      "[[ 1.         -0.50846302]\n",
      " [-0.50846302  1.        ]]\n"
     ]
    }
   ],
   "source": [
    "X_cr = np.array(X_cr)\n",
    "Y_cr = np.array(Y_cr)\n",
    "X_cr_tr = np.transpose(X_cr)\n",
    "V_xy = 1/N * (np.matmul(X_cr_tr, Y_cr))\n",
    "V_xx = 1/N * (np.matmul(X_cr_tr, X_cr))\n",
    "print(' Vxy ')\n",
    "print(V_xy)\n",
    "print(' Vxx ')\n",
    "print(V_xx)"
   ]
  },
  {
   "cell_type": "markdown",
   "metadata": {},
   "source": [
    "### Question 4 : Vérifier que 𝜆1 soit respectivement la valeur propre des vecteurs propres des\n",
    "matrices 𝑅𝑋 et 𝑅𝑦 données"
   ]
  },
  {
   "cell_type": "code",
   "execution_count": 5,
   "metadata": {},
   "outputs": [
    {
     "name": "stdout",
     "output_type": "stream",
     "text": [
      "[0.8566568  0.31431664]\n",
      "[0.856655   0.31435625]\n",
      "\n",
      "\n",
      "\n",
      "[ 0.89857367 -0.13994157]\n",
      "[ 0.90054625 -0.1202675 ]\n"
     ]
    }
   ],
   "source": [
    "a1 = np.array([0.9388, 0.3445])\n",
    "b1 = np.array([0.9869, -0.1318])\n",
    "lambda1 = 0.9125\n",
    "Rx  = np.array([\n",
    "    [0.9605, -0.1308],\n",
    "    [0.2758, 0.1608]\n",
    "])\n",
    "Ry  = np.array([\n",
    "    [0.9015, -0.0674],\n",
    "    [-0.1135, 0.2119]\n",
    "])\n",
    "print(np.matmul(Rx,a1))\n",
    "print(lambda1*a1)\n",
    "print(\"\\n\\n\")\n",
    "print(np.matmul(Ry,b1))\n",
    "print(lambda1*b1)"
   ]
  },
  {
   "cell_type": "markdown",
   "metadata": {},
   "source": [
    "### Question 5 : Calculer les premières composantes canoniques U1 et V1. Reprendre la matrice centrée-réduite"
   ]
  },
  {
   "cell_type": "code",
   "execution_count": 6,
   "metadata": {},
   "outputs": [
    {
     "name": "stdout",
     "output_type": "stream",
     "text": [
      "U1\n",
      "[[-1.42035039  0.23275975]\n",
      " [-0.77142965  0.32376579]\n",
      " [-0.26449249 -0.45448726]\n",
      " [ 0.26790529  0.33135046]\n",
      " [ 0.83020576  0.05052782]\n",
      " [ 1.35816147 -0.48391657]]\n",
      "V1\n",
      "[[-1.21970233  0.02464421]\n",
      " [-0.97188306  0.00660165]\n",
      " [-0.69578819 -0.06145058]\n",
      " [ 1.24527844 -0.08017367]\n",
      " [ 0.94046572 -0.1537137 ]\n",
      " [ 0.70162942  0.26409209]]\n"
     ]
    }
   ],
   "source": [
    "U1 = a1*X_cr\n",
    "V1 = b1*Y_cr\n",
    "print(\"U1\")\n",
    "print(U1)\n",
    "print(\"V1\")\n",
    "print(V1)"
   ]
  },
  {
   "cell_type": "markdown",
   "metadata": {},
   "source": [
    "### Corrélation  r(U1, V1)"
   ]
  },
  {
   "cell_type": "code",
   "execution_count": 7,
   "metadata": {},
   "outputs": [
    {
     "name": "stdout",
     "output_type": "stream",
     "text": [
      "r(U1, V1) = [[ 1.58468662  0.06218357]\n",
      " [-0.05414086 -0.04229254]]\n"
     ]
    }
   ],
   "source": [
    "U1_tr = np.transpose(U1)\n",
    "cov_U1_V1 = 1/N * (np.matmul(U1_tr, V1))\n",
    "sigma_u = sqrt(np.var(U1))\n",
    "sigma_v = sqrt(np.var(V1))\n",
    "r = cov_U1_V1/(sigma_u*sigma_v)\n",
    "print(\"r(U1, V1) = \"+str(r))"
   ]
  },
  {
   "cell_type": "code",
   "execution_count": 8,
   "metadata": {},
   "outputs": [
    {
     "name": "stdout",
     "output_type": "stream",
     "text": [
      "C1 :\n",
      "[[-1.32002636  0.12870198]\n",
      " [-0.87165636  0.16518372]\n",
      " [-0.48014034 -0.25796892]\n",
      " [ 0.75659187  0.1255884 ]\n",
      " [ 0.88533574 -0.05159294]\n",
      " [ 1.02989545 -0.10991224]]\n",
      "C2 :\n",
      "[ 0.05025  0.31995 -0.4761   0.86195  0.7746  -1.5307 ]\n"
     ]
    }
   ],
   "source": [
    "U2 = [0.4063, 0.7851, -1.3480, 0.9965, 0.2961, -1.1359]\n",
    "V2 = [-0.3058, -0.1452, 0.3958, 0.7274, 1.2531, -1.9255]\n",
    "C1 = np.add(U1, V1)/2\n",
    "C2 = np.add(U2, V2)/2\n",
    "\n",
    "print(\"C1 :\")\n",
    "print(C1)\n",
    "print(\"C2 :\")\n",
    "print(C2)"
   ]
  },
  {
   "cell_type": "code",
   "execution_count": 9,
   "metadata": {},
   "outputs": [
    {
     "ename": "NameError",
     "evalue": "name 'p' is not defined",
     "output_type": "error",
     "traceback": [
      "\u001b[0;31m---------------------------------------------------------------------------\u001b[0m",
      "\u001b[0;31mNameError\u001b[0m                                 Traceback (most recent call last)",
      "\u001b[0;32m<ipython-input-9-d3541a65b856>\u001b[0m in \u001b[0;36m<module>\u001b[0;34m\u001b[0m\n\u001b[1;32m      4\u001b[0m \u001b[0maxes\u001b[0m\u001b[0;34m.\u001b[0m\u001b[0mset_ylim\u001b[0m\u001b[0;34m(\u001b[0m\u001b[0;34m-\u001b[0m\u001b[0;36m1\u001b[0m\u001b[0;34m,\u001b[0m\u001b[0;36m1\u001b[0m\u001b[0;34m)\u001b[0m\u001b[0;34m\u001b[0m\u001b[0;34m\u001b[0m\u001b[0m\n\u001b[1;32m      5\u001b[0m \u001b[0;31m# Print the labels (variable names)\u001b[0m\u001b[0;34m\u001b[0m\u001b[0;34m\u001b[0m\u001b[0;34m\u001b[0m\u001b[0m\n\u001b[0;32m----> 6\u001b[0;31m \u001b[0;32mfor\u001b[0m \u001b[0mj\u001b[0m \u001b[0;32min\u001b[0m \u001b[0mrange\u001b[0m\u001b[0;34m(\u001b[0m\u001b[0mp\u001b[0m\u001b[0;34m)\u001b[0m\u001b[0;34m:\u001b[0m\u001b[0;34m\u001b[0m\u001b[0;34m\u001b[0m\u001b[0m\n\u001b[0m\u001b[1;32m      7\u001b[0m      \u001b[0mplt\u001b[0m\u001b[0;34m.\u001b[0m\u001b[0mannotate\u001b[0m\u001b[0;34m(\u001b[0m\u001b[0mdata_tr\u001b[0m\u001b[0;34m.\u001b[0m\u001b[0mcolumns\u001b[0m\u001b[0;34m[\u001b[0m\u001b[0mj\u001b[0m\u001b[0;34m]\u001b[0m\u001b[0;34m,\u001b[0m\u001b[0;34m(\u001b[0m\u001b[0mcorvar\u001b[0m\u001b[0;34m[\u001b[0m\u001b[0mj\u001b[0m\u001b[0;34m,\u001b[0m\u001b[0;36m0\u001b[0m\u001b[0;34m]\u001b[0m\u001b[0;34m,\u001b[0m\u001b[0mcorvar\u001b[0m\u001b[0;34m[\u001b[0m\u001b[0mj\u001b[0m\u001b[0;34m,\u001b[0m\u001b[0;36m1\u001b[0m\u001b[0;34m]\u001b[0m\u001b[0;34m)\u001b[0m\u001b[0;34m)\u001b[0m\u001b[0;34m\u001b[0m\u001b[0;34m\u001b[0m\u001b[0m\n\u001b[1;32m      8\u001b[0m \u001b[0;34m\u001b[0m\u001b[0m\n",
      "\u001b[0;31mNameError\u001b[0m: name 'p' is not defined"
     ]
    },
    {
     "data": {
      "image/png": "[encoded data removed]",
      "text/plain": [
       "<Figure size 576x576 with 1 Axes>"
      ]
     },
     "metadata": {
      "needs_background": "light"
     },
     "output_type": "display_data"
    }
   ],
   "source": [
    "# Correlation circle\n",
    "fig, axes = plt.subplots(figsize=(8,8))\n",
    "axes.set_xlim(-1,1)\n",
    "axes.set_ylim(-1,1)\n",
    "# Print the labels (variable names)\n",
    "for j in range(p):\n",
    "     plt.annotate(data_tr.columns[j],(corvar[j,0],corvar[j,1]))\n",
    "\n",
    "# Add the axes\n",
    "plt.plot([-1,1],[0,0],color='silver',linestyle='-',linewidth=1)\n",
    "plt.plot([0,0],[-1,1],color='silver',linestyle='-',linewidth=1)\n",
    "\n",
    "# Add a circle\n",
    "cercle = plt.Circle((0,0),1,color='blue',fill=False)\n",
    "axes.add_artist(cercle)\n",
    "# Print the correlation circle\n",
    "plt.show()"
   ]
  }
 ],
 "metadata": {
  "kernelspec": {
   "display_name": "Python 3",
   "language": "python",
   "name": "python3"
  },
  "language_info": {
   "codemirror_mode": {
    "name": "ipython",
    "version": 3
   },
   "file_extension": ".py",
   "mimetype": "text/x-python",
   "name": "python",
   "nbconvert_exporter": "python",
   "pygments_lexer": "ipython3",
   "version": "3.8.2"
  }
 },
 "nbformat": 4,
 "nbformat_minor": 4
}
