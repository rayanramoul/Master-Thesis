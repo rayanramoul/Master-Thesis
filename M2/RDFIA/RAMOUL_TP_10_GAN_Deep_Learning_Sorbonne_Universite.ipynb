{
  "nbformat": 4,
  "nbformat_minor": 0,
  "metadata": {
    "accelerator": "GPU",
    "anaconda-cloud": {},
    "colab": {
      "name": "RAMOUL TP 10 GAN Deep Learning Sorbonne Universite.ipynb",
      "provenance": [],
      "collapsed_sections": []
    },
    "kernelspec": {
      "display_name": "Python 3",
      "language": "python",
      "name": "python3"
    },
    "language_info": {
      "codemirror_mode": {
        "name": "ipython",
        "version": 3
      },
      "file_extension": ".py",
      "mimetype": "text/x-python",
      "name": "python",
      "nbconvert_exporter": "python",
      "pygments_lexer": "ipython3",
      "version": "3.8.5"
    }
  },
  "cells": [
    {
      "cell_type": "code",
      "metadata": {
        "id": "Q1CA9_ybT5PK"
      },
      "source": [
        "%matplotlib inline\n",
        "import argparse\n",
        "import os\n",
        "import random\n",
        "import torch\n",
        "import torch.nn as nn\n",
        "import torch.nn.parallel\n",
        "import torch.backends.cudnn as cudnn\n",
        "import torch.optim as optim\n",
        "import torch.utils.data\n",
        "import torchvision.datasets as dset\n",
        "import torchvision.transforms as transforms\n",
        "import torchvision.utils as vutils\n",
        "import numpy as np\n",
        "import matplotlib.pyplot as plt\n",
        "import matplotlib.animation as animation\n",
        "from IPython.display import HTML\n",
        "from os.path import exists"
      ],
      "execution_count": null,
      "outputs": []
    },
    {
      "cell_type": "markdown",
      "metadata": {
        "id": "ccnnjiAdT5PY"
      },
      "source": [
        "## Hyperpameters\n",
        "\n",
        "Define the hyperparameters. You can play with those later."
      ]
    },
    {
      "cell_type": "code",
      "metadata": {
        "id": "3jVRaP3cT5Pe"
      },
      "source": [
        "## Data loading\n",
        "\n",
        "workers = 4 # Number of workers for dataloader (/!\\ set to 4 when you're done debugging)\n",
        "## Architecture\n",
        "\n",
        "arch = 'cDCGAN' # or cGAN\n",
        "nz = 100 # Size of z latent vector (i.e. size of generator input)µ\n",
        "ndf = 32 # Base size of feature maps in discriminator\n",
        "ngf = 32 # Base size of feature maps in generator\n",
        "\n",
        "## Optimization\n",
        "\n",
        "lrD = 0.0002 # Learning rate for the discriminator\n",
        "lrG = 0.0002 # Learning rate for the generator\n",
        "beta1G = 0.5 # Momentum beta1 for the discriminator\n",
        "beta1D = 0.5 # Momentum beta1 for the generator\n",
        "\n",
        "## Training\n",
        "\n",
        "batch_size = 128 # Images per batch\n",
        "nb_update_D = 1 # Number of sub-steps of discriminator optim. at each step\n",
        "nb_update_G = 1 # Number of sub-steps of generator optim. at each step\n",
        "#steps = 8000 # Number of global steps in the training loop\n",
        "nb_epochs = 20 # Number of epochs, leave \"None\" if you want to set the number of \"steps\" (i.e. batches)\n",
        "\n",
        "\n",
        "if nb_epochs is None:\n",
        "    nb_epochs = (steps * batch_size) / (nb_update_D * 50000)\n",
        "else:\n",
        "    steps = int(nb_epochs * nb_update_D * 50000 / batch_size)\n",
        "print(\"Doing %.1f epochs in %d steps\" % (nb_epochs, steps))\n",
        "steps_per_epoch = int(steps / nb_epochs)"
      ],
      "execution_count": null,
      "outputs": []
    },
    {
      "cell_type": "markdown",
      "metadata": {
        "id": "NaBR7LCCT5Pn"
      },
      "source": [
        "# Dataset\n",
        "\n",
        "Download and load the dataset. Nothing to do here."
      ]
    },
    {
      "cell_type": "code",
      "metadata": {
        "id": "yhKoz6JLT5Pq"
      },
      "source": [
        "# We can use an image folder dataset the way we have it setup.\n",
        "# Create the dataset\n",
        "dataroot = '/tmp/mnist'\n",
        "transform = transforms.Compose([\n",
        "        transforms.Pad(2),\n",
        "        transforms.ToTensor(),\n",
        "        transforms.Normalize((0.5,), (0.5,))\n",
        "])\n",
        "dataset = dset.MNIST(dataroot, train=True, download=True, transform=transform)\n",
        "# Create the dataloader\n",
        "dataloader = torch.utils.data.DataLoader(dataset, batch_size=batch_size,\n",
        "                                         shuffle=True, num_workers=workers)\n",
        "\n",
        "# Decide which device we want to run on\n",
        "device = torch.device(\"cuda:0\" if torch.cuda.is_available() else \"cpu\")\n",
        "\n",
        "# Plot some training images\n",
        "real_batch = next(iter(dataloader))\n",
        "plt.figure(figsize=(8,8))\n",
        "plt.axis(\"off\")\n",
        "plt.title(\"Training Images\")\n",
        "plt.imshow(np.transpose(vutils.make_grid(real_batch[0].to(device)[:64], padding=2, normalize=True).cpu(),(1,2,0)))\n",
        "plt.show()"
      ],
      "execution_count": null,
      "outputs": []
    },
    {
      "cell_type": "markdown",
      "metadata": {
        "id": "Ky8kjXwsT5Px"
      },
      "source": [
        "# Model architectures\n",
        "\n",
        "## Discriminator\n",
        "\n",
        "Input: Image $x \\in \\mathbb{R}^{32\\times 32\\times 1}$  \n",
        "Output: \"Real\" image probability $\\in [0,1]$\n",
        "\n",
        "## Generator\n",
        "\n",
        "Input: Random \"noise\" $z \\in \\mathbb{R}^{\\text{nz}}$  \n",
        "Output: Generated image $\\tilde x \\in \\mathbb{R}^{32\\times 32\\times 1}$\n"
      ]
    },
    {
      "cell_type": "code",
      "metadata": {
        "id": "0XBBxZtOT5Pz"
      },
      "source": [
        "# cDCGAN\n",
        "if arch == 'cDCGAN':\n",
        "    class Discriminator(nn.Module):\n",
        "        def __init__(self):\n",
        "            super(Discriminator, self).__init__()\n",
        "            self.emb_x = nn.Sequential(\n",
        "                nn.Conv2d(1, ndf*2, kernel_size=4,stride=2, padding=1),\n",
        "                nn.LeakyReLU(negative_slope=0.2, inplace=True)\n",
        "            )\n",
        "            self.emb_y = nn.Sequential(\n",
        "                nn.Conv2d(10, ndf*2, kernel_size=4,stride=2, padding=1),\n",
        "                nn.LeakyReLU(negative_slope=0.2, inplace=True)\n",
        "            )\n",
        "\n",
        "            self.emb_xy = nn.Sequential(\n",
        "                nn.Conv2d(ndf*4, ndf*8, kernel_size=4,stride=2, padding=1, bias=False),\n",
        "                nn.BatchNorm2d(num_features=ndf*8),\n",
        "                nn.LeakyReLU(negative_slope=0.2, inplace=True),\n",
        "                nn.Conv2d(ndf*8, ndf*16, kernel_size=4,stride=2, padding=1, bias=False),\n",
        "                nn.BatchNorm2d(num_features=ndf*16),\n",
        "                nn.LeakyReLU(negative_slope=0.2, inplace=True),   \n",
        "\n",
        "                nn.Conv2d(ndf*16, 1, kernel_size=4,stride=1, padding=0, bias=False),  \n",
        "                nn.Sigmoid()          \n",
        "            )\n",
        "\n",
        "        def forward(self, x, y):\n",
        "            y = y.expand(y.shape[0], y.shape[1], x.shape[2], x.shape[3])\n",
        "            x = self.emb_x(x)\n",
        "            y = self.emb_y(y)\n",
        "            x_y = torch.cat([x,y], dim = 1)\n",
        "\n",
        "            o = self.emb_xy(x_y)\n",
        "            return o\n",
        "\n",
        "\n",
        "\n",
        "    class Generator(nn.Module):\n",
        "        def __init__(self):\n",
        "            super(Generator, self).__init__()\n",
        "            self.emb_z = nn.Sequential(\n",
        "                nn.ConvTranspose2d(nz, out_channels= ngf*8, kernel_size=4, stride=1, padding=0, bias=False),\n",
        "                nn.BatchNorm2d(ngf*8),\n",
        "                nn.ReLU(True)\n",
        "            )\n",
        "            self.emb_y = nn.Sequential(\n",
        "                nn.ConvTranspose2d(10, out_channels= ngf*8, kernel_size=4, stride=1, padding=0, bias=False),\n",
        "                nn.BatchNorm2d(ngf*8),\n",
        "                nn.ReLU(True)           \n",
        "            )\n",
        "            self.emb_zy = nn.Sequential(\n",
        "                nn.ConvTranspose2d(ngf*16, out_channels= ngf*8, kernel_size=4, stride=2, padding=1, bias=False),\n",
        "                nn.BatchNorm2d(ngf*8),\n",
        "                nn.ReLU(True),\n",
        "\n",
        "                nn.ConvTranspose2d(ngf*8, out_channels= ngf*4, kernel_size=4, stride=2, padding=1, bias=False),\n",
        "                nn.BatchNorm2d(ngf*4),\n",
        "                nn.ReLU(True),\n",
        "\n",
        "                nn.ConvTranspose2d(ngf*4, out_channels= 1, kernel_size=4, stride=2, padding=1, bias=False),\n",
        "                nn.Tanh()\n",
        "            )\n",
        "\n",
        "        def forward(self, z, y):\n",
        "\n",
        "            z = self.emb_z(z)\n",
        "            y = self.emb_y(y)\n",
        "            z_y = torch.cat([z,y], dim=1)\n",
        "\n",
        "            o = self.emb_zy(z_y)\n",
        "            #o = o.view(o.shape[0], 1, 32, 32)\n",
        "\n",
        "            return o"
      ],
      "execution_count": null,
      "outputs": []
    },
    {
      "cell_type": "code",
      "metadata": {
        "id": "r2RaTIhMT5QB"
      },
      "source": [
        "# cGAN\n",
        "\n",
        "if arch == 'cGAN':\n",
        "    class Discriminator(nn.Module):\n",
        "        def __init__(self):\n",
        "            super(Discriminator, self).__init__()\n",
        "            self.emb_x = nn.Sequential(\n",
        "                nn.Linear(32*32, 1024),\n",
        "                nn.LeakyReLU(negative_slope=0.2, inplace =True)\n",
        "            )\n",
        "            self.emb_y = nn.Sequential(\n",
        "                nn.Linear(10, 1024),\n",
        "                nn.LeakyReLU(negative_slope=0.2, inplace =True)\n",
        "            )\n",
        "\n",
        "            self.emb_xy = nn.Sequential(\n",
        "                nn.Linear(2048, 512, bias = False),\n",
        "                nn.BatchNorm1d(num_features=512),\n",
        "                nn.LeakyReLU(negative_slope=0.2, inplace =True),\n",
        "\n",
        "                nn.Linear(512, 256, bias = False),\n",
        "                nn.BatchNorm1d(num_features=256),\n",
        "                nn.LeakyReLU(negative_slope=0.2, inplace =True),\n",
        "\n",
        "                nn.Linear(256, 1),\n",
        "                nn.Sigmoid()\n",
        "            )\n",
        "\n",
        "        def forward(self, x, y):\n",
        "            x = x.view(x.shape[0], -1)\n",
        "            y = y.view(y.shape[0], -1)\n",
        "\n",
        "            x = self.emb_x(x)\n",
        "            y = self.emb_y(y)\n",
        "\n",
        "            x_y = torch.cat([x,y], dim=1)\n",
        "            o = self.emb_xy(x_y)\n",
        "\n",
        "            return o\n",
        "\n",
        "\n",
        "\n",
        "    class Generator(nn.Module):\n",
        "        def __init__(self):\n",
        "            super(Generator, self).__init__()\n",
        "            self.emb_z = nn.Sequential(\n",
        "                nn.Linear(100, 256, bias = False),\n",
        "                nn.BatchNorm1d( 256),\n",
        "                nn.ReLU(inplace = True)\n",
        "            )\n",
        "            self.emb_y = nn.Sequential(\n",
        "                nn.Linear(10, 256, bias = False),\n",
        "                nn.BatchNorm1d( 256),\n",
        "                nn.ReLU(inplace = True)\n",
        "            )\n",
        "\n",
        "            self.emb_zy = nn.Sequential(\n",
        "                nn.Linear(512, 512, bias = False),\n",
        "                nn.BatchNorm1d( 512),\n",
        "                nn.ReLU(inplace = True),\n",
        "\n",
        "                nn.Linear(512, 1024, bias = False),\n",
        "                nn.BatchNorm1d( 1024),\n",
        "                nn.ReLU(inplace = True) ,\n",
        "\n",
        "                nn.Linear(1024, 32*32),\n",
        "                nn.Tanh()\n",
        "\n",
        "            )\n",
        "\n",
        "        def forward(self, z, y):\n",
        "            # Remove unused dimensions in non-conv model\n",
        "            z = z.view(z.shape[0], -1) \n",
        "            y = y.view(y.shape[0], -1)\n",
        "            \n",
        "            z = self.emb_z(z)\n",
        "            y = self.emb_y(y)\n",
        "\n",
        "            z_y = torch.cat([z,y], dim=1)  \n",
        "\n",
        "            o = self.emb_zy(z_y)\n",
        "            o = o.view(o.shape[0], 1, 32, 32)\n",
        "            return o"
      ],
      "execution_count": null,
      "outputs": []
    },
    {
      "cell_type": "markdown",
      "metadata": {
        "id": "LTkIog2X74JC"
      },
      "source": [
        "# DCGAN"
      ]
    },
    {
      "cell_type": "code",
      "metadata": {
        "id": "F4RPQ5P4T5QP"
      },
      "source": [
        "# Create the models\n",
        "netG = Generator().to(device)\n",
        "netD = Discriminator().to(device)\n",
        "\n",
        "# Apply the weights_init function to randomly initialize all weights to mean=0, stdev=0.2\n",
        "def weights_init(m):\n",
        "    classname = m.__class__.__name__\n",
        "    if classname.find('Conv') != -1:\n",
        "        nn.init.normal_(m.weight.data, 0.0, 0.02)\n",
        "    elif classname.find('BatchNorm') != -1:\n",
        "        nn.init.normal_(m.weight.data, 1.0, 0.02)\n",
        "        nn.init.constant_(m.bias.data, 0)\n",
        "netG.apply(weights_init)\n",
        "netD.apply(weights_init)\n",
        "\n",
        "# Print the models\n",
        "print(netG)\n",
        "print(netD)"
      ],
      "execution_count": null,
      "outputs": []
    },
    {
      "cell_type": "code",
      "metadata": {
        "id": "kTHd7XkfT5QY"
      },
      "source": [
        "# TODO test you models to check if they \n",
        "z = torch.zeros(10, nz, 1, 1).to(device)\n",
        "x = torch.zeros(10, 1, 32, 32).to(device)\n",
        "y = torch.randn(10, 10, 1, 1).to(device)\n",
        "print(netG(z, y).shape) # expected: [10, 1, 32, 32]\n",
        "print(netD(x, y).shape) # expected: [10, 1, 1, 1]"
      ],
      "execution_count": null,
      "outputs": []
    },
    {
      "cell_type": "markdown",
      "metadata": {
        "id": "uU9Zu9E8T5Qj"
      },
      "source": [
        "# Optimization and training\n",
        "\n",
        "Here we will define:\n",
        "* Our prior $P(z)$ that we use to sample random \"noise\". We will use a Gaussian distribution.\n",
        "* The criterion that will be used to train the discriminator, and indirectly the generator. We will use the binary cross-entropy.\n",
        "* The optimizers of both models. We will use the Adam optimizer."
      ]
    },
    {
      "cell_type": "code",
      "metadata": {
        "id": "cJNqvmWbT5Qn"
      },
      "source": [
        "# Prior P(z). Returns a Gaussian random tensor of shape (batch_size, nz, 1, 1)\n",
        "def get_noise(batch_size):\n",
        "    noise = torch.randn(batch_size, nz, 1, 1, device = device)\n",
        "    return noise\n",
        "\n",
        "# Returns a random vector of one-hot encoding of shape (batch_size, 10, 1, 1)\n",
        "def get_fixed_y(batch_size):\n",
        "    y = torch.zeros(batch_size, 10, 1, 1, device=device)\n",
        "    n = batch_size // 10\n",
        "    for i in range(10):\n",
        "        y[i*n:i*n+n, i, :, :].fill_(1)\n",
        "    return y\n",
        "\n",
        "# Create the criterion function that will take (y_hat, y) as input\n",
        "criterion = nn.BCELoss() # TODO\n",
        "\n",
        "# Setup Adam optimizers for D and G\n",
        "optimizerD = optim.Adam(params= netD.parameters(), lr = lrD, betas =(beta1D, 0.999))\n",
        "optimizerG = optim.Adam(params= netG.parameters(), lr = lrG, betas =(beta1D, 0.999))"
      ],
      "execution_count": null,
      "outputs": []
    },
    {
      "cell_type": "markdown",
      "metadata": {
        "id": "e_-_q-LNT5Qw"
      },
      "source": [
        "### Data format / batch creation functions\n",
        "\n",
        "`r_real` and `r_fake` are targets for the disriminator's criterion"
      ]
    },
    {
      "cell_type": "code",
      "metadata": {
        "id": "AA2oKY2jT5Qz"
      },
      "source": [
        "# Data format / batch creation functions\n",
        "fixed_noise = get_noise(100) # Create a fixed random vector sampled from a Gaussian, will be used during train for viz\n",
        "fixed_y = get_fixed_y(100)\n",
        "real_label = 1.0\n",
        "fake_label = 0.0\n",
        "iterator = iter(dataloader)\n",
        "\n",
        "def onehot(data, nclass=10):\n",
        "    bsize = data.shape[0]\n",
        "    y = torch.zeros(bsize, nclass)\n",
        "    y.scatter_(1, data.unsqueeze(1), 1)\n",
        "    y = y.unsqueeze(2).unsqueeze(3)\n",
        "    return y\n",
        "\n",
        "# returns a batch of real images from the dataset (iterates infinitely on the dataset)\n",
        "def get_batch_real():\n",
        "    global iterator\n",
        "    try:\n",
        "        x_real, y_real = next(iterator)\n",
        "    except:\n",
        "        iterator = iter(dataloader)\n",
        "        x_real, y_real = next(iterator)\n",
        "    x_real = x_real.to(device)\n",
        "    y_real = onehot(y_real).to(device)\n",
        "    r_real = torch.full((x_real.size(0),), real_label, device=device)\n",
        "    return x_real, y_real, r_real\n",
        "\n",
        "# returns a batch of generated images and training targets y_fake\n",
        "# Note that the targets y_fake will be different is train_G is True or False\n",
        "def get_batch_fake(y_real, train_G=False):\n",
        "    z = torch.randn(y_real.shape[0], nz, 1, 1, device=device)\n",
        "    x_fake = netG(z, y_real)\n",
        "    if train_G:\n",
        "        r_fake = torch.full((x_fake.size(0),), real_label, device=device)\n",
        "    else:\n",
        "        r_fake = torch.full((x_fake.size(0),), fake_label, device=device)\n",
        "    return x_fake, y_real, r_fake"
      ],
      "execution_count": null,
      "outputs": []
    },
    {
      "cell_type": "markdown",
      "metadata": {
        "id": "abJFQAd2T5Q7"
      },
      "source": [
        "### Training Loop\n",
        "\n",
        "**Reminder:** when your training loop starts to work, change the `workers` variable to 4 and rerun your notebook"
      ]
    },
    {
      "cell_type": "code",
      "metadata": {
        "id": "54RTjxkOT5Q_"
      },
      "source": [
        "img_list = []\n",
        "G_losses = []\n",
        "D_losses = []"
      ],
      "execution_count": null,
      "outputs": []
    },
    {
      "cell_type": "code",
      "metadata": {
        "colab": {
          "background_save": true
        },
        "id": "ETDabWwfT5RG",
        "scrolled": false
      },
      "source": [
        "for i in range(steps):\n",
        "    \n",
        "    if i == steps_per_epoch * 11:\n",
        "        optimizerG.param_groups[0]['lr'] /= 10\n",
        "        optimizerD.param_groups[0]['lr'] /= 10\n",
        "        print(\"learning rate change!\")\n",
        "        \n",
        "    if i == steps_per_epoch * 16:\n",
        "        optimizerG.param_groups[0]['lr'] /= 10\n",
        "        optimizerD.param_groups[0]['lr'] /= 10\n",
        "        print(\"learning rate change!\")\n",
        "    \n",
        "    ########\n",
        "    # Update D network: maximize log(D(x)) + log(1 - D(G(z)))\n",
        "    for _ in range(nb_update_D):\n",
        "        netD.zero_grad()\n",
        "        \n",
        "        # Create batches\n",
        "        x_real, y_real, r_real = get_batch_real()\n",
        "        x_fake, y_fake, r_fake = get_batch_fake(y_real)\n",
        "        \n",
        "        # Forward \n",
        "        r_hat_real = netD(x_real, y_real).view(-1)\n",
        "        r_hat_fake = netD(x_fake.detach(), y_fake.detach()).view(-1)\n",
        "        errD = criterion(r_hat_real, r_real) + criterion(r_hat_fake, r_fake) # sum of criterion of real and fake samples\n",
        "        \n",
        "        # Backward\n",
        "        # backward & optimization step on D\n",
        "        errD.backward()\n",
        "        optimizerD.step()\n",
        "\n",
        "        # Compute / save metrics\n",
        "        avg_output_for_real = r_hat_real.mean().item()\n",
        "        avg_output_for_fake = r_hat_fake.mean().item()    \n",
        "        D_losses.append(errD.item())\n",
        "\n",
        "\n",
        "\n",
        "    ########\n",
        "    # Update G network: maximize log(D(G(z)))\n",
        "    for _ in range(nb_update_G):\n",
        "        netG.zero_grad()\n",
        "        \n",
        "        # TODO: forward + backward\n",
        "        x_fake, y_fake, r_fake = get_batch_fake(y_real, True)\n",
        "        \n",
        "        y_hat_fake = netD(x_fake, y_fake).view(-1)\n",
        "\n",
        "        # NOTE: use errG as name for your loss variable, like errD above\n",
        "        errG= criterion(y_hat_fake, r_fake)\n",
        "        errG.backward()\n",
        "        optimizerG.step()\n",
        "\n",
        "\n",
        "\n",
        "        # Compute / save metrics\n",
        "        G_losses.append(errG.item())\n",
        "        \n",
        "    \n",
        "    ########\n",
        "    # Logs\n",
        "    if i % 25 == 0:\n",
        "        print('[%5d/%5d]\\tLoss_D: %.4f\\tLoss_G: %.4f\\tD(x): %.4f\\tD(G(z)): %.4f'\n",
        "              % (i, steps, errD.item(), errG.item(), avg_output_for_real, avg_output_for_fake))\n",
        "\n",
        "    if i % 100 == 0:\n",
        "        with torch.no_grad():\n",
        "            x_fake = netG(fixed_noise, fixed_y).detach().cpu()\n",
        "        img_list.append(vutils.make_grid(x_fake, padding=2, normalize=True, nrow=10))\n",
        "        plt.figure(figsize=(10,10))\n",
        "        plt.imshow(np.transpose(img_list[-1],(1,2,0)))\n",
        "        plt.axis(\"off\")\n",
        "        plt.show()"
      ],
      "execution_count": null,
      "outputs": []
    },
    {
      "cell_type": "markdown",
      "metadata": {
        "id": "S6rzACu8T5RO"
      },
      "source": [
        "# Display training evolution"
      ]
    },
    {
      "cell_type": "code",
      "metadata": {
        "colab": {
          "background_save": true
        },
        "id": "qKbDG0FaT5RQ"
      },
      "source": [
        "# Show generations\n",
        "fig = plt.figure(figsize=(8,8))\n",
        "plt.axis(\"off\")\n",
        "ims = [[plt.imshow(np.transpose(i,(1,2,0)), animated=True)] for i in img_list]\n",
        "ani = animation.ArtistAnimation(fig, ims, interval=1000, repeat_delay=1000, blit=True)\n",
        "\n",
        "HTML(ani.to_jshtml())"
      ],
      "execution_count": null,
      "outputs": []
    },
    {
      "cell_type": "code",
      "metadata": {
        "id": "TgC2jd2ET5Rb"
      },
      "source": [
        "# Loss evolution\n",
        "plt.figure(figsize=(10,8))\n",
        "plt.subplot(2,1,1)\n",
        "plt.title(\"Generator Trainig Loss\")\n",
        "plt.plot(G_losses)\n",
        "plt.xlabel(\"iterations\")\n",
        "plt.ylabel(\"Loss\")\n",
        "\n",
        "plt.subplot(2,1,2)\n",
        "plt.title(\"Generator Trainig Loss\")\n",
        "plt.plot(D_losses)\n",
        "plt.xlabel(\"iterations\")\n",
        "plt.ylabel(\"Loss\")\n",
        "plt.show()"
      ],
      "execution_count": null,
      "outputs": []
    },
    {
      "cell_type": "markdown",
      "metadata": {
        "id": "GWYyffIH7ns2"
      },
      "source": [
        "# CGAN"
      ]
    },
    {
      "cell_type": "code",
      "metadata": {
        "id": "P38C-LcU-s6o"
      },
      "source": [
        "arch = 'cGAN'"
      ],
      "execution_count": null,
      "outputs": []
    },
    {
      "cell_type": "code",
      "metadata": {
        "id": "GnwdqV4m8Hk0"
      },
      "source": [
        "# Create the models\n",
        "netG = Generator().to(device)\n",
        "netD = Discriminator().to(device)\n",
        "\n",
        "netG.apply(weights_init)\n",
        "netD.apply(weights_init)\n",
        "\n",
        "# Print the models\n",
        "print(netG)\n",
        "print(netD)"
      ],
      "execution_count": null,
      "outputs": []
    },
    {
      "cell_type": "code",
      "metadata": {
        "id": "4dKlRK1i8InZ"
      },
      "source": [
        "# TODO test you models to check if they \n",
        "z = torch.zeros(10, nz, 1, 1).to(device)\n",
        "x = torch.zeros(10, 1, 32, 32).to(device)\n",
        "y = torch.randn(10, 10, 1, 1).to(device)\n",
        "print(netG(z, y).shape) # expected: [10, 1, 32, 32]\n",
        "print(netD(x, y).shape) # expected: [10, 1, 1, 1]"
      ],
      "execution_count": null,
      "outputs": []
    },
    {
      "cell_type": "code",
      "metadata": {
        "id": "AlUVluDzA2t7"
      },
      "source": [
        "# Create the criterion function that will take (y_hat, y) as input\n",
        "criterion = nn.BCELoss() # TODO\n",
        "\n",
        "# Setup Adam optimizers for D and G\n",
        "optimizerD = optim.Adam(params= netD.parameters(), lr = lrD, betas =(beta1D, 0.999))\n",
        "optimizerG = optim.Adam(params= netG.parameters(), lr = lrG, betas =(beta1D, 0.999))"
      ],
      "execution_count": null,
      "outputs": []
    },
    {
      "cell_type": "code",
      "metadata": {
        "id": "BY4EAjUoQRxP"
      },
      "source": [
        "# Data format / batch creation functions\n",
        "\n",
        "fixed_noise = get_noise(100) # Create a fixed random vector sampled from a Gaussian, will be used during train for viz\n",
        "fixed_y = get_fixed_y(100)\n",
        "real_label = 1.0\n",
        "fake_label = 0.0\n",
        "iterator = iter(dataloader)\n"
      ],
      "execution_count": null,
      "outputs": []
    },
    {
      "cell_type": "code",
      "metadata": {
        "id": "g9O_1ynaiRlA"
      },
      "source": [
        "img_list = []\n",
        "G_losses = []\n",
        "D_losses = []"
      ],
      "execution_count": null,
      "outputs": []
    },
    {
      "cell_type": "code",
      "metadata": {
        "id": "g0atjSflibSX"
      },
      "source": [
        "for i in range(steps):  \n",
        "    if i == steps_per_epoch * 11:\n",
        "        optimizerG.param_groups[0]['lr'] /= 10\n",
        "        optimizerD.param_groups[0]['lr'] /= 10\n",
        "        print(\"learning rate change!\")\n",
        "        \n",
        "    if i == steps_per_epoch * 16:\n",
        "        optimizerG.param_groups[0]['lr'] /= 10\n",
        "        optimizerD.param_groups[0]['lr'] /= 10\n",
        "        print(\"learning rate change!\")\n",
        "    \n",
        "    ########\n",
        "    # Update D network: maximize log(D(x)) + log(1 - D(G(z)))\n",
        "    for _ in range(nb_update_D):\n",
        "        netD.zero_grad()\n",
        "        \n",
        "        # Create batches\n",
        "        x_real, y_real, r_real = get_batch_real()\n",
        "        x_fake, y_fake, r_fake = get_batch_fake(y_real)\n",
        "        \n",
        "        # Forward \n",
        "        r_hat_real = netD(x_real, y_real).view(-1)\n",
        "        r_hat_fake = netD(x_fake.detach(), y_fake.detach()).view(-1)\n",
        "        errD = criterion(r_hat_real, r_real) + criterion(r_hat_fake, r_fake) # sum of criterion of real and fake samples\n",
        "        \n",
        "        # Backward\n",
        "        # backward & optimization step on D\n",
        "        errD.backward()\n",
        "        optimizerD.step()\n",
        "\n",
        "        # Compute / save metrics\n",
        "        avg_output_for_real = r_hat_real.mean().item()\n",
        "        avg_output_for_fake = r_hat_fake.mean().item()    \n",
        "        D_losses.append(errD.item())\n",
        "\n",
        "\n",
        "\n",
        "    ########\n",
        "    # Update G network: maximize log(D(G(z)))\n",
        "    for _ in range(nb_update_G):\n",
        "        netG.zero_grad()\n",
        "        \n",
        "        # TODO: forward + backward\n",
        "        x_fake, y_fake, r_fake = get_batch_fake(y_real, True)\n",
        "        \n",
        "        y_hat_fake = netD(x_fake, y_fake).view(-1)\n",
        "\n",
        "        # NOTE: use errG as name for your loss variable, like errD above\n",
        "        errG = criterion(y_hat_fake, r_fake)\n",
        "        errG.backward()\n",
        "        optimizerG.step()\n",
        "\n",
        "        # Compute / save metrics\n",
        "        G_losses.append(errG.item())\n",
        "        \n",
        "    \n",
        "    ########\n",
        "    # Logs\n",
        "    if i % 25 == 0:\n",
        "        print('[%5d/%5d]\\tLoss_D: %.4f\\tLoss_G: %.4f\\tD(x): %.4f\\tD(G(z)): %.4f'\n",
        "              % (i, steps, errD.item(), errG.item(), avg_output_for_real, avg_output_for_fake))\n",
        "\n",
        "    if i % 100 == 0:\n",
        "        with torch.no_grad():\n",
        "            x_fake = netG(fixed_noise, fixed_y).detach().cpu()\n",
        "        img_list.append(vutils.make_grid(x_fake, padding=2, normalize=True, nrow=10))\n",
        "        plt.figure(figsize=(10,10))\n",
        "        plt.imshow(np.transpose(img_list[-1],(1,2,0)))\n",
        "        plt.axis(\"off\")\n",
        "        plt.show()"
      ],
      "execution_count": null,
      "outputs": []
    },
    {
      "cell_type": "code",
      "metadata": {
        "id": "xXmlhaOAilzR"
      },
      "source": [
        "# Show generations\n",
        "fig = plt.figure(figsize=(8,8))\n",
        "plt.axis(\"off\")\n",
        "ims = [[plt.imshow(np.transpose(i,(1,2,0)), animated=True)] for i in img_list]\n",
        "ani = animation.ArtistAnimation(fig, ims, interval=1000, repeat_delay=1000, blit=True)\n",
        "\n",
        "HTML(ani.to_jshtml())"
      ],
      "execution_count": null,
      "outputs": []
    },
    {
      "cell_type": "code",
      "metadata": {
        "id": "RdyJJqAWi7IZ"
      },
      "source": [
        "# Loss evolution\n",
        "plt.figure(figsize=(10,8))\n",
        "plt.subplot(2,1,1)\n",
        "plt.title(\"Generator Trainig Loss\")\n",
        "plt.plot(G_losses)\n",
        "plt.xlabel(\"iterations\")\n",
        "plt.ylabel(\"Loss\")\n",
        "\n",
        "plt.subplot(2,1,2)\n",
        "plt.title(\"Generator Trainig Loss\")\n",
        "plt.plot(D_losses)\n",
        "plt.xlabel(\"iterations\")\n",
        "plt.ylabel(\"Loss\")\n",
        "plt.show()"
      ],
      "execution_count": null,
      "outputs": []
    }
  ]
}