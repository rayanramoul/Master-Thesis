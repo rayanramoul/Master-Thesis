{
  "nbformat": 4,
  "nbformat_minor": 0,
  "metadata": {
    "colab": {
      "name": "TP analyse faciale RAMOUL",
      "provenance": [],
      "collapsed_sections": []
    },
    "kernelspec": {
      "name": "python3",
      "display_name": "Python 3"
    }
  },
  "cells": [
    {
      "cell_type": "code",
      "metadata": {
        "colab": {
          "base_uri": "https://localhost:8080/"
        },
        "id": "uWLn1UEkN0pm",
        "outputId": "9712f445-98db-4770-9e66-948240288bc9"
      },
      "source": [
        "!wget https://cloud.isir.upmc.fr/owncloud/index.php/s/f77sSKkyKtek3JH/download"
      ],
      "execution_count": null,
      "outputs": [
        {
          "output_type": "stream",
          "text": [
            "--2021-01-01 15:15:27--  https://cloud.isir.upmc.fr/owncloud/index.php/s/f77sSKkyKtek3JH/download\n",
            "Resolving cloud.isir.upmc.fr (cloud.isir.upmc.fr)... 134.157.19.7\n",
            "Connecting to cloud.isir.upmc.fr (cloud.isir.upmc.fr)|134.157.19.7|:443... connected.\n",
            "HTTP request sent, awaiting response... 503 Service Unavailable\n",
            "2021-01-01 15:15:28 ERROR 503: Service Unavailable.\n",
            "\n"
          ],
          "name": "stdout"
        }
      ]
    },
    {
      "cell_type": "code",
      "metadata": {
        "id": "frSXyJTCOuOP"
      },
      "source": [
        "import numpy as np\r\n",
        "import matplotlib.pyplot as plt\r\n",
        "from numpy import linalg as LA"
      ],
      "execution_count": null,
      "outputs": []
    },
    {
      "cell_type": "code",
      "metadata": {
        "colab": {
          "base_uri": "https://localhost:8080/",
          "height": 350
        },
        "id": "TPaaIYnOQ_OD",
        "outputId": "b7f2b6b3-5f63-4b52-8a8e-017d50445db0"
      },
      "source": [
        "import zipfile\r\n",
        "with zipfile.ZipFile(\"download\", 'r') as zip_ref:\r\n",
        "    zip_ref.extractall(\"./\")\r\n",
        "!ls"
      ],
      "execution_count": null,
      "outputs": [
        {
          "output_type": "error",
          "ename": "FileNotFoundError",
          "evalue": "ignored",
          "traceback": [
            "\u001b[0;31m---------------------------------------------------------------------------\u001b[0m",
            "\u001b[0;31mFileNotFoundError\u001b[0m                         Traceback (most recent call last)",
            "\u001b[0;32m<ipython-input-3-ab67d9f3e7d4>\u001b[0m in \u001b[0;36m<module>\u001b[0;34m()\u001b[0m\n\u001b[1;32m      1\u001b[0m \u001b[0;32mimport\u001b[0m \u001b[0mzipfile\u001b[0m\u001b[0;34m\u001b[0m\u001b[0;34m\u001b[0m\u001b[0m\n\u001b[0;32m----> 2\u001b[0;31m \u001b[0;32mwith\u001b[0m \u001b[0mzipfile\u001b[0m\u001b[0;34m.\u001b[0m\u001b[0mZipFile\u001b[0m\u001b[0;34m(\u001b[0m\u001b[0;34m\"download\"\u001b[0m\u001b[0;34m,\u001b[0m \u001b[0;34m'r'\u001b[0m\u001b[0;34m)\u001b[0m \u001b[0;32mas\u001b[0m \u001b[0mzip_ref\u001b[0m\u001b[0;34m:\u001b[0m\u001b[0;34m\u001b[0m\u001b[0;34m\u001b[0m\u001b[0m\n\u001b[0m\u001b[1;32m      3\u001b[0m     \u001b[0mzip_ref\u001b[0m\u001b[0;34m.\u001b[0m\u001b[0mextractall\u001b[0m\u001b[0;34m(\u001b[0m\u001b[0;34m\"./\"\u001b[0m\u001b[0;34m)\u001b[0m\u001b[0;34m\u001b[0m\u001b[0;34m\u001b[0m\u001b[0m\n\u001b[1;32m      4\u001b[0m \u001b[0;34m\u001b[0m\u001b[0m\n\u001b[1;32m      5\u001b[0m \u001b[0mget_ipython\u001b[0m\u001b[0;34m(\u001b[0m\u001b[0;34m)\u001b[0m\u001b[0;34m.\u001b[0m\u001b[0msystem\u001b[0m\u001b[0;34m(\u001b[0m\u001b[0;34m'ls'\u001b[0m\u001b[0;34m)\u001b[0m\u001b[0;34m\u001b[0m\u001b[0;34m\u001b[0m\u001b[0m\n",
            "\u001b[0;32m/usr/lib/python3.6/zipfile.py\u001b[0m in \u001b[0;36m__init__\u001b[0;34m(self, file, mode, compression, allowZip64)\u001b[0m\n\u001b[1;32m   1111\u001b[0m             \u001b[0;32mwhile\u001b[0m \u001b[0;32mTrue\u001b[0m\u001b[0;34m:\u001b[0m\u001b[0;34m\u001b[0m\u001b[0;34m\u001b[0m\u001b[0m\n\u001b[1;32m   1112\u001b[0m                 \u001b[0;32mtry\u001b[0m\u001b[0;34m:\u001b[0m\u001b[0;34m\u001b[0m\u001b[0;34m\u001b[0m\u001b[0m\n\u001b[0;32m-> 1113\u001b[0;31m                     \u001b[0mself\u001b[0m\u001b[0;34m.\u001b[0m\u001b[0mfp\u001b[0m \u001b[0;34m=\u001b[0m \u001b[0mio\u001b[0m\u001b[0;34m.\u001b[0m\u001b[0mopen\u001b[0m\u001b[0;34m(\u001b[0m\u001b[0mfile\u001b[0m\u001b[0;34m,\u001b[0m \u001b[0mfilemode\u001b[0m\u001b[0;34m)\u001b[0m\u001b[0;34m\u001b[0m\u001b[0;34m\u001b[0m\u001b[0m\n\u001b[0m\u001b[1;32m   1114\u001b[0m                 \u001b[0;32mexcept\u001b[0m \u001b[0mOSError\u001b[0m\u001b[0;34m:\u001b[0m\u001b[0;34m\u001b[0m\u001b[0;34m\u001b[0m\u001b[0m\n\u001b[1;32m   1115\u001b[0m                     \u001b[0;32mif\u001b[0m \u001b[0mfilemode\u001b[0m \u001b[0;32min\u001b[0m \u001b[0mmodeDict\u001b[0m\u001b[0;34m:\u001b[0m\u001b[0;34m\u001b[0m\u001b[0;34m\u001b[0m\u001b[0m\n",
            "\u001b[0;31mFileNotFoundError\u001b[0m: [Errno 2] No such file or directory: 'download'"
          ]
        }
      ]
    },
    {
      "cell_type": "code",
      "metadata": {
        "id": "H14FP1NoSBbE"
      },
      "source": [
        "!tail 300w_train_images.txt"
      ],
      "execution_count": null,
      "outputs": []
    },
    {
      "cell_type": "code",
      "metadata": {
        "id": "Xdc1vF-WSXOs"
      },
      "source": [
        "!tail 300w_train_landmarks.txt"
      ],
      "execution_count": null,
      "outputs": []
    },
    {
      "cell_type": "code",
      "metadata": {
        "id": "icn_gwAtSiKq"
      },
      "source": [
        "images = open('300w_train_images.txt', 'r').read().splitlines()\r\n",
        "print(images[:10])"
      ],
      "execution_count": null,
      "outputs": []
    },
    {
      "cell_type": "code",
      "metadata": {
        "id": "DUEgdY2zUUl4"
      },
      "source": [
        "landmarks = open('300w_train_landmarks.txt', 'r').read().splitlines()\r\n",
        "print(landmarks[:10])"
      ],
      "execution_count": null,
      "outputs": []
    },
    {
      "cell_type": "code",
      "metadata": {
        "id": "alIoQty_Ulw3"
      },
      "source": [
        "import matplotlib.image as mpimg\r\n",
        "import random\r\n",
        "\r\n",
        "def get_x_y(index):\r\n",
        "    landmark_file = open(landmarks[index], 'r').read()\r\n",
        "    coordinates = landmark_file.splitlines()\r\n",
        "    x = []\r\n",
        "    y = []\r\n",
        "    for i in coordinates:\r\n",
        "        z = i.split(' ')\r\n",
        "        x.append(float(z[0]))\r\n",
        "        y.append(float(z[1]))\r\n",
        "    return x, y\r\n",
        "\r\n",
        "def plot_points(index):\r\n",
        "    image = mpimg.imread(images[index])\r\n",
        "    x, y = get_x_y(index)\r\n",
        "    plt.figure()\r\n",
        "    plt.imshow(image, cmap='gray', origin='upper')\r\n",
        "    plt.plot(x,y,'o')\r\n",
        "    plt.show()\r\n",
        "\r\n",
        "for i in range(10):\r\n",
        "    index = random.randint(0, len(landmarks))\r\n",
        "    plot_points(index)"
      ],
      "execution_count": null,
      "outputs": []
    },
    {
      "cell_type": "code",
      "metadata": {
        "id": "7EouJ_shXd2q"
      },
      "source": [
        "from skimage.transform import resize\r\n",
        "import numpy as np\r\n",
        "\r\n",
        "def transform_image(index, plot=False):\r\n",
        "    image = mpimg.imread(images[index])\r\n",
        "    x, y = get_x_y(index)\r\n",
        "    width = image.shape[0]\r\n",
        "    height = image.shape[1]\r\n",
        "\r\n",
        "    x_min = int(min(x)-(0.15*min(x)))\r\n",
        "    x_max = int(max(x) +  (0.15*max(x) ) )\r\n",
        "    y_min = int(min(y)-(0.15*min(y)))\r\n",
        "    y_max = int(max(y) +  (0.15*max(y)          )  )\r\n",
        "\r\n",
        "    new_image = image[y_min:y_max, x_min:x_max]\r\n",
        "    new_image = resize(new_image, (128, 128))\r\n",
        "    x = np.array(x)\r\n",
        "    y = np.array(y)\r\n",
        "    x =  (x -x_min )\r\n",
        "    y =  (y -y_min)\r\n",
        "    \r\n",
        "    x = x/(x_max-x_min)*128\r\n",
        "    y = y/(y_max-y_min)*128\r\n",
        "    if plot:\r\n",
        "        plt.figure()\r\n",
        "        plt.imshow(new_image, cmap='gray', origin='upper')\r\n",
        "        plt.plot(x,y,'o')\r\n",
        "        plt.show()\r\n",
        "    return x, y\r\n",
        "plot_points(10)\r\n",
        "transform_image(10, plot=True)"
      ],
      "execution_count": null,
      "outputs": []
    },
    {
      "cell_type": "code",
      "metadata": {
        "id": "l-97a2E9cRCQ"
      },
      "source": [
        "def moyenne_point_caracteristiques(plot=False):\r\n",
        "    xmat = np.zeros((68, len(landmarks)  ))\r\n",
        "    ymat = np.zeros((68, len(landmarks)   ))\r\n",
        "    for i in range(len(landmarks)):\r\n",
        "        x, y = transform_image(i)\r\n",
        "        xmat[:,i] = np.array(x)\r\n",
        "        ymat[:,i] = np.array(y)\r\n",
        "    x_moy, y_moy = xmat.mean(axis=1), ymat.mean(axis=1)\r\n",
        "    plt.figure()\r\n",
        "    plt.plot(x_moy, y_moy,'o')\r\n",
        "    plt.show()\r\n",
        "    return x_moy, y_moy\r\n",
        "\r\n",
        "x_moy, y_moy = moyenne_point_caracteristiques(plot=True)"
      ],
      "execution_count": null,
      "outputs": []
    },
    {
      "cell_type": "code",
      "metadata": {
        "id": "394PnF97xnv2"
      },
      "source": [
        "import cv2\r\n",
        "\r\n",
        "def random_perturbation(x, y, plot=False):\r\n",
        "    translation = np.random.uniform(low=-20, high=20, size=(10,2))\r\n",
        "    scale = np.random.uniform(low=0.8, high=1.2, size=10)\r\n",
        "    n_data = np.array(data).repeat(10,axis=0).reshape((68,10,2)) + translation\r\n",
        "    \r\n",
        "    for i in range(scale.shape[0]):\r\n",
        "        n_data[:,i] = int(n_data[:,i] * scale[i])\r\n",
        "        \r\n",
        "    return np.dstack(n_data.T)  \r\n",
        "\r\n",
        "def get_keyspoints(x, y):\r\n",
        "    return np.array([cv2.KeyPoint(x[i],y[i],20) for i in range(len(x))])\r\n",
        "\r\n",
        "def sift_descriptor(image, x, y):\r\n",
        "    sift = cv2.xfeatures2d.SIFT_create()\r\n",
        "    _, descriptor = sift.compute(image,keysPoint)\r\n",
        "    return descriptor.reshape(descriptor.shape[0] * descriptor.shape[1])\r\n",
        "\r\n",
        "def sift_matrix(x, y):\r\n",
        "    x_moy, y_moy = moyenne_point_caracteristiques()\r\n",
        "    key_points = get_keyspoints(x_moy, y_moy)\r\n",
        "    return np.array([compute_sift_descriptors(i[0],key_points) for i in data]) \r\n",
        "\r\n",
        "\r\n",
        "random_x = []\r\n",
        "random_y = []\r\n",
        "for i in range(10): \r\n",
        "    x_rand, y_rand = random_perturbation(x, y, plot=True)\r\n",
        "    random_x.append(x_rand)\r\n",
        "    random_y.append(y_rand)"
      ],
      "execution_count": null,
      "outputs": []
    },
    {
      "cell_type": "code",
      "metadata": {
        "id": "Rj4dhTmC-snK"
      },
      "source": [
        "from sklearn.decomposition import PCA\r\n",
        "\r\n",
        "x, y = \r\n",
        "\r\n",
        "\r\n",
        "for i in range(len(landmarks)):\r\n",
        "        x, y = transform_image(i)\r\n",
        "        xmat[:,i] = np.array(x)\r\n",
        "        ymat[:,i] = np.array(y)\r\n",
        "matrix = sift_matrix(h_data)\r\n",
        "\r\n",
        "\r\n",
        "pca = PCA(0.98)\r\n",
        "X = pca.fit(matrix)\r\n",
        "X = pca.transform(matrix)\r\n",
        "\r\n",
        "projection_matrix = pca.components_"
      ],
      "execution_count": null,
      "outputs": []
    },
    {
      "cell_type": "code",
      "metadata": {
        "id": "i8_qa81RuQz8"
      },
      "source": [
        "Ytilde = np.column_stack((X,np.ones(X.shape[0])))\r\n",
        "mean = mean_caracteristics_points(h_data)\r\n",
        "deltaTilde = np.array(list(map(lambda x : np.array(x[1]).flatten() - mean.flatten() , h_data)))\r\n",
        "Ro = np.linalg.inv(Ytilde.T.dot(Ytilde)).dot(Ytilde.T).dot(deltaTilde)\r\n",
        "delta = Ytilde.dot(Ro)\r\n",
        "delta_reshape = delta.reshape((delta.shape[0],68,2))"
      ],
      "execution_count": null,
      "outputs": []
    },
    {
      "cell_type": "code",
      "metadata": {
        "id": "j-Kqo1SguWEW"
      },
      "source": [
        "for j in range(5):\r\n",
        "\r\n",
        "    plt.figure()\r\n",
        "    plt.imshow(h_data[j][0])\r\n",
        "    for k,i in enumerate(mean)  :\r\n",
        "        plt.plot(int(h_data[j][1][k][0]), int(h_data[j][1][k][1]), 'r+')\r\n",
        "        #plt.plot(int(i[0]), int(i[1]), 'b+')\r\n",
        "        plt.plot(int(delta_reshape[j][k][0]) + int(i[0]),int(delta_reshape[j][k][1]) + int(i[1]), 'g+')\r\n",
        "        #print(int(i[0]))\r\n",
        "\r\n",
        "plt.show()"
      ],
      "execution_count": null,
      "outputs": []
    }
  ]
}